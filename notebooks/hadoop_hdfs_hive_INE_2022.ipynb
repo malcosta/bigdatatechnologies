{
  "cells": [
    {
      "cell_type": "markdown",
      "metadata": {
        "id": "mAI8MDUANbqn"
      },
      "source": [
        "# Big Data Technologies @ UCP"
      ]
    },
    {
      "cell_type": "markdown",
      "metadata": {
        "id": "N4EuEOW2uH1r"
      },
      "source": [
        "Welcome to this hands-on class on building Big Data applications using Hadoop,  HDFS, MapReduce and Hive. \n",
        "\n",
        "This Jupyter Notebook exemplifies how to:\n",
        "- [install Java](#install_java)\n",
        "- [install Hadoop](#install_hadoop)\n",
        "- [run HDFS operations](#hdfs)\n",
        "- [install Hive](#install_hive)\n",
        "- [run Hive programs](#hive)\n",
        "- [solve a \"real\" challenge](#challenge)\n"
      ]
    },
    {
      "cell_type": "code",
      "execution_count": 1,
      "metadata": {
        "id": "D5vgDm0KPs7o"
      },
      "outputs": [],
      "source": [
        "# constants\n",
        "HADOOP_VERSION = \"3.3.4\"\n",
        "HADOOP_HOME = \"/usr/local/hadoop-\"+HADOOP_VERSION\n",
        "HIVE_VERSION = \"3.1.2\"\n",
        "HIVE_HOME = \"/usr/local/apache-hive-\"+HIVE_VERSION+\"-bin\"\n",
        "GIT_REPOSITORY = \"/malcosta/bigdatatechnologies\"\n",
        "GIT_FILES = \"https://raw.githubusercontent.com\" + GIT_REPOSITORY + \"/main\""
      ]
    },
    {
      "cell_type": "markdown",
      "source": [
        "# Licensing"
      ],
      "metadata": {
        "id": "u2x-LX3WFdoB"
      }
    },
    {
      "cell_type": "markdown",
      "source": [
        "*The source code in this notebook is licensed under the* [*Apache License, Version 2.0*](https://www.apache.org/licenses/LICENSE-2.0).\n",
        "\n",
        "*This notebook is licensed under the* [*Creative Commons Attribution-NonCommercial-ShareAlike 4.0 License*](https://creativecommons.org/licenses/by-nc-sa/4.0).\n",
        "\n",
        "Developed by [*Miguel Costa*](https://www.linkedin.com/in/migcosta/)"
      ],
      "metadata": {
        "id": "Z77V2zJd4bj7"
      }
    },
    {
      "cell_type": "markdown",
      "metadata": {
        "id": "INOY5FU3V-oI"
      },
      "source": [
        "<a name=\"install_java\"></a>\n",
        "# Java Installation"
      ]
    },
    {
      "cell_type": "markdown",
      "metadata": {
        "id": "WM_5KHWKWJ74"
      },
      "source": [
        "It needs Java version 8 for Hive compatibility"
      ]
    },
    {
      "cell_type": "code",
      "execution_count": 2,
      "metadata": {
        "colab": {
          "base_uri": "https://localhost:8080/"
        },
        "id": "3vTr08g0XSS5",
        "outputId": "1186bc6f-86cb-4b93-cf14-281a2443dc03"
      },
      "outputs": [
        {
          "output_type": "stream",
          "name": "stdout",
          "text": [
            "openjdk version \"11.0.16\" 2022-07-19\n",
            "OpenJDK Runtime Environment (build 11.0.16+8-post-Ubuntu-0ubuntu118.04)\n",
            "OpenJDK 64-Bit Server VM (build 11.0.16+8-post-Ubuntu-0ubuntu118.04, mixed mode, sharing)\n"
          ]
        }
      ],
      "source": [
        "# check current Java version\n",
        "!java -version"
      ]
    },
    {
      "cell_type": "code",
      "execution_count": 3,
      "metadata": {
        "id": "_oCdNSOUaC7f"
      },
      "outputs": [],
      "source": [
        "!apt-get update > /dev/null"
      ]
    },
    {
      "cell_type": "code",
      "execution_count": 4,
      "metadata": {
        "id": "6gNX7qsX3BHj"
      },
      "outputs": [],
      "source": [
        "# install JAVA version 8\n",
        "!apt-get install openjdk-8-jre > /dev/null"
      ]
    },
    {
      "cell_type": "code",
      "execution_count": 5,
      "metadata": {
        "id": "zpNQ7Y7k_7hm"
      },
      "outputs": [],
      "source": [
        "import os\n",
        "os.environ['JAVA_HOME'] = \"/usr/lib/jvm/java-8-openjdk-amd64\"\n",
        "os.environ['PATH'] = os.environ['JAVA_HOME']+\"/bin:\"+os.environ['PATH']"
      ]
    },
    {
      "cell_type": "code",
      "execution_count": 6,
      "metadata": {
        "colab": {
          "base_uri": "https://localhost:8080/"
        },
        "id": "YShPd_uicsNF",
        "outputId": "eebea618-ace4-47e0-960f-996f0e970db6"
      },
      "outputs": [
        {
          "output_type": "stream",
          "name": "stdout",
          "text": [
            "/usr/lib/jvm/java-8-openjdk-amd64\n",
            "/usr/lib/jvm/java-8-openjdk-amd64/bin:/opt/bin:/usr/local/nvidia/bin:/usr/local/cuda/bin:/usr/local/sbin:/usr/local/bin:/usr/sbin:/usr/bin:/sbin:/bin:/tools/node/bin:/tools/google-cloud-sdk/bin\n"
          ]
        }
      ],
      "source": [
        "# check environment variablea\n",
        "!echo $JAVA_HOME\n",
        "!echo $PATH"
      ]
    },
    {
      "cell_type": "code",
      "execution_count": 7,
      "metadata": {
        "colab": {
          "base_uri": "https://localhost:8080/"
        },
        "id": "FvrYdy2-XM8Z",
        "outputId": "13c3f223-e142-47c1-8086-7fa133434553"
      },
      "outputs": [
        {
          "output_type": "stream",
          "name": "stdout",
          "text": [
            "openjdk version \"1.8.0_342\"\n",
            "OpenJDK Runtime Environment (build 1.8.0_342-8u342-b07-0ubuntu1~18.04-b07)\n",
            "OpenJDK 64-Bit Server VM (build 25.342-b07, mixed mode)\n"
          ]
        }
      ],
      "source": [
        "!java -version"
      ]
    },
    {
      "cell_type": "markdown",
      "metadata": {
        "id": "CaW7ViKZt8Zp"
      },
      "source": [
        "<a name=\"install_hadoop\"></a>\n",
        "# Hadoop Installation (Single Node)"
      ]
    },
    {
      "cell_type": "code",
      "execution_count": 8,
      "metadata": {
        "colab": {
          "base_uri": "https://localhost:8080/"
        },
        "id": "goLfbpELP6Ai",
        "outputId": "c605ecd6-a08c-418d-992d-be830bc17ebc"
      },
      "outputs": [
        {
          "output_type": "stream",
          "name": "stdout",
          "text": [
            "--2022-10-18 21:20:11--  https://downloads.apache.org/hadoop/common/hadoop-3.3.4/hadoop-3.3.4.tar.gz\n",
            "Resolving downloads.apache.org (downloads.apache.org)... 135.181.214.104, 88.99.95.219, 2a01:4f9:3a:2c57::2, ...\n",
            "Connecting to downloads.apache.org (downloads.apache.org)|135.181.214.104|:443... connected.\n",
            "HTTP request sent, awaiting response... 200 OK\n",
            "Length: 695457782 (663M) [application/x-gzip]\n",
            "Saving to: ‘hadoop-3.3.4.tar.gz’\n",
            "\n",
            "hadoop-3.3.4.tar.gz 100%[===================>] 663.24M  28.5MB/s    in 24s     \n",
            "\n",
            "2022-10-18 21:20:36 (27.6 MB/s) - ‘hadoop-3.3.4.tar.gz’ saved [695457782/695457782]\n",
            "\n"
          ]
        }
      ],
      "source": [
        "# download hadoop (check last version at https://hadoop.apache.org/releases.html)\n",
        "!wget https://downloads.apache.org/hadoop/common/hadoop-{HADOOP_VERSION}/hadoop-{HADOOP_VERSION}.tar.gz"
      ]
    },
    {
      "cell_type": "code",
      "execution_count": 9,
      "metadata": {
        "id": "uRUwLEcWu_j7"
      },
      "outputs": [],
      "source": [
        "# uncompress hadoop file\n",
        "!tar -xzvf hadoop-{HADOOP_VERSION}.tar.gz > /dev/null"
      ]
    },
    {
      "cell_type": "code",
      "execution_count": 10,
      "metadata": {
        "id": "FuEdet3uvHKc"
      },
      "outputs": [],
      "source": [
        "# move hadoop directory\n",
        "!mv hadoop-{HADOOP_VERSION}/ /usr/local/"
      ]
    },
    {
      "cell_type": "code",
      "execution_count": 11,
      "metadata": {
        "id": "cfF-ZQHv-WLI"
      },
      "outputs": [],
      "source": [
        "# set HADOOP_HOME environment variable\n",
        "os.environ['HADOOP_HOME'] = HADOOP_HOME"
      ]
    },
    {
      "cell_type": "code",
      "execution_count": 12,
      "metadata": {
        "colab": {
          "base_uri": "https://localhost:8080/"
        },
        "id": "vdCERdQ--sui",
        "outputId": "77c66be7-7262-4519-ab17-0e64cf20bbfe"
      },
      "outputs": [
        {
          "output_type": "stream",
          "name": "stdout",
          "text": [
            "/usr/local/hadoop-3.3.4\n"
          ]
        }
      ],
      "source": [
        "# check environment variable\n",
        "!echo $HADOOP_HOME"
      ]
    },
    {
      "cell_type": "code",
      "execution_count": 13,
      "metadata": {
        "colab": {
          "base_uri": "https://localhost:8080/"
        },
        "id": "Vfqj22shy98c",
        "outputId": "752466f6-e58d-4928-c340-43b4f7f8f915"
      },
      "outputs": [
        {
          "output_type": "stream",
          "name": "stdout",
          "text": [
            "Usage: hadoop [OPTIONS] SUBCOMMAND [SUBCOMMAND OPTIONS]\n",
            " or    hadoop [OPTIONS] CLASSNAME [CLASSNAME OPTIONS]\n",
            "  where CLASSNAME is a user-provided Java class\n",
            "\n",
            "  OPTIONS is none or any of:\n",
            "\n",
            "buildpaths                       attempt to add class files from build tree\n",
            "--config dir                     Hadoop config directory\n",
            "--debug                          turn on shell script debug mode\n",
            "--help                           usage information\n",
            "hostnames list[,of,host,names]   hosts to use in slave mode\n",
            "hosts filename                   list of hosts to use in slave mode\n",
            "loglevel level                   set the log4j level for this command\n",
            "workers                          turn on worker mode\n",
            "\n",
            "  SUBCOMMAND is one of:\n",
            "\n",
            "\n",
            "    Admin Commands:\n",
            "\n",
            "daemonlog     get/set the log level for each daemon\n",
            "\n",
            "    Client Commands:\n",
            "\n",
            "archive       create a Hadoop archive\n",
            "checknative   check native Hadoop and compression libraries availability\n",
            "classpath     prints the class path needed to get the Hadoop jar and the\n",
            "              required libraries\n",
            "conftest      validate configuration XML files\n",
            "credential    interact with credential providers\n",
            "distch        distributed metadata changer\n",
            "distcp        copy file or directories recursively\n",
            "dtutil        operations related to delegation tokens\n",
            "envvars       display computed Hadoop environment variables\n",
            "fs            run a generic filesystem user client\n",
            "gridmix       submit a mix of synthetic job, modeling a profiled from\n",
            "              production load\n",
            "jar <jar>     run a jar file. NOTE: please use \"yarn jar\" to launch YARN\n",
            "              applications, not this command.\n",
            "jnipath       prints the java.library.path\n",
            "kdiag         Diagnose Kerberos Problems\n",
            "kerbname      show auth_to_local principal conversion\n",
            "key           manage keys via the KeyProvider\n",
            "rumenfolder   scale a rumen input trace\n",
            "rumentrace    convert logs into a rumen trace\n",
            "s3guard       manage metadata on S3\n",
            "trace         view and modify Hadoop tracing settings\n",
            "version       print the version\n",
            "\n",
            "    Daemon Commands:\n",
            "\n",
            "kms           run KMS, the Key Management Server\n",
            "registrydns   run the registry DNS server\n",
            "\n",
            "SUBCOMMAND may print help when invoked w/o parameters or with -h.\n"
          ]
        }
      ],
      "source": [
        "# see list of Hadoop commands\n",
        "!{HADOOP_HOME}/bin/hadoop"
      ]
    },
    {
      "cell_type": "code",
      "execution_count": 14,
      "metadata": {
        "colab": {
          "base_uri": "https://localhost:8080/"
        },
        "id": "-SGkIYlGq1Sb",
        "outputId": "4f39e843-e002-4fdb-dc09-e588b5a915a6"
      },
      "outputs": [
        {
          "output_type": "stream",
          "name": "stdout",
          "text": [
            "Hadoop 3.3.4\n",
            "Source code repository https://github.com/apache/hadoop.git -r a585a73c3e02ac62350c136643a5e7f6095a3dbb\n",
            "Compiled by stevel on 2022-07-29T12:32Z\n",
            "Compiled with protoc 3.7.1\n",
            "From source with checksum fb9dd8918a7b8a5b430d61af858f6ec\n",
            "This command was run using /usr/local/hadoop-3.3.4/share/hadoop/common/hadoop-common-3.3.4.jar\n"
          ]
        }
      ],
      "source": [
        "# see Hadoop version\n",
        "!{HADOOP_HOME}/bin/hadoop version"
      ]
    },
    {
      "cell_type": "code",
      "execution_count": 15,
      "metadata": {
        "colab": {
          "base_uri": "https://localhost:8080/"
        },
        "id": "PmmHm9Jkn_pm",
        "outputId": "2985ac80-410f-4398-ed1f-0e7279e16715"
      },
      "outputs": [
        {
          "output_type": "stream",
          "name": "stdout",
          "text": [
            "JAVA_HOME='/usr/lib/jvm/java-8-openjdk-amd64'\n",
            "HADOOP_COMMON_HOME='/usr/local/hadoop-3.3.4'\n",
            "HADOOP_COMMON_DIR='share/hadoop/common'\n",
            "HADOOP_COMMON_LIB_JARS_DIR='share/hadoop/common/lib'\n",
            "HADOOP_COMMON_LIB_NATIVE_DIR='lib/native'\n",
            "HADOOP_CONF_DIR='/usr/local/hadoop-3.3.4/etc/hadoop'\n",
            "HADOOP_TOOLS_HOME='/usr/local/hadoop-3.3.4'\n",
            "HADOOP_TOOLS_DIR='share/hadoop/tools'\n",
            "HADOOP_TOOLS_LIB_JARS_DIR='share/hadoop/tools/lib'\n"
          ]
        }
      ],
      "source": [
        "# see Hadoop environment variables \n",
        "!{HADOOP_HOME}/bin/hadoop envvars"
      ]
    },
    {
      "cell_type": "markdown",
      "metadata": {
        "id": "ThMjjAy_x0kp"
      },
      "source": [
        "<a name=\"hdfs\"></a>\n",
        "# HDFS Operations"
      ]
    },
    {
      "cell_type": "code",
      "execution_count": 16,
      "metadata": {
        "colab": {
          "base_uri": "https://localhost:8080/"
        },
        "id": "N_hmKjT4_sG6",
        "outputId": "244a070c-fd30-4e72-c2bb-a9e0100b0c0a"
      },
      "outputs": [
        {
          "output_type": "stream",
          "name": "stdout",
          "text": [
            "Usage: hdfs [OPTIONS] SUBCOMMAND [SUBCOMMAND OPTIONS]\n",
            "\n",
            "  OPTIONS is none or any of:\n",
            "\n",
            "--buildpaths                       attempt to add class files from build tree\n",
            "--config dir                       Hadoop config directory\n",
            "--daemon (start|status|stop)       operate on a daemon\n",
            "--debug                            turn on shell script debug mode\n",
            "--help                             usage information\n",
            "--hostnames list[,of,host,names]   hosts to use in worker mode\n",
            "--hosts filename                   list of hosts to use in worker mode\n",
            "--loglevel level                   set the log4j level for this command\n",
            "--workers                          turn on worker mode\n",
            "\n",
            "  SUBCOMMAND is one of:\n",
            "\n",
            "\n",
            "    Admin Commands:\n",
            "\n",
            "cacheadmin           configure the HDFS cache\n",
            "crypto               configure HDFS encryption zones\n",
            "debug                run a Debug Admin to execute HDFS debug commands\n",
            "dfsadmin             run a DFS admin client\n",
            "dfsrouteradmin       manage Router-based federation\n",
            "ec                   run a HDFS ErasureCoding CLI\n",
            "fsck                 run a DFS filesystem checking utility\n",
            "haadmin              run a DFS HA admin client\n",
            "jmxget               get JMX exported values from NameNode or DataNode.\n",
            "oev                  apply the offline edits viewer to an edits file\n",
            "oiv                  apply the offline fsimage viewer to an fsimage\n",
            "oiv_legacy           apply the offline fsimage viewer to a legacy fsimage\n",
            "storagepolicies      list/get/set/satisfyStoragePolicy block storage policies\n",
            "\n",
            "    Client Commands:\n",
            "\n",
            "classpath            prints the class path needed to get the hadoop jar and\n",
            "                     the required libraries\n",
            "dfs                  run a filesystem command on the file system\n",
            "envvars              display computed Hadoop environment variables\n",
            "fetchdt              fetch a delegation token from the NameNode\n",
            "getconf              get config values from configuration\n",
            "groups               get the groups which users belong to\n",
            "lsSnapshottableDir   list all snapshottable dirs owned by the current user\n",
            "snapshotDiff         diff two snapshots of a directory or diff the current\n",
            "                     directory contents with a snapshot\n",
            "version              print the version\n",
            "\n",
            "    Daemon Commands:\n",
            "\n",
            "balancer             run a cluster balancing utility\n",
            "datanode             run a DFS datanode\n",
            "dfsrouter            run the DFS router\n",
            "diskbalancer         Distributes data evenly among disks on a given node\n",
            "httpfs               run HttpFS server, the HDFS HTTP Gateway\n",
            "journalnode          run the DFS journalnode\n",
            "mover                run a utility to move block replicas across storage types\n",
            "namenode             run the DFS namenode\n",
            "nfs3                 run an NFS version 3 gateway\n",
            "portmap              run a portmap service\n",
            "secondarynamenode    run the DFS secondary namenode\n",
            "sps                  run external storagepolicysatisfier\n",
            "zkfc                 run the ZK Failover Controller daemon\n",
            "\n",
            "SUBCOMMAND may print help when invoked w/o parameters or with -h.\n"
          ]
        }
      ],
      "source": [
        "# see list of HDFS commands\n",
        "!{HADOOP_HOME}/bin/hdfs"
      ]
    },
    {
      "cell_type": "code",
      "execution_count": 17,
      "metadata": {
        "id": "FTPs9XbV_SIJ"
      },
      "outputs": [],
      "source": [
        "# format namenode\n",
        "#!{HADOOP_HOME}/bin/hdfs namenode -format"
      ]
    },
    {
      "cell_type": "code",
      "execution_count": 18,
      "metadata": {
        "id": "jdacAUQfANL-"
      },
      "outputs": [],
      "source": [
        "# start the namenode and datanodes (and YARN)\n",
        "#!nohup {HADOOP_HOME}/sbin/start-all.sh\t&"
      ]
    },
    {
      "cell_type": "code",
      "execution_count": 19,
      "metadata": {
        "colab": {
          "base_uri": "https://localhost:8080/"
        },
        "id": "KIIFznFk5Km2",
        "outputId": "d3f1dd4c-b15c-4b06-ba2f-a05454015b80"
      },
      "outputs": [
        {
          "output_type": "stream",
          "name": "stdout",
          "text": [
            "Usage: hadoop fs [generic options]\n",
            "\t[-appendToFile <localsrc> ... <dst>]\n",
            "\t[-cat [-ignoreCrc] <src> ...]\n",
            "\t[-checksum [-v] <src> ...]\n",
            "\t[-chgrp [-R] GROUP PATH...]\n",
            "\t[-chmod [-R] <MODE[,MODE]... | OCTALMODE> PATH...]\n",
            "\t[-chown [-R] [OWNER][:[GROUP]] PATH...]\n",
            "\t[-concat <target path> <src path> <src path> ...]\n",
            "\t[-copyFromLocal [-f] [-p] [-l] [-d] [-t <thread count>] [-q <thread pool queue size>] <localsrc> ... <dst>]\n",
            "\t[-copyToLocal [-f] [-p] [-crc] [-ignoreCrc] [-t <thread count>] [-q <thread pool queue size>] <src> ... <localdst>]\n",
            "\t[-count [-q] [-h] [-v] [-t [<storage type>]] [-u] [-x] [-e] [-s] <path> ...]\n",
            "\t[-cp [-f] [-p | -p[topax]] [-d] [-t <thread count>] [-q <thread pool queue size>] <src> ... <dst>]\n",
            "\t[-createSnapshot <snapshotDir> [<snapshotName>]]\n",
            "\t[-deleteSnapshot <snapshotDir> <snapshotName>]\n",
            "\t[-df [-h] [<path> ...]]\n",
            "\t[-du [-s] [-h] [-v] [-x] <path> ...]\n",
            "\t[-expunge [-immediate] [-fs <path>]]\n",
            "\t[-find <path> ... <expression> ...]\n",
            "\t[-get [-f] [-p] [-crc] [-ignoreCrc] [-t <thread count>] [-q <thread pool queue size>] <src> ... <localdst>]\n",
            "\t[-getfacl [-R] <path>]\n",
            "\t[-getfattr [-R] {-n name | -d} [-e en] <path>]\n",
            "\t[-getmerge [-nl] [-skip-empty-file] <src> <localdst>]\n",
            "\t[-head <file>]\n",
            "\t[-help [cmd ...]]\n",
            "\t[-ls [-C] [-d] [-h] [-q] [-R] [-t] [-S] [-r] [-u] [-e] [<path> ...]]\n",
            "\t[-mkdir [-p] <path> ...]\n",
            "\t[-moveFromLocal [-f] [-p] [-l] [-d] <localsrc> ... <dst>]\n",
            "\t[-moveToLocal <src> <localdst>]\n",
            "\t[-mv <src> ... <dst>]\n",
            "\t[-put [-f] [-p] [-l] [-d] [-t <thread count>] [-q <thread pool queue size>] <localsrc> ... <dst>]\n",
            "\t[-renameSnapshot <snapshotDir> <oldName> <newName>]\n",
            "\t[-rm [-f] [-r|-R] [-skipTrash] [-safely] <src> ...]\n",
            "\t[-rmdir [--ignore-fail-on-non-empty] <dir> ...]\n",
            "\t[-setfacl [-R] [{-b|-k} {-m|-x <acl_spec>} <path>]|[--set <acl_spec> <path>]]\n",
            "\t[-setfattr {-n name [-v value] | -x name} <path>]\n",
            "\t[-setrep [-R] [-w] <rep> <path> ...]\n",
            "\t[-stat [format] <path> ...]\n",
            "\t[-tail [-f] [-s <sleep interval>] <file>]\n",
            "\t[-test -[defswrz] <path>]\n",
            "\t[-text [-ignoreCrc] <src> ...]\n",
            "\t[-touch [-a] [-m] [-t TIMESTAMP (yyyyMMdd:HHmmss) ] [-c] <path> ...]\n",
            "\t[-touchz <path> ...]\n",
            "\t[-truncate [-w] <length> <path> ...]\n",
            "\t[-usage [cmd ...]]\n",
            "\n",
            "Generic options supported are:\n",
            "-conf <configuration file>        specify an application configuration file\n",
            "-D <property=value>               define a value for a given property\n",
            "-fs <file:///|hdfs://namenode:port> specify default filesystem URL to use, overrides 'fs.defaultFS' property from configurations.\n",
            "-jt <local|resourcemanager:port>  specify a ResourceManager\n",
            "-files <file1,...>                specify a comma-separated list of files to be copied to the map reduce cluster\n",
            "-libjars <jar1,...>               specify a comma-separated list of jar files to be included in the classpath\n",
            "-archives <archive1,...>          specify a comma-separated list of archives to be unarchived on the compute machines\n",
            "\n",
            "The general command line syntax is:\n",
            "command [genericOptions] [commandOptions]\n",
            "\n"
          ]
        }
      ],
      "source": [
        "# see the list of filesystem commands available on HDFS:\n",
        "!{HADOOP_HOME}/bin/hdfs dfs"
      ]
    },
    {
      "cell_type": "code",
      "execution_count": 20,
      "metadata": {
        "colab": {
          "base_uri": "https://localhost:8080/"
        },
        "id": "Vethr2mD_7A8",
        "outputId": "4eb7074b-71d4-4c9b-9cf8-d115d13b7428"
      },
      "outputs": [
        {
          "output_type": "stream",
          "name": "stdout",
          "text": [
            "/usr/local/hadoop-3.3.4/LICENSE.txt  /usr/local/hadoop-3.3.4/README.txt\n",
            "/usr/local/hadoop-3.3.4/NOTICE.txt\n"
          ]
        }
      ],
      "source": [
        "# list txt files (examples) in local file system\n",
        "!ls {HADOOP_HOME}/*.txt"
      ]
    },
    {
      "cell_type": "code",
      "execution_count": 21,
      "metadata": {
        "id": "yVo6DX_CeNQp"
      },
      "outputs": [],
      "source": [
        "# create 2 new directories in HDFS\n",
        "!{HADOOP_HOME}/bin/hdfs dfs -mkdir ~/input1/\n",
        "!{HADOOP_HOME}/bin/hdfs dfs -mkdir ~/input2/"
      ]
    },
    {
      "cell_type": "code",
      "execution_count": 22,
      "metadata": {
        "id": "HV0ocUBXEbaE"
      },
      "outputs": [],
      "source": [
        "# copy input (txt) files from local file system to HDFS input directory\n",
        "!{HADOOP_HOME}/bin/hdfs dfs -copyFromLocal {HADOOP_HOME}/*.txt ~/input1/"
      ]
    },
    {
      "cell_type": "code",
      "execution_count": 23,
      "metadata": {
        "id": "J-AvywaIXOt_"
      },
      "outputs": [],
      "source": [
        "# copy input (txt) files between HDFS directories\n",
        "!{HADOOP_HOME}/bin/hdfs dfs -cp ~/input1/* ~/input2/"
      ]
    },
    {
      "cell_type": "code",
      "execution_count": 24,
      "metadata": {
        "colab": {
          "base_uri": "https://localhost:8080/"
        },
        "id": "WwWit5OWEb0q",
        "outputId": "983937ef-86ba-4f2a-afc6-a0583de86625"
      },
      "outputs": [
        {
          "output_type": "stream",
          "name": "stdout",
          "text": [
            "Found 3 items\n",
            "-rw-r--r--   1 root root      15217 2022-10-18 21:21 /root/input1/LICENSE.txt\n",
            "-rw-r--r--   1 root root       1541 2022-10-18 21:21 /root/input1/NOTICE.txt\n",
            "-rw-r--r--   1 root root        175 2022-10-18 21:21 /root/input1/README.txt\n",
            "Found 3 items\n",
            "-rw-r--r--   1 root root      15217 2022-10-18 21:21 /root/input2/LICENSE.txt\n",
            "-rw-r--r--   1 root root       1541 2022-10-18 21:21 /root/input2/NOTICE.txt\n",
            "-rw-r--r--   1 root root        175 2022-10-18 21:21 /root/input2/README.txt\n"
          ]
        }
      ],
      "source": [
        "# list txt files in HDFS directories\n",
        "!{HADOOP_HOME}/bin/hdfs dfs -ls ~/input1/ ~/input2/"
      ]
    },
    {
      "cell_type": "code",
      "execution_count": 25,
      "metadata": {
        "colab": {
          "base_uri": "https://localhost:8080/"
        },
        "id": "BWyH5VJsGHU3",
        "outputId": "0cba4b68-8495-4863-fd57-e46a8ef10708"
      },
      "outputs": [
        {
          "output_type": "stream",
          "name": "stdout",
          "text": [
            "2022-10-18 21:21:15,539 INFO Configuration.deprecation: io.bytes.per.checksum is deprecated. Instead, use dfs.bytes-per-checksum\n",
            "Deleted /root/input1/LICENSE.txt\n",
            "Found 2 items\n",
            "-rw-r--r--   1 root root       1541 2022-10-18 21:21 /root/input1/NOTICE.txt\n",
            "-rw-r--r--   1 root root        175 2022-10-18 21:21 /root/input1/README.txt\n"
          ]
        }
      ],
      "source": [
        "# delete file in HDFS\n",
        "!{HADOOP_HOME}/bin/hdfs dfs -rm -r ~/input1/LICENSE.txt\n",
        "!{HADOOP_HOME}/bin/hdfs dfs -ls ~/input1/"
      ]
    },
    {
      "cell_type": "code",
      "execution_count": 26,
      "metadata": {
        "colab": {
          "base_uri": "https://localhost:8080/"
        },
        "id": "VeoFxtu6Gab2",
        "outputId": "8e14026f-550c-468a-e03d-45d6ec5a2742"
      },
      "outputs": [
        {
          "output_type": "stream",
          "name": "stdout",
          "text": [
            "2022-10-18 21:21:21,311 INFO Configuration.deprecation: io.bytes.per.checksum is deprecated. Instead, use dfs.bytes-per-checksum\n",
            "Deleted /root/input1\n"
          ]
        }
      ],
      "source": [
        "# delete directory recursively in HDFS\n",
        "!{HADOOP_HOME}/bin/hdfs dfs -rm -r ~/input1/"
      ]
    },
    {
      "cell_type": "code",
      "source": [
        "# list txt files in HDFS directories\n",
        "!{HADOOP_HOME}/bin/hdfs dfs -ls ~/input1/ ~/input2/"
      ],
      "metadata": {
        "colab": {
          "base_uri": "https://localhost:8080/"
        },
        "id": "Q4CeqP677y0-",
        "outputId": "e880de66-a41e-4df6-de38-819132e31ecd"
      },
      "execution_count": 27,
      "outputs": [
        {
          "output_type": "stream",
          "name": "stdout",
          "text": [
            "ls: `/root/input1/': No such file or directory\n",
            "Found 3 items\n",
            "-rw-r--r--   1 root root      15217 2022-10-18 21:21 /root/input2/LICENSE.txt\n",
            "-rw-r--r--   1 root root       1541 2022-10-18 21:21 /root/input2/NOTICE.txt\n",
            "-rw-r--r--   1 root root        175 2022-10-18 21:21 /root/input2/README.txt\n"
          ]
        }
      ]
    },
    {
      "cell_type": "code",
      "execution_count": 28,
      "metadata": {
        "colab": {
          "base_uri": "https://localhost:8080/"
        },
        "id": "LshgSwpq3c3Q",
        "outputId": "a03820fb-96bb-4655-c164-b952e8caf427"
      },
      "outputs": [
        {
          "output_type": "stream",
          "name": "stdout",
          "text": [
            "For the latest information about Hadoop, please visit our website at:\n",
            "\n",
            "   http://hadoop.apache.org/\n",
            "\n",
            "and our wiki, at:\n",
            "\n",
            "   https://cwiki.apache.org/confluence/display/HADOOP/\n"
          ]
        }
      ],
      "source": [
        "# show file content\n",
        "!{HADOOP_HOME}/bin/hdfs dfs -cat ~/input2/README.txt"
      ]
    },
    {
      "cell_type": "code",
      "execution_count": 29,
      "metadata": {
        "colab": {
          "base_uri": "https://localhost:8080/"
        },
        "id": "aFPMe7pCA_7u",
        "outputId": "acce17c8-7849-4ff7-e7b7-305a439d03c7"
      },
      "outputs": [
        {
          "output_type": "stream",
          "name": "stdout",
          "text": [
            "175  175  /root/input2/README.txt\n"
          ]
        }
      ],
      "source": [
        "# show file size\n",
        "!{HADOOP_HOME}/bin/hdfs dfs -du -h ~/input2/README.txt"
      ]
    },
    {
      "cell_type": "code",
      "execution_count": 30,
      "metadata": {
        "colab": {
          "base_uri": "https://localhost:8080/"
        },
        "id": "_f-6RBsrD35V",
        "outputId": "4d811188-45f0-4995-b7ad-625544498d7f"
      },
      "outputs": [
        {
          "output_type": "stream",
          "name": "stdout",
          "text": [
            "LICENSE.txt  NOTICE.txt  README.txt\n"
          ]
        }
      ],
      "source": [
        "# create local directory\n",
        "!mkdir ~/local1\n",
        "\n",
        "# copy input (txt) files from HDFS directory to local file system\n",
        "!{HADOOP_HOME}/bin/hdfs dfs -copyToLocal ~/input2/* ~/local1/\n",
        "\n",
        "# list local directory\n",
        "!ls ~/local1/"
      ]
    },
    {
      "cell_type": "markdown",
      "metadata": {
        "id": "q8vqQOwZCC3U"
      },
      "source": [
        "<a name=\"install_hive\"></a>\n",
        "# Hive Installation"
      ]
    },
    {
      "cell_type": "code",
      "execution_count": 31,
      "metadata": {
        "colab": {
          "base_uri": "https://localhost:8080/"
        },
        "id": "Gx8J3LhzCEKN",
        "outputId": "70f4c806-21a6-44cf-84bb-58aba7d3c2df"
      },
      "outputs": [
        {
          "output_type": "stream",
          "name": "stdout",
          "text": [
            "--2022-10-18 21:21:49--  https://dlcdn.apache.org/hive/hive-3.1.2/apache-hive-3.1.2-bin.tar.gz\n",
            "Resolving dlcdn.apache.org (dlcdn.apache.org)... 151.101.2.132, 2a04:4e42::644\n",
            "Connecting to dlcdn.apache.org (dlcdn.apache.org)|151.101.2.132|:443... connected.\n",
            "HTTP request sent, awaiting response... 200 OK\n",
            "Length: 278813748 (266M) [application/x-gzip]\n",
            "Saving to: ‘apache-hive-3.1.2-bin.tar.gz’\n",
            "\n",
            "apache-hive-3.1.2-b 100%[===================>] 265.90M   239MB/s    in 1.1s    \n",
            "\n",
            "2022-10-18 21:21:57 (239 MB/s) - ‘apache-hive-3.1.2-bin.tar.gz’ saved [278813748/278813748]\n",
            "\n"
          ]
        }
      ],
      "source": [
        "# download hive (check last version at https://dlcdn.apache.org/hive/)\n",
        "!wget https://dlcdn.apache.org/hive/hive-{HIVE_VERSION}/apache-hive-{HIVE_VERSION}-bin.tar.gz"
      ]
    },
    {
      "cell_type": "code",
      "execution_count": 32,
      "metadata": {
        "id": "ARGgFw13tCSM"
      },
      "outputs": [],
      "source": [
        "# uncompress file\n",
        "!tar -xzvf apache-hive-{HIVE_VERSION}-bin.tar.gz > /dev/null"
      ]
    },
    {
      "cell_type": "code",
      "execution_count": 33,
      "metadata": {
        "id": "lyeOgjJNtMRV"
      },
      "outputs": [],
      "source": [
        "# move hive directory\n",
        "!mv apache-hive-{HIVE_VERSION}-bin/ /usr/local/"
      ]
    },
    {
      "cell_type": "code",
      "execution_count": 34,
      "metadata": {
        "colab": {
          "base_uri": "https://localhost:8080/"
        },
        "id": "bkdmS79PZZIo",
        "outputId": "249c41e1-df80-4c8a-98df-d050b3bc69fa"
      },
      "outputs": [
        {
          "output_type": "stream",
          "name": "stdout",
          "text": [
            "--2022-10-18 21:22:01--  https://raw.githubusercontent.com/malcosta/bigdatatechnologies/main/setup/hive-default.xml.template\n",
            "Resolving raw.githubusercontent.com (raw.githubusercontent.com)... 185.199.109.133, 185.199.108.133, 185.199.110.133, ...\n",
            "Connecting to raw.githubusercontent.com (raw.githubusercontent.com)|185.199.109.133|:443... connected.\n",
            "HTTP request sent, awaiting response... 200 OK\n",
            "Length: 300685 (294K) [text/plain]\n",
            "Saving to: ‘/usr/local/apache-hive-3.1.2-bin/conf/hive-site.xml’\n",
            "\n",
            "\r          /usr/loca   0%[                    ]       0  --.-KB/s               \r/usr/local/apache-h 100%[===================>] 293.64K  --.-KB/s    in 0.005s  \n",
            "\n",
            "2022-10-18 21:22:01 (54.9 MB/s) - ‘/usr/local/apache-hive-3.1.2-bin/conf/hive-site.xml’ saved [300685/300685]\n",
            "\n"
          ]
        }
      ],
      "source": [
        "# download hive-site.xml\n",
        "!wget {GIT_FILES}/setup/hive-default.xml.template -O {HIVE_HOME}/conf/hive-site.xml # the original file has a charset problem"
      ]
    },
    {
      "cell_type": "code",
      "execution_count": 35,
      "metadata": {
        "id": "mC29cYq_ttzg"
      },
      "outputs": [],
      "source": [
        "# set HIVE_HOME environment variable\n",
        "os.environ['HIVE_HOME'] = HIVE_HOME\n",
        "os.environ['PATH'] = os.environ['PATH']+\":\"+os.environ['HIVE_HOME']+\"/bin\""
      ]
    },
    {
      "cell_type": "code",
      "execution_count": 36,
      "metadata": {
        "colab": {
          "base_uri": "https://localhost:8080/"
        },
        "id": "s5_BAy9DvjvX",
        "outputId": "0a973bd0-e447-4a42-9fa5-9adf7720dfde"
      },
      "outputs": [
        {
          "output_type": "stream",
          "name": "stdout",
          "text": [
            "mkdir: `/tmp': File exists\n"
          ]
        }
      ],
      "source": [
        "# setup HIVE directories in HDFS\n",
        "!{HADOOP_HOME}/bin/hdfs dfs -mkdir /tmp\n",
        "!{HADOOP_HOME}/bin/hdfs dfs -mkdir -p /user/hive/warehouse\n",
        "!{HADOOP_HOME}/bin/hdfs dfs -chmod g+w /tmp\n",
        "!{HADOOP_HOME}/bin/hdfs dfs -chmod g+w /user/hive/warehouse"
      ]
    },
    {
      "cell_type": "code",
      "execution_count": 37,
      "metadata": {
        "colab": {
          "base_uri": "https://localhost:8080/"
        },
        "id": "wLs8-BoPzUtw",
        "outputId": "f7ed00d3-97ea-4ccb-e05c-3bb1eeeadbd7"
      },
      "outputs": [
        {
          "output_type": "stream",
          "name": "stdout",
          "text": [
            "SLF4J: Class path contains multiple SLF4J bindings.\n",
            "SLF4J: Found binding in [jar:file:/usr/local/apache-hive-3.1.2-bin/lib/log4j-slf4j-impl-2.10.0.jar!/org/slf4j/impl/StaticLoggerBinder.class]\n",
            "SLF4J: Found binding in [jar:file:/usr/local/hadoop-3.3.4/share/hadoop/common/lib/slf4j-reload4j-1.7.36.jar!/org/slf4j/impl/StaticLoggerBinder.class]\n",
            "SLF4J: See http://www.slf4j.org/codes.html#multiple_bindings for an explanation.\n",
            "SLF4J: Actual binding is of type [org.apache.logging.slf4j.Log4jLoggerFactory]\n",
            "Metastore connection URL:\t jdbc:derby:;databaseName=metastore_db;create=true\n",
            "Metastore Connection Driver :\t org.apache.derby.jdbc.EmbeddedDriver\n",
            "Metastore connection User:\t APP\n",
            "Starting metastore schema initialization to 3.1.0\n",
            "Initialization script hive-schema-3.1.0.derby.sql\n",
            "\n",
            " \n",
            " \n",
            " \n",
            " \n",
            " \n",
            " \n",
            " \n",
            "\n",
            " \n",
            "\n",
            " \n",
            " \n",
            " \n",
            " \n",
            " \n",
            " \n",
            " \n",
            " \n",
            " \n",
            " \n",
            " \n",
            " \n",
            " \n",
            " \n",
            " \n",
            " \n",
            " \n",
            " \n",
            " \n",
            " \n",
            " \n",
            " \n",
            " \n",
            " \n",
            " \n",
            "\n",
            " \n",
            " \n",
            " \n",
            " \n",
            " \n",
            " \n",
            " \n",
            " \n",
            " \n",
            " \n",
            " \n",
            " \n",
            " \n",
            " \n",
            " \n",
            " \n",
            " \n",
            " \n",
            " \n",
            " \n",
            " \n",
            " \n",
            "\n",
            " \n",
            " \n",
            " \n",
            " \n",
            " \n",
            " \n",
            " \n",
            " \n",
            "\n",
            " \n",
            "\n",
            " \n",
            " \n",
            " \n",
            "\n",
            " \n",
            " \n",
            " \n",
            "\n",
            "\n",
            " \n",
            " \n",
            " \n",
            "\n",
            " \n",
            " \n",
            " \n",
            "\n",
            "\n",
            " \n",
            " \n",
            " \n",
            " \n",
            " \n",
            " \n",
            " \n",
            "\n",
            "\n",
            " \n",
            " \n",
            " \n",
            "\n",
            " \n",
            " \n",
            " \n",
            "\n",
            " \n",
            " \n",
            "\n",
            " \n",
            " \n",
            " \n",
            " \n",
            " \n",
            "\n",
            " \n",
            " \n",
            " \n",
            " \n",
            " \n",
            " \n",
            " \n",
            " \n",
            " \n",
            " \n",
            " \n",
            " \n",
            "\n",
            " \n",
            " \n",
            " \n",
            " \n",
            " \n",
            " \n",
            "\n",
            " \n",
            " \n",
            " \n",
            " \n",
            " \n",
            " \n",
            " \n",
            " \n",
            " \n",
            " \n",
            " \n",
            " \n",
            " \n",
            " \n",
            " \n",
            " \n",
            " \n",
            " \n",
            " \n",
            " \n",
            " \n",
            " \n",
            " \n",
            " \n",
            " \n",
            " \n",
            " \n",
            " \n",
            " \n",
            " \n",
            " \n",
            " \n",
            " \n",
            " \n",
            " \n",
            " \n",
            " \n",
            "\n",
            " \n",
            " \n",
            " \n",
            "\n",
            " \n",
            " \n",
            " \n",
            " \n",
            " \n",
            " \n",
            " \n",
            " \n",
            " \n",
            " \n",
            " \n",
            " \n",
            " \n",
            " \n",
            " \n",
            " \n",
            "\n",
            " \n",
            " \n",
            "\n",
            "\n",
            " \n",
            "\n",
            "\n",
            "\n",
            " \n",
            "\n",
            "\n",
            " \n",
            " \n",
            " \n",
            " \n",
            " \n",
            " \n",
            " \n",
            " \n",
            " \n",
            "\n",
            " \n",
            " \n",
            " \n",
            " \n",
            " \n",
            " \n",
            "\n",
            " \n",
            "\n",
            "\n",
            "Initialization script completed\n",
            "schemaTool completed\n"
          ]
        }
      ],
      "source": [
        "# initiate Derby Database\n",
        "!{HIVE_HOME}/bin/schematool -dbType derby -initSchema"
      ]
    },
    {
      "cell_type": "markdown",
      "metadata": {
        "id": "LAfHV8va3uqe"
      },
      "source": [
        "<a name=\"hive\"></a>\n",
        "# Hive Programs"
      ]
    },
    {
      "cell_type": "markdown",
      "metadata": {
        "id": "CNzNql57AVtC"
      },
      "source": [
        "### Hive Word Count"
      ]
    },
    {
      "cell_type": "code",
      "execution_count": 44,
      "metadata": {
        "colab": {
          "base_uri": "https://localhost:8080/"
        },
        "id": "O7GMueMaAgRo",
        "outputId": "c64c7178-0d8b-4a2e-f341-7121df176cb4"
      },
      "outputs": [
        {
          "output_type": "stream",
          "name": "stdout",
          "text": [
            "SLF4J: Class path contains multiple SLF4J bindings.\n",
            "SLF4J: Found binding in [jar:file:/usr/local/apache-hive-3.1.2-bin/lib/log4j-slf4j-impl-2.10.0.jar!/org/slf4j/impl/StaticLoggerBinder.class]\n",
            "SLF4J: Found binding in [jar:file:/usr/local/hadoop-3.3.4/share/hadoop/common/lib/slf4j-reload4j-1.7.36.jar!/org/slf4j/impl/StaticLoggerBinder.class]\n",
            "SLF4J: See http://www.slf4j.org/codes.html#multiple_bindings for an explanation.\n",
            "SLF4J: Actual binding is of type [org.apache.logging.slf4j.Log4jLoggerFactory]\n",
            "Hive Session ID = 458de54f-9b7b-4c96-ab6e-871f6a77a3d5\n",
            "\n",
            "Logging initialized using configuration in jar:file:/usr/local/apache-hive-3.1.2-bin/lib/hive-common-3.1.2.jar!/hive-log4j2.properties Async: true\n",
            "Hive Session ID = e4801bc0-4a5e-44b9-8d43-f1d04bf937c0\n",
            "OK\n",
            "Time taken: 1.062 seconds\n",
            "OK\n",
            "Time taken: 0.876 seconds\n",
            "Loading data to table userdb.files\n",
            "OK\n",
            "Time taken: 0.945 seconds\n",
            "OK\n",
            "Time taken: 0.076 seconds\n",
            "Query ID = root_20221018213444_407e8f85-b9ed-4df4-9b3a-9d0a0d84d972\n",
            "Total jobs = 1\n",
            "Launching Job 1 out of 1\n",
            "Number of reduce tasks determined at compile time: 1\n",
            "In order to change the average load for a reducer (in bytes):\n",
            "  set hive.exec.reducers.bytes.per.reducer=<number>\n",
            "In order to limit the maximum number of reducers:\n",
            "  set hive.exec.reducers.max=<number>\n",
            "In order to set a constant number of reducers:\n",
            "  set mapreduce.job.reduces=<number>\n",
            "Job running in-process (local Hadoop)\n",
            "2022-10-18 21:34:48,919 Stage-1 map = 100%,  reduce = 0%\n",
            "2022-10-18 21:34:49,934 Stage-1 map = 100%,  reduce = 100%\n",
            "Ended Job = job_local1064235267_0001\n",
            "MapReduce Jobs Launched: \n",
            "Stage-Stage-1:  HDFS Read: 0 HDFS Write: 0 SUCCESS\n",
            "Total MapReduce CPU Time Spent: 0 msec\n",
            "OK\n",
            "Time taken: 5.826 seconds, Fetched: 100 row(s)\n"
          ]
        }
      ],
      "source": [
        "# compute the word count of all text files in the input directory and send the top 100 to a local file\n",
        "\n",
        "str = \"\"\"\n",
        "CREATE DATABASE IF NOT EXISTS userdb;\n",
        "\n",
        "CREATE TABLE IF NOT EXISTS userdb.files \n",
        "(line STRING);\n",
        "\n",
        "LOAD DATA LOCAL INPATH '/root/input2/' OVERWRITE INTO TABLE userdb.files;\n",
        "\n",
        "CREATE TABLE IF NOT EXISTS userdb.word_count AS\n",
        "  SELECT word, count(1) AS count \n",
        "  FROM\n",
        "    (SELECT explode(split(lower(line), ' ')) AS word\n",
        "    FROM userdb.files) w\n",
        "  WHERE word != ''\n",
        "  GROUP BY word\n",
        "  ORDER BY word;\n",
        "\n",
        "SELECT *\n",
        "FROM userdb.word_count\n",
        "ORDER BY count DESC\n",
        "LIMIT 100;\n",
        "\"\"\"\n",
        "\n",
        "!{HIVE_HOME}/bin/hive -e \"{str}\" > ~/wordfreq.tsv"
      ]
    },
    {
      "cell_type": "code",
      "execution_count": 45,
      "metadata": {
        "colab": {
          "base_uri": "https://localhost:8080/"
        },
        "id": "AG93oXbZD8Hs",
        "outputId": "a6a03433-b828-45aa-b88f-49c733fd162b"
      },
      "outputs": [
        {
          "output_type": "stream",
          "name": "stdout",
          "text": [
            "the\t116\n",
            "of\t71\n",
            "or\t66\n",
            "and\t52\n",
            "to\t42\n",
            "any\t31\n",
            "for\t28\n",
            "you\t26\n",
            "this\t25\n",
            "in\t25\n"
          ]
        }
      ],
      "source": [
        "# see content (top 10 lines) of local file\n",
        "!head -n 10 ~/wordfreq.tsv"
      ]
    },
    {
      "cell_type": "code",
      "source": [
        "# read wordfreq.tsv to dictionary\n",
        "import pandas as pd\n",
        "pd_wordfreq = pd.read_csv('~/wordfreq.tsv', header=None, sep='\\t')\n",
        "dict_wordfreq = dict(zip(pd_wordfreq[0],pd_wordfreq[1])) \n",
        "\n",
        "# install wordcloud library\n",
        "!pip install wordcloud --quiet\n",
        "\n",
        "# plot wordcloud image\n",
        "import matplotlib.pyplot as plt\n",
        "from wordcloud import WordCloud\n",
        "\n",
        "wordcloud = WordCloud(max_font_size=40, max_words = 100).generate_from_frequencies(dict_wordfreq)\n",
        "plt.figure()\n",
        "plt.imshow(wordcloud, interpolation=\"bilinear\")\n",
        "plt.axis(\"off\")\n",
        "plt.show()"
      ],
      "metadata": {
        "colab": {
          "base_uri": "https://localhost:8080/",
          "height": 198
        },
        "id": "5_pICB_o_oKk",
        "outputId": "fcbbae5a-9356-4a5d-eb9c-c4334555b761"
      },
      "execution_count": 46,
      "outputs": [
        {
          "output_type": "display_data",
          "data": {
            "text/plain": [
              "<Figure size 432x288 with 1 Axes>"
            ],
            "image/png": "[encoded data removed]"
          },
          "metadata": {
            "needs_background": "light"
          }
        }
      ]
    },
    {
      "cell_type": "markdown",
      "metadata": {
        "id": "ZR5zn0F74M_G"
      },
      "source": [
        "### Create Database & Tables"
      ]
    },
    {
      "cell_type": "code",
      "execution_count": 50,
      "metadata": {
        "colab": {
          "base_uri": "https://localhost:8080/"
        },
        "id": "1oudGmHqk2ua",
        "outputId": "8598772b-087e-4f4f-da0f-1b88fac8e1a4"
      },
      "outputs": [
        {
          "output_type": "stream",
          "name": "stdout",
          "text": [
            "SLF4J: Class path contains multiple SLF4J bindings.\n",
            "SLF4J: Found binding in [jar:file:/usr/local/apache-hive-3.1.2-bin/lib/log4j-slf4j-impl-2.10.0.jar!/org/slf4j/impl/StaticLoggerBinder.class]\n",
            "SLF4J: Found binding in [jar:file:/usr/local/hadoop-3.3.4/share/hadoop/common/lib/slf4j-reload4j-1.7.36.jar!/org/slf4j/impl/StaticLoggerBinder.class]\n",
            "SLF4J: See http://www.slf4j.org/codes.html#multiple_bindings for an explanation.\n",
            "SLF4J: Actual binding is of type [org.apache.logging.slf4j.Log4jLoggerFactory]\n",
            "Hive Session ID = efcf15f4-a0f3-42c9-8db0-4faea3c711ff\n",
            "\n",
            "Logging initialized using configuration in jar:file:/usr/local/apache-hive-3.1.2-bin/lib/hive-common-3.1.2.jar!/hive-log4j2.properties Async: true\n",
            "Hive Session ID = a749a8ba-ef49-477d-af41-9155fb16bfee\n",
            "OK\n",
            "Time taken: 3.417 seconds\n",
            "OK\n",
            "Time taken: 0.237 seconds\n",
            "OK\n",
            "default\n",
            "userdb\n",
            "Time taken: 0.204 seconds, Fetched: 2 row(s)\n",
            "OK\n",
            "Time taken: 0.216 seconds\n",
            "OK\n",
            "Time taken: 0.438 seconds\n",
            "OK\n",
            "Time taken: 0.044 seconds\n",
            "OK\n",
            "employee\n",
            "profession\n",
            "Time taken: 0.04 seconds, Fetched: 2 row(s)\n"
          ]
        }
      ],
      "source": [
        "str = \"\"\"\n",
        "DROP DATABASE IF EXISTS userdb CASCADE;\n",
        "CREATE DATABASE IF NOT EXISTS userdb;\n",
        "\n",
        "SHOW DATABASES;\n",
        "\n",
        "CREATE TABLE IF NOT EXISTS userdb.employee \n",
        "(id int,\n",
        "name String,\n",
        "salary int)\n",
        "COMMENT 'Employee details'\n",
        "PARTITIONED BY (profession String)\n",
        "ROW FORMAT DELIMITED\n",
        "FIELDS TERMINATED BY '\\t'\n",
        "LINES TERMINATED BY '\\n'\n",
        "STORED AS TEXTFILE;\n",
        "\n",
        "CREATE TABLE IF NOT EXISTS userdb.profession \n",
        "(id int,\n",
        "description String)\n",
        "COMMENT 'Profession details'\n",
        "ROW FORMAT DELIMITED\n",
        "FIELDS TERMINATED BY '\\t'\n",
        "LINES TERMINATED BY '\\n'\n",
        "STORED AS TEXTFILE;\n",
        "\n",
        "USE userdb;\n",
        "SHOW TABLES;\n",
        "\"\"\"\n",
        "\n",
        "!{HIVE_HOME}/bin/hive -e \"{str}\""
      ]
    },
    {
      "cell_type": "code",
      "execution_count": 51,
      "metadata": {
        "colab": {
          "base_uri": "https://localhost:8080/"
        },
        "id": "T8H_hYeRfIk5",
        "outputId": "dc82516a-f99a-415f-d568-f295b0e1d368"
      },
      "outputs": [
        {
          "output_type": "stream",
          "name": "stdout",
          "text": [
            "drwxr-xr-x   - root root       4096 2022-10-18 21:51 /user/hive/warehouse/userdb.db\n",
            "drwxr-xr-x   - root root       4096 2022-10-18 21:51 /user/hive/warehouse/userdb.db/employee\n",
            "drwxr-xr-x   - root root       4096 2022-10-18 21:51 /user/hive/warehouse/userdb.db/profession\n"
          ]
        }
      ],
      "source": [
        "# list warehouse directories\n",
        "!{HADOOP_HOME}/bin/hdfs dfs -ls -R /user/hive/warehouse/"
      ]
    },
    {
      "cell_type": "markdown",
      "metadata": {
        "id": "YfudfdQ2si-H"
      },
      "source": [
        "### Load Tables"
      ]
    },
    {
      "cell_type": "code",
      "execution_count": 52,
      "metadata": {
        "colab": {
          "base_uri": "https://localhost:8080/"
        },
        "id": "pG1ikZlKYjKC",
        "outputId": "5e55a7b0-68e5-4895-9458-da33152fc1ec"
      },
      "outputs": [
        {
          "output_type": "stream",
          "name": "stdout",
          "text": [
            "--2022-10-18 21:51:52--  https://raw.githubusercontent.com/malcosta/bigdatatechnologies/main/data/employees.tsv\n",
            "Resolving raw.githubusercontent.com (raw.githubusercontent.com)... 185.199.108.133, 185.199.109.133, 185.199.110.133, ...\n",
            "Connecting to raw.githubusercontent.com (raw.githubusercontent.com)|185.199.108.133|:443... connected.\n",
            "HTTP request sent, awaiting response... 200 OK\n",
            "Length: 129 [text/plain]\n",
            "Saving to: ‘/root/employees.tsv’\n",
            "\n",
            "\r/root/employees.tsv   0%[                    ]       0  --.-KB/s               \r/root/employees.tsv 100%[===================>]     129  --.-KB/s    in 0s      \n",
            "\n",
            "2022-10-18 21:51:52 (5.25 MB/s) - ‘/root/employees.tsv’ saved [129/129]\n",
            "\n",
            "--2022-10-18 21:51:52--  https://raw.githubusercontent.com/malcosta/bigdatatechnologies/main/data/professions.tsv\n",
            "Resolving raw.githubusercontent.com (raw.githubusercontent.com)... 185.199.108.133, 185.199.109.133, 185.199.110.133, ...\n",
            "Connecting to raw.githubusercontent.com (raw.githubusercontent.com)|185.199.108.133|:443... connected.\n",
            "HTTP request sent, awaiting response... 200 OK\n",
            "Length: 71 [text/plain]\n",
            "Saving to: ‘/root/professions.tsv’\n",
            "\n",
            "/root/professions.t 100%[===================>]      71  --.-KB/s    in 0s      \n",
            "\n",
            "2022-10-18 21:51:52 (2.90 MB/s) - ‘/root/professions.tsv’ saved [71/71]\n",
            "\n"
          ]
        }
      ],
      "source": [
        "# download data files (get link from Github)\n",
        "!wget {GIT_FILES}/data/employees.tsv -O ~/employees.tsv\n",
        "!wget {GIT_FILES}/data/professions.tsv -O ~/professions.tsv"
      ]
    },
    {
      "cell_type": "code",
      "source": [
        "# create new directory in HDFS\n",
        "!{HADOOP_HOME}/bin/hdfs dfs -mkdir ~/input/"
      ],
      "metadata": {
        "id": "ouHqpZKNmewA"
      },
      "execution_count": 53,
      "outputs": []
    },
    {
      "cell_type": "code",
      "execution_count": 54,
      "metadata": {
        "id": "rqDnx07-btY9"
      },
      "outputs": [],
      "source": [
        "# copy tsv file from local directory to HDFS\n",
        "!{HADOOP_HOME}/bin/hdfs dfs -copyFromLocal ~/employees.tsv ~/input/\n",
        "!{HADOOP_HOME}/bin/hdfs dfs -copyFromLocal ~/professions.tsv ~/input/"
      ]
    },
    {
      "cell_type": "code",
      "execution_count": 55,
      "metadata": {
        "colab": {
          "base_uri": "https://localhost:8080/"
        },
        "id": "ceGhg20DUaCM",
        "outputId": "8e53b9c8-4c74-491e-b883-a61f34b6b37e"
      },
      "outputs": [
        {
          "output_type": "stream",
          "name": "stdout",
          "text": [
            "SLF4J: Class path contains multiple SLF4J bindings.\n",
            "SLF4J: Found binding in [jar:file:/usr/local/apache-hive-3.1.2-bin/lib/log4j-slf4j-impl-2.10.0.jar!/org/slf4j/impl/StaticLoggerBinder.class]\n",
            "SLF4J: Found binding in [jar:file:/usr/local/hadoop-3.3.4/share/hadoop/common/lib/slf4j-reload4j-1.7.36.jar!/org/slf4j/impl/StaticLoggerBinder.class]\n",
            "SLF4J: See http://www.slf4j.org/codes.html#multiple_bindings for an explanation.\n",
            "SLF4J: Actual binding is of type [org.apache.logging.slf4j.Log4jLoggerFactory]\n",
            "Hive Session ID = 65efc5ae-a99e-4067-b657-383bb3fcff3b\n",
            "\n",
            "Logging initialized using configuration in jar:file:/usr/local/apache-hive-3.1.2-bin/lib/hive-common-3.1.2.jar!/hive-log4j2.properties Async: true\n",
            "Hive Session ID = 323ae344-9d6e-405c-9700-7cba4cc006ed\n",
            "Query ID = root_20221018215218_e160ab3b-0cb9-4912-a478-fba87510472c\n",
            "Total jobs = 3\n",
            "Launching Job 1 out of 3\n",
            "Number of reduce tasks not specified. Estimated from input data size: 1\n",
            "In order to change the average load for a reducer (in bytes):\n",
            "  set hive.exec.reducers.bytes.per.reducer=<number>\n",
            "In order to limit the maximum number of reducers:\n",
            "  set hive.exec.reducers.max=<number>\n",
            "In order to set a constant number of reducers:\n",
            "  set mapreduce.job.reduces=<number>\n",
            "Job running in-process (local Hadoop)\n",
            "2022-10-18 21:52:25,103 Stage-1 map = 100%,  reduce = 100%\n",
            "Ended Job = job_local386997235_0001\n",
            "Stage-4 is selected by condition resolver.\n",
            "Stage-3 is filtered out by condition resolver.\n",
            "Stage-5 is filtered out by condition resolver.\n",
            "Moving data to directory file:/user/hive/warehouse/userdb.db/employee/.hive-staging_hive_2022-10-18_21-52-20_505_276410667842804822-1/-ext-10000\n",
            "Loading data to table userdb.employee partition (profession=null)\n",
            "\n",
            "\n",
            "\t Time taken to load dynamic partitions: 1.637 seconds\n",
            "\t Time taken for adding to write entity : 0.002 seconds\n",
            "MapReduce Jobs Launched: \n",
            "Stage-Stage-1:  HDFS Read: 0 HDFS Write: 0 SUCCESS\n",
            "Total MapReduce CPU Time Spent: 0 msec\n",
            "OK\n",
            "Time taken: 8.889 seconds\n",
            "Loading data to table userdb.profession\n",
            "OK\n",
            "Time taken: 0.225 seconds\n"
          ]
        }
      ],
      "source": [
        "# load data (tsv files) into tables\n",
        "\n",
        "str = \"\"\"\n",
        "LOAD DATA LOCAL INPATH '/root/input/employees.tsv'\n",
        "OVERWRITE INTO TABLE userdb.employee;\n",
        "\n",
        "LOAD DATA LOCAL INPATH '/root/input/professions.tsv'\n",
        "OVERWRITE INTO TABLE userdb.profession;\n",
        "\"\"\"\n",
        "\n",
        "!{HIVE_HOME}/bin/hive -e \"{str}\""
      ]
    },
    {
      "cell_type": "code",
      "execution_count": 56,
      "metadata": {
        "colab": {
          "base_uri": "https://localhost:8080/"
        },
        "id": "Ay23Gtb22YgN",
        "outputId": "ea180d32-5bd9-4f4c-bce7-24d26b052aec"
      },
      "outputs": [
        {
          "output_type": "stream",
          "name": "stdout",
          "text": [
            "SLF4J: Class path contains multiple SLF4J bindings.\n",
            "SLF4J: Found binding in [jar:file:/usr/local/apache-hive-3.1.2-bin/lib/log4j-slf4j-impl-2.10.0.jar!/org/slf4j/impl/StaticLoggerBinder.class]\n",
            "SLF4J: Found binding in [jar:file:/usr/local/hadoop-3.3.4/share/hadoop/common/lib/slf4j-reload4j-1.7.36.jar!/org/slf4j/impl/StaticLoggerBinder.class]\n",
            "SLF4J: See http://www.slf4j.org/codes.html#multiple_bindings for an explanation.\n",
            "SLF4J: Actual binding is of type [org.apache.logging.slf4j.Log4jLoggerFactory]\n",
            "Hive Session ID = 621ed17a-6a85-4048-ba52-7746c830b715\n",
            "\n",
            "Logging initialized using configuration in jar:file:/usr/local/apache-hive-3.1.2-bin/lib/hive-common-3.1.2.jar!/hive-log4j2.properties Async: true\n",
            "Hive Session ID = 5952b061-ba82-4cf0-994b-cf6d5162450e\n",
            "Query ID = root_20221018215241_561c3d38-1c6b-4898-af33-cb237af2fe96\n",
            "Total jobs = 3\n",
            "Launching Job 1 out of 3\n",
            "Number of reduce tasks not specified. Estimated from input data size: 1\n",
            "In order to change the average load for a reducer (in bytes):\n",
            "  set hive.exec.reducers.bytes.per.reducer=<number>\n",
            "In order to limit the maximum number of reducers:\n",
            "  set hive.exec.reducers.max=<number>\n",
            "In order to set a constant number of reducers:\n",
            "  set mapreduce.job.reduces=<number>\n",
            "Job running in-process (local Hadoop)\n",
            "2022-10-18 21:52:48,630 Stage-1 map = 100%,  reduce = 100%\n",
            "Ended Job = job_local2038869354_0001\n",
            "Stage-4 is selected by condition resolver.\n",
            "Stage-3 is filtered out by condition resolver.\n",
            "Stage-5 is filtered out by condition resolver.\n",
            "Moving data to directory file:/user/hive/warehouse/userdb.db/employee/.hive-staging_hive_2022-10-18_21-52-41_602_7435090789266914494-1/-ext-10000\n",
            "Loading data to table userdb.employee partition (profession=null)\n",
            "\n",
            "\n",
            "\t Time taken to load dynamic partitions: 0.9 seconds\n",
            "\t Time taken for adding to write entity : 0.003 seconds\n",
            "MapReduce Jobs Launched: \n",
            "Stage-Stage-1:  HDFS Read: 0 HDFS Write: 0 SUCCESS\n",
            "Total MapReduce CPU Time Spent: 0 msec\n",
            "OK\n",
            "Time taken: 8.796 seconds\n",
            "Query ID = root_20221018215250_264ee6d8-1ecd-42d4-aee9-931867dbea00\n",
            "Total jobs = 3\n",
            "Launching Job 1 out of 3\n",
            "Number of reduce tasks not specified. Estimated from input data size: 1\n",
            "In order to change the average load for a reducer (in bytes):\n",
            "  set hive.exec.reducers.bytes.per.reducer=<number>\n",
            "In order to limit the maximum number of reducers:\n",
            "  set hive.exec.reducers.max=<number>\n",
            "In order to set a constant number of reducers:\n",
            "  set mapreduce.job.reduces=<number>\n",
            "Job running in-process (local Hadoop)\n",
            "2022-10-18 21:52:52,385 Stage-1 map = 100%,  reduce = 100%\n",
            "Ended Job = job_local1694917639_0002\n",
            "Stage-4 is selected by condition resolver.\n",
            "Stage-3 is filtered out by condition resolver.\n",
            "Stage-5 is filtered out by condition resolver.\n",
            "Moving data to directory file:/user/hive/warehouse/userdb.db/employee/.hive-staging_hive_2022-10-18_21-52-50_356_3026514458135154777-1/-ext-10000\n",
            "Loading data to table userdb.employee partition (profession=null)\n",
            "\n",
            "\n",
            "\t Time taken to load dynamic partitions: 0.104 seconds\n",
            "\t Time taken for adding to write entity : 0.0 seconds\n",
            "MapReduce Jobs Launched: \n",
            "Stage-Stage-1:  HDFS Read: 0 HDFS Write: 0 SUCCESS\n",
            "Total MapReduce CPU Time Spent: 0 msec\n",
            "OK\n",
            "Time taken: 2.456 seconds\n"
          ]
        }
      ],
      "source": [
        "# insert new values to table employee\n",
        "\n",
        "str = \"\"\"\n",
        "INSERT INTO TABLE userdb.employee VALUES (33, 'Rob', 55000, 'Soldier');\n",
        "INSERT INTO TABLE userdb.employee VALUES (66, 'Clare', 70000, 'Cook');\n",
        "\"\"\"\n",
        "\n",
        "!{HIVE_HOME}/bin/hive -e \"{str}\""
      ]
    },
    {
      "cell_type": "code",
      "execution_count": 57,
      "metadata": {
        "colab": {
          "base_uri": "https://localhost:8080/"
        },
        "id": "M1xwnJj6C0yO",
        "outputId": "f0c9e471-4b48-4017-d73a-2223a58cb31f"
      },
      "outputs": [
        {
          "output_type": "stream",
          "name": "stdout",
          "text": [
            "drwxr-xr-x   - root root       4096 2022-10-18 21:51 /user/hive/warehouse/userdb.db\n",
            "drwxr-xr-x   - root root       4096 2022-10-18 21:52 /user/hive/warehouse/userdb.db/employee\n",
            "drwxr-xr-x   - root root       4096 2022-10-18 21:52 /user/hive/warehouse/userdb.db/employee/profession=Soldier\n",
            "-rw-r--r--   1 root root         13 2022-10-18 21:52 /user/hive/warehouse/userdb.db/employee/profession=Soldier/000000_0\n",
            "drwxr-xr-x   - root root       4096 2022-10-18 21:52 /user/hive/warehouse/userdb.db/employee/profession=Engineer\n",
            "-rw-r--r--   1 root root         16 2022-10-18 21:52 /user/hive/warehouse/userdb.db/employee/profession=Engineer/000000_0\n",
            "drwxr-xr-x   - root root       4096 2022-10-18 21:52 /user/hive/warehouse/userdb.db/employee/profession=Pilot\n",
            "-rw-r--r--   1 root root         13 2022-10-18 21:52 /user/hive/warehouse/userdb.db/employee/profession=Pilot/000000_0\n",
            "drwxr-xr-x   - root root       4096 2022-10-18 21:52 /user/hive/warehouse/userdb.db/employee/profession=Professor\n",
            "-rw-r--r--   1 root root         26 2022-10-18 21:52 /user/hive/warehouse/userdb.db/employee/profession=Professor/000000_0\n",
            "drwxr-xr-x   - root root       4096 2022-10-18 21:52 /user/hive/warehouse/userdb.db/employee/profession=Doctor\n",
            "-rw-r--r--   1 root root         13 2022-10-18 21:52 /user/hive/warehouse/userdb.db/employee/profession=Doctor/000000_0\n",
            "drwxr-xr-x   - root root       4096 2022-10-18 21:52 /user/hive/warehouse/userdb.db/employee/profession=Cook\n",
            "-rw-r--r--   1 root root         15 2022-10-18 21:52 /user/hive/warehouse/userdb.db/employee/profession=Cook/000000_0\n",
            "drwxr-xr-x   - root root       4096 2022-10-18 21:52 /user/hive/warehouse/userdb.db/employee/profession=Writer\n",
            "-rw-r--r--   1 root root         12 2022-10-18 21:52 /user/hive/warehouse/userdb.db/employee/profession=Writer/000000_0\n",
            "drwxr-xr-x   - root root       4096 2022-10-18 21:52 /user/hive/warehouse/userdb.db/profession\n",
            "-rw-r--r--   1 root root         71 2022-10-18 21:52 /user/hive/warehouse/userdb.db/profession/professions.tsv\n"
          ]
        }
      ],
      "source": [
        "# list data warehouse and database\n",
        "!{HADOOP_HOME}/bin/hdfs dfs -ls -R /user/hive/warehouse/"
      ]
    },
    {
      "cell_type": "code",
      "execution_count": 58,
      "metadata": {
        "colab": {
          "base_uri": "https://localhost:8080/"
        },
        "id": "DTIUemf1C-QN",
        "outputId": "48030a69-5da3-45dd-c709-214b3a8568f6"
      },
      "outputs": [
        {
          "output_type": "execute_result",
          "data": {
            "text/plain": [
              "['1\\tMichael\\t50000']"
            ]
          },
          "metadata": {},
          "execution_count": 58
        }
      ],
      "source": [
        "# show content of one partition - profession=Engineer\n",
        "!!{HADOOP_HOME}/bin/hdfs dfs -cat /user/hive/warehouse/userdb.db/employee/profession=Engineer/000000_0"
      ]
    },
    {
      "cell_type": "markdown",
      "metadata": {
        "id": "24scwP73-BIA"
      },
      "source": [
        "### HiveQL Queries"
      ]
    },
    {
      "cell_type": "code",
      "execution_count": 59,
      "metadata": {
        "colab": {
          "base_uri": "https://localhost:8080/"
        },
        "id": "3FF45ykh_dWi",
        "outputId": "581c050a-9ffd-40d8-aa71-29d44524a088"
      },
      "outputs": [
        {
          "output_type": "stream",
          "name": "stdout",
          "text": [
            "SLF4J: Class path contains multiple SLF4J bindings.\n",
            "SLF4J: Found binding in [jar:file:/usr/local/apache-hive-3.1.2-bin/lib/log4j-slf4j-impl-2.10.0.jar!/org/slf4j/impl/StaticLoggerBinder.class]\n",
            "SLF4J: Found binding in [jar:file:/usr/local/hadoop-3.3.4/share/hadoop/common/lib/slf4j-reload4j-1.7.36.jar!/org/slf4j/impl/StaticLoggerBinder.class]\n",
            "SLF4J: See http://www.slf4j.org/codes.html#multiple_bindings for an explanation.\n",
            "SLF4J: Actual binding is of type [org.apache.logging.slf4j.Log4jLoggerFactory]\n",
            "Hive Session ID = 8780ddc3-3e67-4bce-a588-0ffaaddf2662\n",
            "\n",
            "Logging initialized using configuration in jar:file:/usr/local/apache-hive-3.1.2-bin/lib/hive-common-3.1.2.jar!/hive-log4j2.properties Async: true\n",
            "Hive Session ID = d35cf5ad-317e-4085-84e4-e9918ce40b93\n",
            "OK\n",
            "id                  \tint                 \t                    \n",
            "name                \tstring              \t                    \n",
            "salary              \tint                 \t                    \n",
            "profession          \tstring              \t                    \n",
            "\t \t \n",
            "# Partition Information\t \t \n",
            "# col_name            \tdata_type           \tcomment             \n",
            "profession          \tstring              \t                    \n",
            "Time taken: 2.609 seconds, Fetched: 8 row(s)\n",
            "OK\n",
            "id                  \tint                 \t                    \n",
            "description         \tstring              \t                    \n",
            "\t \t \n",
            "Detailed Table Information\tTable(tableName:profession, dbName:userdb, owner:root, createTime:1666129876, lastAccessTime:0, retention:0, sd:StorageDescriptor(cols:[FieldSchema(name:id, type:int, comment:null), FieldSchema(name:description, type:string, comment:null)], location:file:/user/hive/warehouse/userdb.db/profession, inputFormat:org.apache.hadoop.mapred.TextInputFormat, outputFormat:org.apache.hadoop.hive.ql.io.HiveIgnoreKeyTextOutputFormat, compressed:false, numBuckets:-1, serdeInfo:SerDeInfo(name:null, serializationLib:org.apache.hadoop.hive.serde2.lazy.LazySimpleSerDe, parameters:{serialization.format=\\t, line.delim=\\n, field.delim=\\t}), bucketCols:[], sortCols:[], parameters:{}, skewedInfo:SkewedInfo(skewedColNames:[], skewedColValues:[], skewedColValueLocationMaps:{}), storedAsSubDirectories:false), partitionKeys:[], parameters:{totalSize=71, numRows=0, rawDataSize=0, numFiles=1, transient_lastDdlTime=1666129947, bucketing_version=2, comment=Profession details}, viewOriginalText:null, viewExpandedText:null, tableType:MANAGED_TABLE, rewriteEnabled:false, catName:hive, ownerType:USER)\t\n",
            "Time taken: 0.337 seconds, Fetched: 4 row(s)\n"
          ]
        }
      ],
      "source": [
        "# describe tables\n",
        "\n",
        "str = \"\"\"\n",
        "DESCRIBE userdb.employee;\n",
        "\n",
        "DESCRIBE EXTENDED userdb.profession;\n",
        "\"\"\"\n",
        "\n",
        "!{HIVE_HOME}/bin/hive -e \"{str}\""
      ]
    },
    {
      "cell_type": "code",
      "execution_count": 60,
      "metadata": {
        "colab": {
          "base_uri": "https://localhost:8080/"
        },
        "id": "-49CK3UEkIEx",
        "outputId": "bd45136e-a031-45e4-e119-5f2a57ad2ac4"
      },
      "outputs": [
        {
          "output_type": "stream",
          "name": "stdout",
          "text": [
            "SLF4J: Class path contains multiple SLF4J bindings.\n",
            "SLF4J: Found binding in [jar:file:/usr/local/apache-hive-3.1.2-bin/lib/log4j-slf4j-impl-2.10.0.jar!/org/slf4j/impl/StaticLoggerBinder.class]\n",
            "SLF4J: Found binding in [jar:file:/usr/local/hadoop-3.3.4/share/hadoop/common/lib/slf4j-reload4j-1.7.36.jar!/org/slf4j/impl/StaticLoggerBinder.class]\n",
            "SLF4J: See http://www.slf4j.org/codes.html#multiple_bindings for an explanation.\n",
            "SLF4J: Actual binding is of type [org.apache.logging.slf4j.Log4jLoggerFactory]\n",
            "Hive Session ID = 49fa55cd-37df-4aa8-ad66-d38fa338fa9a\n",
            "\n",
            "Logging initialized using configuration in jar:file:/usr/local/apache-hive-3.1.2-bin/lib/hive-common-3.1.2.jar!/hive-log4j2.properties Async: true\n",
            "Hive Session ID = 746c6480-4d96-4df4-ab74-ff1a1a75c696\n",
            "OK\n",
            "66\tClare\t70000\tCook\n",
            "4\tDali\t40000\tDoctor\n",
            "1\tMichael\t50000\tEngineer\n",
            "5\tMary\t90000\tPilot\n",
            "2\tRose\t60000\tProfessor\n",
            "6\tJohn\t70000\tProfessor\n",
            "33\tRob\t55000\tSoldier\n",
            "3\tAna\t40000\tWriter\n",
            "Time taken: 4.102 seconds, Fetched: 8 row(s)\n",
            "OK\n",
            "1\tEngineer\n",
            "2\tProfessor\n",
            "3\tWriter\n",
            "4\tDoctor\n",
            "5\tPilot\n",
            "6\tResearcher\n",
            "7\tPolice\n",
            "Time taken: 0.194 seconds, Fetched: 7 row(s)\n"
          ]
        }
      ],
      "source": [
        "# show all rows and columns\n",
        "\n",
        "str = \"\"\"\n",
        "SELECT * \n",
        "FROM userdb.employee;\n",
        "\n",
        "SELECT * \n",
        "FROM userdb.profession;\n",
        "\"\"\"\n",
        "\n",
        "!{HIVE_HOME}/bin/hive -e \"{str}\""
      ]
    },
    {
      "cell_type": "code",
      "execution_count": 61,
      "metadata": {
        "colab": {
          "base_uri": "https://localhost:8080/"
        },
        "id": "jh97zShOVF-j",
        "outputId": "b07f5e3b-1671-45b1-f418-8552a4da5ad8"
      },
      "outputs": [
        {
          "output_type": "stream",
          "name": "stdout",
          "text": [
            "SLF4J: Class path contains multiple SLF4J bindings.\n",
            "SLF4J: Found binding in [jar:file:/usr/local/apache-hive-3.1.2-bin/lib/log4j-slf4j-impl-2.10.0.jar!/org/slf4j/impl/StaticLoggerBinder.class]\n",
            "SLF4J: Found binding in [jar:file:/usr/local/hadoop-3.3.4/share/hadoop/common/lib/slf4j-reload4j-1.7.36.jar!/org/slf4j/impl/StaticLoggerBinder.class]\n",
            "SLF4J: See http://www.slf4j.org/codes.html#multiple_bindings for an explanation.\n",
            "SLF4J: Actual binding is of type [org.apache.logging.slf4j.Log4jLoggerFactory]\n",
            "Hive Session ID = 8ffc55e7-61d0-49ab-8af2-b993f455404e\n",
            "\n",
            "Logging initialized using configuration in jar:file:/usr/local/apache-hive-3.1.2-bin/lib/hive-common-3.1.2.jar!/hive-log4j2.properties Async: true\n",
            "Hive Session ID = b7b9cf20-e7c9-469e-80f1-84209f37662f\n",
            "Query ID = root_20221018215604_3f57fdce-9251-43b3-97bc-042774bd532d\n",
            "Total jobs = 1\n",
            "Launching Job 1 out of 1\n",
            "Number of reduce tasks determined at compile time: 1\n",
            "In order to change the average load for a reducer (in bytes):\n",
            "  set hive.exec.reducers.bytes.per.reducer=<number>\n",
            "In order to limit the maximum number of reducers:\n",
            "  set hive.exec.reducers.max=<number>\n",
            "In order to set a constant number of reducers:\n",
            "  set mapreduce.job.reduces=<number>\n",
            "Job running in-process (local Hadoop)\n",
            "2022-10-18 21:56:11,926 Stage-1 map = 100%,  reduce = 0%\n",
            "2022-10-18 21:56:12,930 Stage-1 map = 100%,  reduce = 100%\n",
            "Ended Job = job_local423368958_0001\n",
            "MapReduce Jobs Launched: \n",
            "Stage-Stage-1:  HDFS Read: 0 HDFS Write: 0 SUCCESS\n",
            "Total MapReduce CPU Time Spent: 0 msec\n",
            "OK\n",
            "90000\t40000\t59375.0\n",
            "Time taken: 8.666 seconds, Fetched: 1 row(s)\n"
          ]
        }
      ],
      "source": [
        "# show the maximum, minimum an average salary from employee table\n",
        "\n",
        "str = \"\"\"\n",
        "SELECT MAX(salary), MIN(salary), AVG(salary)\n",
        "FROM userdb.employee \n",
        "\"\"\"\n",
        "\n",
        "!{HIVE_HOME}/bin/hive -e \"{str}\""
      ]
    },
    {
      "cell_type": "code",
      "execution_count": 62,
      "metadata": {
        "colab": {
          "base_uri": "https://localhost:8080/"
        },
        "id": "MnZatdCykIok",
        "outputId": "6c1239ca-924f-4ff8-947a-5fa6c627b27d"
      },
      "outputs": [
        {
          "output_type": "stream",
          "name": "stdout",
          "text": [
            "SLF4J: Class path contains multiple SLF4J bindings.\n",
            "SLF4J: Found binding in [jar:file:/usr/local/apache-hive-3.1.2-bin/lib/log4j-slf4j-impl-2.10.0.jar!/org/slf4j/impl/StaticLoggerBinder.class]\n",
            "SLF4J: Found binding in [jar:file:/usr/local/hadoop-3.3.4/share/hadoop/common/lib/slf4j-reload4j-1.7.36.jar!/org/slf4j/impl/StaticLoggerBinder.class]\n",
            "SLF4J: See http://www.slf4j.org/codes.html#multiple_bindings for an explanation.\n",
            "SLF4J: Actual binding is of type [org.apache.logging.slf4j.Log4jLoggerFactory]\n",
            "Hive Session ID = d1a87d00-d558-4326-9930-1ac4da1df864\n",
            "\n",
            "Logging initialized using configuration in jar:file:/usr/local/apache-hive-3.1.2-bin/lib/hive-common-3.1.2.jar!/hive-log4j2.properties Async: true\n",
            "Hive Session ID = c635a685-ff65-46e3-8596-9b6a1c54c9bc\n",
            "Query ID = root_20221018215642_f87bc8a5-351a-4d2d-9029-5a318faf3c69\n",
            "Total jobs = 1\n",
            "Execution completed successfully\n",
            "MapredLocal task succeeded\n",
            "Launching Job 1 out of 1\n",
            "Number of reduce tasks not specified. Estimated from input data size: 1\n",
            "In order to change the average load for a reducer (in bytes):\n",
            "  set hive.exec.reducers.bytes.per.reducer=<number>\n",
            "In order to limit the maximum number of reducers:\n",
            "  set hive.exec.reducers.max=<number>\n",
            "In order to set a constant number of reducers:\n",
            "  set mapreduce.job.reduces=<number>\n",
            "Job running in-process (local Hadoop)\n",
            "2022-10-18 21:57:02,908 Stage-2 map = 100%,  reduce = 100%\n",
            "Ended Job = job_local2067663557_0001\n",
            "MapReduce Jobs Launched: \n",
            "Stage-Stage-2:  HDFS Read: 0 HDFS Write: 0 SUCCESS\n",
            "Total MapReduce CPU Time Spent: 0 msec\n",
            "OK\n",
            "Time taken: 20.418 seconds, Fetched: 5 row(s)\n"
          ]
        }
      ],
      "source": [
        "# extract average salary grouped by profession to a local file\n",
        "\n",
        "str = \"\"\"\n",
        "set hive.cli.print.header=true;\n",
        "\n",
        "SELECT employee.profession as profession, AVG(salary) AS salary\n",
        "FROM userdb.employee JOIN userdb.profession ON (employee.profession=profession.description)\n",
        "group by employee.profession\n",
        "\"\"\"\n",
        "\n",
        "!{HIVE_HOME}/bin/hive -e \"{str}\" > dump.tsv"
      ]
    },
    {
      "cell_type": "code",
      "execution_count": 63,
      "metadata": {
        "colab": {
          "base_uri": "https://localhost:8080/"
        },
        "id": "x--PlvMdwDiL",
        "outputId": "8d06770c-5f56-4639-c65f-21e34fd78fb4"
      },
      "outputs": [
        {
          "output_type": "stream",
          "name": "stdout",
          "text": [
            "profession\tsalary\n",
            "Doctor\t40000.0\n",
            "Engineer\t50000.0\n",
            "Pilot\t90000.0\n",
            "Professor\t65000.0\n",
            "Writer\t40000.0\n"
          ]
        }
      ],
      "source": [
        "# show local file content\n",
        "!cat dump.tsv"
      ]
    },
    {
      "cell_type": "code",
      "execution_count": 64,
      "metadata": {
        "colab": {
          "base_uri": "https://localhost:8080/",
          "height": 315
        },
        "id": "snuznHd5Ee2D",
        "outputId": "8128a9af-96e0-4526-f534-f3a03054ec2b"
      },
      "outputs": [
        {
          "output_type": "display_data",
          "data": {
            "text/plain": [
              "<Figure size 432x288 with 1 Axes>"
            ],
            "image/png": "[encoded data removed]"
          },
          "metadata": {
            "needs_background": "light"
          }
        }
      ],
      "source": [
        "# plot results\n",
        "import matplotlib.pyplot as plt\n",
        "import pandas as pd\n",
        "\n",
        "df = pd.read_csv('dump.tsv', sep='\\t')\n",
        "\n",
        "df.plot(kind='bar', x='profession', y='salary')\n",
        "plt.ylabel('Salary')\n",
        "plt.xlabel('Profession')\n",
        "plt.show()"
      ]
    },
    {
      "cell_type": "markdown",
      "metadata": {
        "id": "jyHUJshbxAwo"
      },
      "source": [
        "### Hive Functions"
      ]
    },
    {
      "cell_type": "code",
      "execution_count": 65,
      "metadata": {
        "colab": {
          "base_uri": "https://localhost:8080/"
        },
        "id": "1H406b_5RP7s",
        "outputId": "9f00e14a-e098-4c59-d372-0d7833df5e54"
      },
      "outputs": [
        {
          "output_type": "stream",
          "name": "stdout",
          "text": [
            "SLF4J: Class path contains multiple SLF4J bindings.\n",
            "SLF4J: Found binding in [jar:file:/usr/local/apache-hive-3.1.2-bin/lib/log4j-slf4j-impl-2.10.0.jar!/org/slf4j/impl/StaticLoggerBinder.class]\n",
            "SLF4J: Found binding in [jar:file:/usr/local/hadoop-3.3.4/share/hadoop/common/lib/slf4j-reload4j-1.7.36.jar!/org/slf4j/impl/StaticLoggerBinder.class]\n",
            "SLF4J: See http://www.slf4j.org/codes.html#multiple_bindings for an explanation.\n",
            "SLF4J: Actual binding is of type [org.apache.logging.slf4j.Log4jLoggerFactory]\n",
            "Hive Session ID = 2adf7034-40f4-4ed6-8b7c-e08fd59bb972\n",
            "\n",
            "Logging initialized using configuration in jar:file:/usr/local/apache-hive-3.1.2-bin/lib/hive-common-3.1.2.jar!/hive-log4j2.properties Async: true\n",
            "Hive Session ID = a01d5ebb-70b9-42e1-90a0-b121bd92e59f\n",
            "OK\n",
            "!\n",
            "!=\n",
            "$sum0\n",
            "%\n",
            "&\n",
            "*\n",
            "+\n",
            "-\n",
            "/\n",
            "<\n",
            "<=\n",
            "<=>\n",
            "<>\n",
            "=\n",
            "==\n",
            ">\n",
            ">=\n",
            "^\n",
            "abs\n",
            "acos\n",
            "add_months\n",
            "aes_decrypt\n",
            "aes_encrypt\n",
            "and\n",
            "array\n",
            "array_contains\n",
            "ascii\n",
            "asin\n",
            "assert_true\n",
            "assert_true_oom\n",
            "atan\n",
            "avg\n",
            "base64\n",
            "between\n",
            "bin\n",
            "bloom_filter\n",
            "bround\n",
            "cardinality_violation\n",
            "case\n",
            "cbrt\n",
            "ceil\n",
            "ceiling\n",
            "char_length\n",
            "character_length\n",
            "chr\n",
            "coalesce\n",
            "collect_list\n",
            "collect_set\n",
            "compute_stats\n",
            "concat\n",
            "Time taken: 1.557 seconds, Fetched: 100 row(s)\n"
          ]
        }
      ],
      "source": [
        "# show (top 50) functions\n",
        "\n",
        "str = \"\"\"\n",
        "SHOW FUNCTIONS;\n",
        "\"\"\"\n",
        "\n",
        "!{HIVE_HOME}/bin/hive -e \"{str}\" | head -n 50"
      ]
    },
    {
      "cell_type": "markdown",
      "metadata": {
        "id": "97IFH_sRe4jt"
      },
      "source": [
        "<a name=\"challenge\"></a>\n",
        "# Real Challenge"
      ]
    },
    {
      "cell_type": "markdown",
      "metadata": {
        "id": "uN5i1e9QoLyC"
      },
      "source": [
        "Example of how to find the movies with the highest average rating that received at least 100 ratings, using the MovieLens 100K dataset (https://grouplens.org/datasets/movielens/).\n",
        "- u.data contains the movie ratings (user_id, movie_id, rating, time)\n",
        "- u.item contains the movie titles (movie_id, movie_title, ...)"
      ]
    },
    {
      "cell_type": "code",
      "execution_count": 66,
      "metadata": {
        "colab": {
          "base_uri": "https://localhost:8080/"
        },
        "id": "ZtaFWLO0fAGR",
        "outputId": "98f90622-7a89-42fd-ed31-b5bf0b6a3dc8"
      },
      "outputs": [
        {
          "output_type": "stream",
          "name": "stdout",
          "text": [
            "--2022-10-18 21:58:24--  https://files.grouplens.org/datasets/movielens/ml-100k/u.item\n",
            "Resolving files.grouplens.org (files.grouplens.org)... 128.101.65.152\n",
            "Connecting to files.grouplens.org (files.grouplens.org)|128.101.65.152|:443... connected.\n",
            "HTTP request sent, awaiting response... 200 OK\n",
            "Length: 236344 (231K)\n",
            "Saving to: ‘/root/u.item’\n",
            "\n",
            "/root/u.item        100%[===================>] 230.80K  --.-KB/s    in 0.09s   \n",
            "\n",
            "2022-10-18 21:58:24 (2.44 MB/s) - ‘/root/u.item’ saved [236344/236344]\n",
            "\n",
            "--2022-10-18 21:58:24--  https://files.grouplens.org/datasets/movielens/ml-100k/u.data\n",
            "Resolving files.grouplens.org (files.grouplens.org)... 128.101.65.152\n",
            "Connecting to files.grouplens.org (files.grouplens.org)|128.101.65.152|:443... connected.\n",
            "HTTP request sent, awaiting response... 200 OK\n",
            "Length: 1979173 (1.9M)\n",
            "Saving to: ‘/root/u.data’\n",
            "\n",
            "/root/u.data        100%[===================>]   1.89M  11.2MB/s    in 0.2s    \n",
            "\n",
            "2022-10-18 21:58:24 (11.2 MB/s) - ‘/root/u.data’ saved [1979173/1979173]\n",
            "\n"
          ]
        }
      ],
      "source": [
        "# download movielens dataset\n",
        "!wget https://files.grouplens.org/datasets/movielens/ml-100k/u.item -O ~/u.item\n",
        "!wget https://files.grouplens.org/datasets/movielens/ml-100k/u.data -O ~/u.data"
      ]
    },
    {
      "cell_type": "code",
      "execution_count": 67,
      "metadata": {
        "id": "Gt7D1CZmjkNk"
      },
      "outputs": [],
      "source": [
        "# copy movielens dataset to HDFS\n",
        "!{HADOOP_HOME}/bin/hdfs dfs -copyFromLocal ~/u.item ~/input/\n",
        "!{HADOOP_HOME}/bin/hdfs dfs -copyFromLocal ~/u.data ~/input/"
      ]
    },
    {
      "cell_type": "code",
      "execution_count": 68,
      "metadata": {
        "colab": {
          "base_uri": "https://localhost:8080/"
        },
        "id": "3Xd1di0duhEm",
        "outputId": "9912fda3-037d-403d-d7ef-5446360dc177"
      },
      "outputs": [
        {
          "output_type": "stream",
          "name": "stdout",
          "text": [
            "1|Toy Story (1995)|01-Jan-1995||http://us.imdb.com/M/title-exact?Toy%20Story%20(1995)|0|0|0|1|1|1|0|0|0|0|0|0|0|0|0|0|0|0|0\n",
            "2|GoldenEye (1995)|01-Jan-1995||http://us.imdb.com/M/title-exact?GoldenEye%20(1995)|0|1|1|0|0|0|0|0|0|0|0|0|0|0|0|0|1|0|0\n",
            "3|Four Rooms (1995)|01-Jan-1995||http://us.imdb.com/M/title-exact?Four%20Rooms%20(1995)|0|0|0|0|0|0|0|0|0|0|0|0|0|0|0|0|1|0|0\n",
            "4|Get Shorty (1995)|01-Jan-1995||http://us.imdb.com/M/title-exact?Get%20Shorty%20(1995)|0|1|0|0|0|1|0|0|1|0|0|0|0|0|0|0|0|0|0\n",
            "5|Copycat (1995)|01-Jan-1995||http://us.imdb.com/M/title-exact?Copycat%20(1995)|0|0|0|0|0|0|1|0|1|0|0|0|0|0|0|0|1|0|0\n",
            "cat: Unable to write to output stream.\n",
            "196\t242\t3\t881250949\n",
            "186\t302\t3\t891717742\n",
            "22\t377\t1\t878887116\n",
            "244\t51\t2\t880606923\n",
            "166\t346\t1\t886397596\n",
            "cat: Unable to write to output stream.\n"
          ]
        }
      ],
      "source": [
        "# show first 5 lines\n",
        "!{HADOOP_HOME}/bin/hdfs dfs -cat ~/input/u.item | head -n 5\n",
        "!{HADOOP_HOME}/bin/hdfs dfs -cat ~/input/u.data | head -n 5"
      ]
    },
    {
      "cell_type": "markdown",
      "metadata": {
        "id": "3AdejKjnLVet"
      },
      "source": [
        "### Hive Solution"
      ]
    },
    {
      "cell_type": "code",
      "execution_count": 69,
      "metadata": {
        "colab": {
          "base_uri": "https://localhost:8080/"
        },
        "id": "KA8jT_66j1dS",
        "outputId": "1156cc37-522d-484f-8575-57e8a888c1fc"
      },
      "outputs": [
        {
          "output_type": "stream",
          "name": "stdout",
          "text": [
            "SLF4J: Class path contains multiple SLF4J bindings.\n",
            "SLF4J: Found binding in [jar:file:/usr/local/apache-hive-3.1.2-bin/lib/log4j-slf4j-impl-2.10.0.jar!/org/slf4j/impl/StaticLoggerBinder.class]\n",
            "SLF4J: Found binding in [jar:file:/usr/local/hadoop-3.3.4/share/hadoop/common/lib/slf4j-reload4j-1.7.36.jar!/org/slf4j/impl/StaticLoggerBinder.class]\n",
            "SLF4J: See http://www.slf4j.org/codes.html#multiple_bindings for an explanation.\n",
            "SLF4J: Actual binding is of type [org.apache.logging.slf4j.Log4jLoggerFactory]\n",
            "Hive Session ID = 648b8a83-dce2-4db0-a98e-5c54849fb727\n",
            "\n",
            "Logging initialized using configuration in jar:file:/usr/local/apache-hive-3.1.2-bin/lib/hive-common-3.1.2.jar!/hive-log4j2.properties Async: true\n",
            "Hive Session ID = 968f029b-f811-4950-b930-8225429b9afb\n",
            "OK\n",
            "Time taken: 2.151 seconds\n",
            "OK\n",
            "Time taken: 0.141 seconds\n"
          ]
        }
      ],
      "source": [
        "#create tables \n",
        "str = \"\"\"\n",
        "CREATE TABLE IF NOT EXISTS userdb.ratings\n",
        "(userId INT, movieId INT, rating INT, ratingTime INT)\n",
        "ROW FORMAT DELIMITED\n",
        "FIELDS TERMINATED BY '\\t'\n",
        "LINES TERMINATED BY '\\n'\n",
        "STORED AS TEXTFILE;\n",
        "\n",
        "CREATE TABLE IF NOT EXISTS userdb.movies\n",
        "(movieId int, movieTitle varchar(200), releaseDate date, videoReleaseDate date, imdbUrl varchar(300), flagGenreUnknown int, flagGenreAction int, flagGenreAdventure int, flagGenreAnimation int, flagGenreChildrens int, flagGenreComedy int, flagGenreCrime int, flagGenreDocumentary int, flagGenreDrama int, flagGenreFantasy int, flagGenreFilmNoir int, flagGenreHorror int, flagGenreMusical int,  flagGenreMystery int, flagGenreRomance int, flagGenreSciFi int, flagGenreThriller int, flagGenreWar int, flagGenreWestern int)\n",
        "ROW FORMAT DELIMITED\n",
        "FIELDS TERMINATED BY '|'\n",
        "LINES TERMINATED BY '\\n'\n",
        "STORED AS TEXTFILE;\n",
        "\"\"\"\n",
        "\n",
        "!{HIVE_HOME}/bin/hive -e \"{str}\""
      ]
    },
    {
      "cell_type": "code",
      "execution_count": 70,
      "metadata": {
        "colab": {
          "base_uri": "https://localhost:8080/"
        },
        "id": "dPuYN3o2c3gt",
        "outputId": "64cb64a1-1f54-4241-c67e-100ed41699e2"
      },
      "outputs": [
        {
          "output_type": "stream",
          "name": "stdout",
          "text": [
            "SLF4J: Class path contains multiple SLF4J bindings.\n",
            "SLF4J: Found binding in [jar:file:/usr/local/apache-hive-3.1.2-bin/lib/log4j-slf4j-impl-2.10.0.jar!/org/slf4j/impl/StaticLoggerBinder.class]\n",
            "SLF4J: Found binding in [jar:file:/usr/local/hadoop-3.3.4/share/hadoop/common/lib/slf4j-reload4j-1.7.36.jar!/org/slf4j/impl/StaticLoggerBinder.class]\n",
            "SLF4J: See http://www.slf4j.org/codes.html#multiple_bindings for an explanation.\n",
            "SLF4J: Actual binding is of type [org.apache.logging.slf4j.Log4jLoggerFactory]\n",
            "Hive Session ID = cd295d3d-b8e7-4e28-9d6e-04e36e53889e\n",
            "\n",
            "Logging initialized using configuration in jar:file:/usr/local/apache-hive-3.1.2-bin/lib/hive-common-3.1.2.jar!/hive-log4j2.properties Async: true\n",
            "Hive Session ID = c4b63d5b-da14-4072-901f-eef23191bdbb\n",
            "Loading data to table userdb.ratings\n",
            "OK\n",
            "Time taken: 2.623 seconds\n",
            "Loading data to table userdb.movies\n",
            "OK\n",
            "Time taken: 0.332 seconds\n"
          ]
        }
      ],
      "source": [
        "# load data\n",
        "str = \"\"\"\n",
        "LOAD DATA LOCAL INPATH '/root/input/u.data'\n",
        "OVERWRITE INTO TABLE userdb.ratings;\n",
        "\n",
        "LOAD DATA LOCAL INPATH '/root/input/u.item'\n",
        "OVERWRITE INTO TABLE userdb.movies;\n",
        "\"\"\"\n",
        "\n",
        "!{HIVE_HOME}/bin/hive -e \"{str}\""
      ]
    },
    {
      "cell_type": "code",
      "execution_count": 71,
      "metadata": {
        "colab": {
          "base_uri": "https://localhost:8080/"
        },
        "id": "qHeDmVYCdcWY",
        "outputId": "26481cbe-11af-4f1e-eab7-83c6ab67e12a"
      },
      "outputs": [
        {
          "output_type": "stream",
          "name": "stdout",
          "text": [
            "SLF4J: Class path contains multiple SLF4J bindings.\n",
            "SLF4J: Found binding in [jar:file:/usr/local/apache-hive-3.1.2-bin/lib/log4j-slf4j-impl-2.10.0.jar!/org/slf4j/impl/StaticLoggerBinder.class]\n",
            "SLF4J: Found binding in [jar:file:/usr/local/hadoop-3.3.4/share/hadoop/common/lib/slf4j-reload4j-1.7.36.jar!/org/slf4j/impl/StaticLoggerBinder.class]\n",
            "SLF4J: See http://www.slf4j.org/codes.html#multiple_bindings for an explanation.\n",
            "SLF4J: Actual binding is of type [org.apache.logging.slf4j.Log4jLoggerFactory]\n",
            "Hive Session ID = 77a6fe36-fcb9-496a-9e0e-071061b85f16\n",
            "\n",
            "Logging initialized using configuration in jar:file:/usr/local/apache-hive-3.1.2-bin/lib/hive-common-3.1.2.jar!/hive-log4j2.properties Async: true\n",
            "Hive Session ID = ca97b19e-d81d-4457-b0cc-b26038c0360e\n",
            "OK\n",
            "196\t242\t3\t881250949\n",
            "186\t302\t3\t891717742\n",
            "22\t377\t1\t878887116\n",
            "244\t51\t2\t880606923\n",
            "166\t346\t1\t886397596\n",
            "298\t474\t4\t884182806\n",
            "115\t265\t2\t881171488\n",
            "253\t465\t5\t891628467\n",
            "305\t451\t3\t886324817\n",
            "6\t86\t3\t883603013\n",
            "Time taken: 4.011 seconds, Fetched: 10 row(s)\n",
            "OK\n",
            "1\tToy Story (1995)\n",
            "2\tGoldenEye (1995)\n",
            "3\tFour Rooms (1995)\n",
            "4\tGet Shorty (1995)\n",
            "5\tCopycat (1995)\n",
            "6\tShanghai Triad (Yao a yao yao dao waipo qiao) (1995)\n",
            "7\tTwelve Monkeys (1995)\n",
            "8\tBabe (1995)\n",
            "9\tDead Man Walking (1995)\n",
            "10\tRichard III (1995)\n",
            "Time taken: 0.287 seconds, Fetched: 10 row(s)\n"
          ]
        }
      ],
      "source": [
        "# show top 10 rows from both tables\n",
        "str = \"\"\"\n",
        "select * \n",
        "from userdb.ratings \n",
        "limit 10;\n",
        "\n",
        "select movieId, movieTitle \n",
        "from userdb.movies \n",
        "limit 10;\n",
        "\"\"\"\n",
        "\n",
        "!{HIVE_HOME}/bin/hive -e \"{str}\""
      ]
    },
    {
      "cell_type": "code",
      "execution_count": 72,
      "metadata": {
        "colab": {
          "base_uri": "https://localhost:8080/"
        },
        "id": "RUJezLMOd0kn",
        "outputId": "07605d06-dbca-4408-fff5-ee0c1a5dd224"
      },
      "outputs": [
        {
          "output_type": "stream",
          "name": "stdout",
          "text": [
            "SLF4J: Class path contains multiple SLF4J bindings.\n",
            "SLF4J: Found binding in [jar:file:/usr/local/apache-hive-3.1.2-bin/lib/log4j-slf4j-impl-2.10.0.jar!/org/slf4j/impl/StaticLoggerBinder.class]\n",
            "SLF4J: Found binding in [jar:file:/usr/local/hadoop-3.3.4/share/hadoop/common/lib/slf4j-reload4j-1.7.36.jar!/org/slf4j/impl/StaticLoggerBinder.class]\n",
            "SLF4J: See http://www.slf4j.org/codes.html#multiple_bindings for an explanation.\n",
            "SLF4J: Actual binding is of type [org.apache.logging.slf4j.Log4jLoggerFactory]\n",
            "Hive Session ID = f5bfedc9-b652-4c5d-85c5-9e357895266c\n",
            "\n",
            "Logging initialized using configuration in jar:file:/usr/local/apache-hive-3.1.2-bin/lib/hive-common-3.1.2.jar!/hive-log4j2.properties Async: true\n",
            "Hive Session ID = f1dc2de6-be89-41b0-a3d7-cf8fb4241d47\n",
            "Query ID = root_20221018220226_1d832839-9840-4042-91a9-77c73c57e221\n",
            "Total jobs = 2\n",
            "Launching Job 1 out of 2\n",
            "Number of reduce tasks not specified. Estimated from input data size: 1\n",
            "In order to change the average load for a reducer (in bytes):\n",
            "  set hive.exec.reducers.bytes.per.reducer=<number>\n",
            "In order to limit the maximum number of reducers:\n",
            "  set hive.exec.reducers.max=<number>\n",
            "In order to set a constant number of reducers:\n",
            "  set mapreduce.job.reduces=<number>\n",
            "Job running in-process (local Hadoop)\n",
            "2022-10-18 22:02:33,498 Stage-1 map = 0%,  reduce = 0%\n",
            "2022-10-18 22:02:34,510 Stage-1 map = 100%,  reduce = 100%\n",
            "Ended Job = job_local970429324_0001\n",
            "Execution completed successfully\n",
            "MapredLocal task succeeded\n",
            "Launching Job 2 out of 2\n",
            "Number of reduce tasks determined at compile time: 1\n",
            "In order to change the average load for a reducer (in bytes):\n",
            "  set hive.exec.reducers.bytes.per.reducer=<number>\n",
            "In order to limit the maximum number of reducers:\n",
            "  set hive.exec.reducers.max=<number>\n",
            "In order to set a constant number of reducers:\n",
            "  set mapreduce.job.reduces=<number>\n",
            "Job running in-process (local Hadoop)\n",
            "2022-10-18 22:02:47,417 Stage-3 map = 100%,  reduce = 100%\n",
            "Ended Job = job_local1942778070_0002\n",
            "MapReduce Jobs Launched: \n",
            "Stage-Stage-1:  HDFS Read: 0 HDFS Write: 0 SUCCESS\n",
            "Stage-Stage-3:  HDFS Read: 0 HDFS Write: 0 SUCCESS\n",
            "Total MapReduce CPU Time Spent: 0 msec\n",
            "OK\n",
            "408\tClose Shave, A (1995)\t4.491071428571429\n",
            "318\tSchindler's List (1993)\t4.466442953020135\n",
            "169\tWrong Trousers, The (1993)\t4.466101694915254\n",
            "483\tCasablanca (1942)\t4.45679012345679\n",
            "64\tShawshank Redemption, The (1994)\t4.445229681978798\n",
            "603\tRear Window (1954)\t4.3875598086124405\n",
            "12\tUsual Suspects, The (1995)\t4.385767790262173\n",
            "50\tStar Wars (1977)\t4.3584905660377355\n",
            "178\t12 Angry Men (1957)\t4.344\n",
            "134\tCitizen Kane (1941)\t4.292929292929293\n",
            "Time taken: 21.303 seconds, Fetched: 10 row(s)\n"
          ]
        }
      ],
      "source": [
        "# show the 10 movies with the highest average rating and which received at least 100 ratings\n",
        "str = \"\"\"\n",
        "with rat as \n",
        "  (select movieId, avg(rating) as avgRating, count(*) as cnt \n",
        "  from userdb.ratings \n",
        "  group by movieId) \n",
        "select rat.movieId, mov.movieTitle, rat.avgRating \n",
        "from rat join userdb.movies mov on rat.movieId=mov.movieId \n",
        "where cnt >= 100\n",
        "order by avgRating desc \n",
        "limit 10;\n",
        "\"\"\"\n",
        "\n",
        "!{HIVE_HOME}/bin/hive -e \"{str}\""
      ]
    },
    {
      "cell_type": "markdown",
      "source": [
        "# Final Message"
      ],
      "metadata": {
        "id": "P_btm6nXI_IV"
      }
    },
    {
      "cell_type": "markdown",
      "metadata": {
        "id": "wigO7aVazDpi"
      },
      "source": [
        "Congratulations if you reached the end of this Notebook successfully! \n",
        "\n",
        "You should know by now how to solve Big Data problems using Hadoop and Hive. Despite the simplicity of the problems presented, they require the use of typical data operations such as read, store, join, aggregate, filter, and apply user-defined transformations. These operations form the basis for more complex applications that you should try to implement."
      ]
    }
  ],
  "metadata": {
    "colab": {
      "collapsed_sections": [
        "INOY5FU3V-oI",
        "CaW7ViKZt8Zp",
        "q8vqQOwZCC3U"
      ],
      "provenance": []
    },
    "kernelspec": {
      "display_name": "Python 3",
      "name": "python3"
    },
    "language_info": {
      "name": "python"
    }
  },
  "nbformat": 4,
  "nbformat_minor": 0
}