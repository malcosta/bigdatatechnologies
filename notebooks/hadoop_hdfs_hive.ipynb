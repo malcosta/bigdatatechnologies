{
  "cells": [
    {
      "cell_type": "markdown",
      "metadata": {
        "id": "mAI8MDUANbqn"
      },
      "source": [
        "# Big Data Technologies"
      ]
    },
    {
      "cell_type": "markdown",
      "metadata": {
        "id": "N4EuEOW2uH1r"
      },
      "source": [
        "Welcome to this hands-on class on building Big Data applications using HDFS, Hadoop MapReduce and Hive. \n",
        "\n",
        "This Notebook exemplifies how to:\n",
        "- [install Java](#install_java)\n",
        "- [install Hadoop](#install_hadoop)\n",
        "- [run HDFS operations](#hdfs)\n",
        "- [install Hive](#install_hive)\n",
        "- [run Hive programs](#hive)\n",
        "- [solve a \"real\" challenge](#challenge)\n"
      ]
    },
    {
      "cell_type": "code",
      "execution_count": 1,
      "metadata": {
        "id": "D5vgDm0KPs7o"
      },
      "outputs": [],
      "source": [
        "HADOOP_VERSION = \"3.3.1\"\n",
        "HADOOP_HOME = \"/usr/local/hadoop-\"+HADOOP_VERSION\n",
        "HIVE_VERSION = \"3.1.2\"\n",
        "HIVE_HOME = \"/usr/local/apache-hive-\"+HIVE_VERSION+\"-bin\"\n",
        "PIG_VERSION = \"0.17.0\"\n",
        "PIG_HOME = \"/usr/local/pig-\"+PIG_VERSION\n",
        "GIT_REPOSITORY = \"/malcosta/bigdatatechnologies\"\n",
        "GIT_FILES = \"https://raw.githubusercontent.com\" + GIT_REPOSITORY + \"/main\""
      ]
    },
    {
      "cell_type": "markdown",
      "metadata": {
        "id": "INOY5FU3V-oI"
      },
      "source": [
        "<a name=\"install_java\"></a>\n",
        "# Java Installation"
      ]
    },
    {
      "cell_type": "markdown",
      "metadata": {
        "id": "WM_5KHWKWJ74"
      },
      "source": [
        "It needs Java version 8 for Hive compatibility"
      ]
    },
    {
      "cell_type": "code",
      "execution_count": 2,
      "metadata": {
        "colab": {
          "base_uri": "https://localhost:8080/"
        },
        "id": "3vTr08g0XSS5",
        "outputId": "0d69ccd1-d38c-4738-9401-311a1e70ec2a"
      },
      "outputs": [
        {
          "output_type": "stream",
          "name": "stdout",
          "text": [
            "openjdk version \"11.0.13\" 2021-10-19\n",
            "OpenJDK Runtime Environment (build 11.0.13+8-Ubuntu-0ubuntu1.18.04)\n",
            "OpenJDK 64-Bit Server VM (build 11.0.13+8-Ubuntu-0ubuntu1.18.04, mixed mode, sharing)\n"
          ]
        }
      ],
      "source": [
        "# check current Java version\n",
        "!java -version"
      ]
    },
    {
      "cell_type": "code",
      "execution_count": 3,
      "metadata": {
        "id": "_oCdNSOUaC7f"
      },
      "outputs": [],
      "source": [
        "!apt-get update > /dev/null"
      ]
    },
    {
      "cell_type": "code",
      "execution_count": 4,
      "metadata": {
        "id": "6gNX7qsX3BHj"
      },
      "outputs": [],
      "source": [
        "# install JAVA version 8\n",
        "!apt-get install openjdk-8-jre > /dev/null"
      ]
    },
    {
      "cell_type": "code",
      "execution_count": 5,
      "metadata": {
        "id": "zpNQ7Y7k_7hm"
      },
      "outputs": [],
      "source": [
        "import os\n",
        "os.environ['JAVA_HOME'] = \"/usr/lib/jvm/java-8-openjdk-amd64\"\n",
        "os.environ['PATH'] = os.environ['JAVA_HOME']+\"/bin:\"+os.environ['PATH']"
      ]
    },
    {
      "cell_type": "code",
      "execution_count": 6,
      "metadata": {
        "colab": {
          "base_uri": "https://localhost:8080/"
        },
        "id": "YShPd_uicsNF",
        "outputId": "016d8dac-ff90-4ba2-c6b9-10d4ac1fb1f6"
      },
      "outputs": [
        {
          "output_type": "stream",
          "name": "stdout",
          "text": [
            "/usr/lib/jvm/java-8-openjdk-amd64\n",
            "/usr/lib/jvm/java-8-openjdk-amd64/bin:/usr/local/nvidia/bin:/usr/local/cuda/bin:/usr/local/sbin:/usr/local/bin:/usr/sbin:/usr/bin:/sbin:/bin:/tools/node/bin:/tools/google-cloud-sdk/bin:/opt/bin\n"
          ]
        }
      ],
      "source": [
        "# check environment variablea\n",
        "!echo $JAVA_HOME\n",
        "!echo $PATH"
      ]
    },
    {
      "cell_type": "code",
      "execution_count": 7,
      "metadata": {
        "colab": {
          "base_uri": "https://localhost:8080/"
        },
        "id": "FvrYdy2-XM8Z",
        "outputId": "8273c79b-e025-4d39-9fc6-fad8892d44ef"
      },
      "outputs": [
        {
          "output_type": "stream",
          "name": "stdout",
          "text": [
            "openjdk version \"1.8.0_312\"\n",
            "OpenJDK Runtime Environment (build 1.8.0_312-8u312-b07-0ubuntu1~18.04-b07)\n",
            "OpenJDK 64-Bit Server VM (build 25.312-b07, mixed mode)\n"
          ]
        }
      ],
      "source": [
        "!java -version"
      ]
    },
    {
      "cell_type": "markdown",
      "metadata": {
        "id": "CaW7ViKZt8Zp"
      },
      "source": [
        "<a name=\"install_hadoop\"></a>\n",
        "# Hadoop Installation (Single Node)"
      ]
    },
    {
      "cell_type": "code",
      "execution_count": 8,
      "metadata": {
        "colab": {
          "base_uri": "https://localhost:8080/"
        },
        "id": "goLfbpELP6Ai",
        "outputId": "de7bb9b7-cd11-44ce-9b25-439d76b396ed"
      },
      "outputs": [
        {
          "output_type": "stream",
          "name": "stdout",
          "text": [
            "--2022-01-21 01:47:07--  https://downloads.apache.org/hadoop/common/hadoop-3.3.1/hadoop-3.3.1.tar.gz\n",
            "Resolving downloads.apache.org (downloads.apache.org)... 88.99.95.219, 135.181.214.104, 2a01:4f8:10a:201a::2, ...\n",
            "Connecting to downloads.apache.org (downloads.apache.org)|88.99.95.219|:443... connected.\n",
            "HTTP request sent, awaiting response... 200 OK\n",
            "Length: 605187279 (577M) [application/x-gzip]\n",
            "Saving to: ‘hadoop-3.3.1.tar.gz’\n",
            "\n",
            "hadoop-3.3.1.tar.gz 100%[===================>] 577.15M  90.9MB/s    in 6.1s    \n",
            "\n",
            "2022-01-21 01:47:13 (94.2 MB/s) - ‘hadoop-3.3.1.tar.gz’ saved [605187279/605187279]\n",
            "\n"
          ]
        }
      ],
      "source": [
        "# download hadoop (check last version at https://hadoop.apache.org/releases.html)\n",
        "!wget https://downloads.apache.org/hadoop/common/hadoop-{HADOOP_VERSION}/hadoop-{HADOOP_VERSION}.tar.gz"
      ]
    },
    {
      "cell_type": "code",
      "execution_count": 9,
      "metadata": {
        "id": "uRUwLEcWu_j7"
      },
      "outputs": [],
      "source": [
        "# uncompress hadoop file\n",
        "!tar -xzvf hadoop-{HADOOP_VERSION}.tar.gz > /dev/null"
      ]
    },
    {
      "cell_type": "code",
      "execution_count": 10,
      "metadata": {
        "id": "FuEdet3uvHKc"
      },
      "outputs": [],
      "source": [
        "# move hadoop directory\n",
        "!mv hadoop-{HADOOP_VERSION}/ /usr/local/"
      ]
    },
    {
      "cell_type": "code",
      "execution_count": 11,
      "metadata": {
        "id": "cfF-ZQHv-WLI"
      },
      "outputs": [],
      "source": [
        "# set HADOOP_HOME environment variable\n",
        "os.environ['HADOOP_HOME'] = HADOOP_HOME"
      ]
    },
    {
      "cell_type": "code",
      "execution_count": 12,
      "metadata": {
        "colab": {
          "base_uri": "https://localhost:8080/"
        },
        "id": "vdCERdQ--sui",
        "outputId": "94baf35d-ebd9-4ffa-8570-07de94eee080"
      },
      "outputs": [
        {
          "output_type": "stream",
          "name": "stdout",
          "text": [
            "/usr/local/hadoop-3.3.1\n"
          ]
        }
      ],
      "source": [
        "# check environment variable\n",
        "!echo $HADOOP_HOME"
      ]
    },
    {
      "cell_type": "code",
      "execution_count": 13,
      "metadata": {
        "colab": {
          "base_uri": "https://localhost:8080/"
        },
        "id": "Vfqj22shy98c",
        "outputId": "7b95cb4e-11b6-4270-8cea-60e56eb60bcb"
      },
      "outputs": [
        {
          "output_type": "stream",
          "name": "stdout",
          "text": [
            "Usage: hadoop [OPTIONS] SUBCOMMAND [SUBCOMMAND OPTIONS]\n",
            " or    hadoop [OPTIONS] CLASSNAME [CLASSNAME OPTIONS]\n",
            "  where CLASSNAME is a user-provided Java class\n",
            "\n",
            "  OPTIONS is none or any of:\n",
            "\n",
            "buildpaths                       attempt to add class files from build tree\n",
            "--config dir                     Hadoop config directory\n",
            "--debug                          turn on shell script debug mode\n",
            "--help                           usage information\n",
            "hostnames list[,of,host,names]   hosts to use in slave mode\n",
            "hosts filename                   list of hosts to use in slave mode\n",
            "loglevel level                   set the log4j level for this command\n",
            "workers                          turn on worker mode\n",
            "\n",
            "  SUBCOMMAND is one of:\n",
            "\n",
            "\n",
            "    Admin Commands:\n",
            "\n",
            "daemonlog     get/set the log level for each daemon\n",
            "\n",
            "    Client Commands:\n",
            "\n",
            "archive       create a Hadoop archive\n",
            "checknative   check native Hadoop and compression libraries availability\n",
            "classpath     prints the class path needed to get the Hadoop jar and the\n",
            "              required libraries\n",
            "conftest      validate configuration XML files\n",
            "credential    interact with credential providers\n",
            "distch        distributed metadata changer\n",
            "distcp        copy file or directories recursively\n",
            "dtutil        operations related to delegation tokens\n",
            "envvars       display computed Hadoop environment variables\n",
            "fs            run a generic filesystem user client\n",
            "gridmix       submit a mix of synthetic job, modeling a profiled from\n",
            "              production load\n",
            "jar <jar>     run a jar file. NOTE: please use \"yarn jar\" to launch YARN\n",
            "              applications, not this command.\n",
            "jnipath       prints the java.library.path\n",
            "kdiag         Diagnose Kerberos Problems\n",
            "kerbname      show auth_to_local principal conversion\n",
            "key           manage keys via the KeyProvider\n",
            "rumenfolder   scale a rumen input trace\n",
            "rumentrace    convert logs into a rumen trace\n",
            "s3guard       manage metadata on S3\n",
            "trace         view and modify Hadoop tracing settings\n",
            "version       print the version\n",
            "\n",
            "    Daemon Commands:\n",
            "\n",
            "kms           run KMS, the Key Management Server\n",
            "registrydns   run the registry DNS server\n",
            "\n",
            "SUBCOMMAND may print help when invoked w/o parameters or with -h.\n"
          ]
        }
      ],
      "source": [
        "# see list of Hadoop commands\n",
        "!{HADOOP_HOME}/bin/hadoop"
      ]
    },
    {
      "cell_type": "code",
      "execution_count": 14,
      "metadata": {
        "colab": {
          "base_uri": "https://localhost:8080/"
        },
        "id": "-SGkIYlGq1Sb",
        "outputId": "3d31e5b1-b9f9-48e1-981d-2e07980c8ca1"
      },
      "outputs": [
        {
          "output_type": "stream",
          "name": "stdout",
          "text": [
            "Hadoop 3.3.1\n",
            "Source code repository https://github.com/apache/hadoop.git -r a3b9c37a397ad4188041dd80621bdeefc46885f2\n",
            "Compiled by ubuntu on 2021-06-15T05:13Z\n",
            "Compiled with protoc 3.7.1\n",
            "From source with checksum 88a4ddb2299aca054416d6b7f81ca55\n",
            "This command was run using /usr/local/hadoop-3.3.1/share/hadoop/common/hadoop-common-3.3.1.jar\n"
          ]
        }
      ],
      "source": [
        "# see Hadoop version\n",
        "!{HADOOP_HOME}/bin/hadoop version"
      ]
    },
    {
      "cell_type": "code",
      "execution_count": 15,
      "metadata": {
        "colab": {
          "base_uri": "https://localhost:8080/"
        },
        "id": "PmmHm9Jkn_pm",
        "outputId": "e6221c32-8407-4fd2-ad94-843078a915a4"
      },
      "outputs": [
        {
          "output_type": "stream",
          "name": "stdout",
          "text": [
            "JAVA_HOME='/usr/lib/jvm/java-8-openjdk-amd64'\n",
            "HADOOP_COMMON_HOME='/usr/local/hadoop-3.3.1'\n",
            "HADOOP_COMMON_DIR='share/hadoop/common'\n",
            "HADOOP_COMMON_LIB_JARS_DIR='share/hadoop/common/lib'\n",
            "HADOOP_COMMON_LIB_NATIVE_DIR='lib/native'\n",
            "HADOOP_CONF_DIR='/usr/local/hadoop-3.3.1/etc/hadoop'\n",
            "HADOOP_TOOLS_HOME='/usr/local/hadoop-3.3.1'\n",
            "HADOOP_TOOLS_DIR='share/hadoop/tools'\n",
            "HADOOP_TOOLS_LIB_JARS_DIR='share/hadoop/tools/lib'\n"
          ]
        }
      ],
      "source": [
        "# see Hadoop environment variables \n",
        "!{HADOOP_HOME}/bin/hadoop envvars"
      ]
    },
    {
      "cell_type": "markdown",
      "metadata": {
        "id": "ThMjjAy_x0kp"
      },
      "source": [
        "<a name=\"hdfs\"></a>\n",
        "# HDFS Operations"
      ]
    },
    {
      "cell_type": "code",
      "execution_count": 16,
      "metadata": {
        "colab": {
          "base_uri": "https://localhost:8080/"
        },
        "id": "N_hmKjT4_sG6",
        "outputId": "b3cb4e95-70cb-42d5-f05f-4fd0b03a6e55"
      },
      "outputs": [
        {
          "output_type": "stream",
          "name": "stdout",
          "text": [
            "Usage: hdfs [OPTIONS] SUBCOMMAND [SUBCOMMAND OPTIONS]\n",
            "\n",
            "  OPTIONS is none or any of:\n",
            "\n",
            "--buildpaths                       attempt to add class files from build tree\n",
            "--config dir                       Hadoop config directory\n",
            "--daemon (start|status|stop)       operate on a daemon\n",
            "--debug                            turn on shell script debug mode\n",
            "--help                             usage information\n",
            "--hostnames list[,of,host,names]   hosts to use in worker mode\n",
            "--hosts filename                   list of hosts to use in worker mode\n",
            "--loglevel level                   set the log4j level for this command\n",
            "--workers                          turn on worker mode\n",
            "\n",
            "  SUBCOMMAND is one of:\n",
            "\n",
            "\n",
            "    Admin Commands:\n",
            "\n",
            "cacheadmin           configure the HDFS cache\n",
            "crypto               configure HDFS encryption zones\n",
            "debug                run a Debug Admin to execute HDFS debug commands\n",
            "dfsadmin             run a DFS admin client\n",
            "dfsrouteradmin       manage Router-based federation\n",
            "ec                   run a HDFS ErasureCoding CLI\n",
            "fsck                 run a DFS filesystem checking utility\n",
            "haadmin              run a DFS HA admin client\n",
            "jmxget               get JMX exported values from NameNode or DataNode.\n",
            "oev                  apply the offline edits viewer to an edits file\n",
            "oiv                  apply the offline fsimage viewer to an fsimage\n",
            "oiv_legacy           apply the offline fsimage viewer to a legacy fsimage\n",
            "storagepolicies      list/get/set/satisfyStoragePolicy block storage policies\n",
            "\n",
            "    Client Commands:\n",
            "\n",
            "classpath            prints the class path needed to get the hadoop jar and\n",
            "                     the required libraries\n",
            "dfs                  run a filesystem command on the file system\n",
            "envvars              display computed Hadoop environment variables\n",
            "fetchdt              fetch a delegation token from the NameNode\n",
            "getconf              get config values from configuration\n",
            "groups               get the groups which users belong to\n",
            "lsSnapshottableDir   list all snapshottable dirs owned by the current user\n",
            "snapshotDiff         diff two snapshots of a directory or diff the current\n",
            "                     directory contents with a snapshot\n",
            "version              print the version\n",
            "\n",
            "    Daemon Commands:\n",
            "\n",
            "balancer             run a cluster balancing utility\n",
            "datanode             run a DFS datanode\n",
            "dfsrouter            run the DFS router\n",
            "diskbalancer         Distributes data evenly among disks on a given node\n",
            "httpfs               run HttpFS server, the HDFS HTTP Gateway\n",
            "journalnode          run the DFS journalnode\n",
            "mover                run a utility to move block replicas across storage types\n",
            "namenode             run the DFS namenode\n",
            "nfs3                 run an NFS version 3 gateway\n",
            "portmap              run a portmap service\n",
            "secondarynamenode    run the DFS secondary namenode\n",
            "sps                  run external storagepolicysatisfier\n",
            "zkfc                 run the ZK Failover Controller daemon\n",
            "\n",
            "SUBCOMMAND may print help when invoked w/o parameters or with -h.\n"
          ]
        }
      ],
      "source": [
        "# see list of HDFS commands\n",
        "!{HADOOP_HOME}/bin/hdfs"
      ]
    },
    {
      "cell_type": "code",
      "execution_count": 17,
      "metadata": {
        "id": "FTPs9XbV_SIJ"
      },
      "outputs": [],
      "source": [
        "# format namenode\n",
        "#!{HADOOP_HOME}/bin/hdfs namenode -format"
      ]
    },
    {
      "cell_type": "code",
      "execution_count": 18,
      "metadata": {
        "id": "jdacAUQfANL-"
      },
      "outputs": [],
      "source": [
        "# start the namenode and datanodes (and YARN)\n",
        "#!nohup {HADOOP_HOME}/sbin/start-all.sh\t&"
      ]
    },
    {
      "cell_type": "code",
      "source": [
        "# see the list of filesystem commands available on HDFS:\n",
        "!{HADOOP_HOME}/bin/hdfs dfs"
      ],
      "metadata": {
        "colab": {
          "base_uri": "https://localhost:8080/"
        },
        "id": "KIIFznFk5Km2",
        "outputId": "df000ae0-daee-451e-c537-f1e5b2aa3e91"
      },
      "execution_count": 19,
      "outputs": [
        {
          "output_type": "stream",
          "name": "stdout",
          "text": [
            "Usage: hadoop fs [generic options]\n",
            "\t[-appendToFile <localsrc> ... <dst>]\n",
            "\t[-cat [-ignoreCrc] <src> ...]\n",
            "\t[-checksum [-v] <src> ...]\n",
            "\t[-chgrp [-R] GROUP PATH...]\n",
            "\t[-chmod [-R] <MODE[,MODE]... | OCTALMODE> PATH...]\n",
            "\t[-chown [-R] [OWNER][:[GROUP]] PATH...]\n",
            "\t[-concat <target path> <src path> <src path> ...]\n",
            "\t[-copyFromLocal [-f] [-p] [-l] [-d] [-t <thread count>] <localsrc> ... <dst>]\n",
            "\t[-copyToLocal [-f] [-p] [-ignoreCrc] [-crc] <src> ... <localdst>]\n",
            "\t[-count [-q] [-h] [-v] [-t [<storage type>]] [-u] [-x] [-e] [-s] <path> ...]\n",
            "\t[-cp [-f] [-p | -p[topax]] [-d] <src> ... <dst>]\n",
            "\t[-createSnapshot <snapshotDir> [<snapshotName>]]\n",
            "\t[-deleteSnapshot <snapshotDir> <snapshotName>]\n",
            "\t[-df [-h] [<path> ...]]\n",
            "\t[-du [-s] [-h] [-v] [-x] <path> ...]\n",
            "\t[-expunge [-immediate] [-fs <path>]]\n",
            "\t[-find <path> ... <expression> ...]\n",
            "\t[-get [-f] [-p] [-ignoreCrc] [-crc] <src> ... <localdst>]\n",
            "\t[-getfacl [-R] <path>]\n",
            "\t[-getfattr [-R] {-n name | -d} [-e en] <path>]\n",
            "\t[-getmerge [-nl] [-skip-empty-file] <src> <localdst>]\n",
            "\t[-head <file>]\n",
            "\t[-help [cmd ...]]\n",
            "\t[-ls [-C] [-d] [-h] [-q] [-R] [-t] [-S] [-r] [-u] [-e] [<path> ...]]\n",
            "\t[-mkdir [-p] <path> ...]\n",
            "\t[-moveFromLocal [-f] [-p] [-l] [-d] <localsrc> ... <dst>]\n",
            "\t[-moveToLocal <src> <localdst>]\n",
            "\t[-mv <src> ... <dst>]\n",
            "\t[-put [-f] [-p] [-l] [-d] [-t <thread count>] <localsrc> ... <dst>]\n",
            "\t[-renameSnapshot <snapshotDir> <oldName> <newName>]\n",
            "\t[-rm [-f] [-r|-R] [-skipTrash] [-safely] <src> ...]\n",
            "\t[-rmdir [--ignore-fail-on-non-empty] <dir> ...]\n",
            "\t[-setfacl [-R] [{-b|-k} {-m|-x <acl_spec>} <path>]|[--set <acl_spec> <path>]]\n",
            "\t[-setfattr {-n name [-v value] | -x name} <path>]\n",
            "\t[-setrep [-R] [-w] <rep> <path> ...]\n",
            "\t[-stat [format] <path> ...]\n",
            "\t[-tail [-f] [-s <sleep interval>] <file>]\n",
            "\t[-test -[defswrz] <path>]\n",
            "\t[-text [-ignoreCrc] <src> ...]\n",
            "\t[-touch [-a] [-m] [-t TIMESTAMP (yyyyMMdd:HHmmss) ] [-c] <path> ...]\n",
            "\t[-touchz <path> ...]\n",
            "\t[-truncate [-w] <length> <path> ...]\n",
            "\t[-usage [cmd ...]]\n",
            "\n",
            "Generic options supported are:\n",
            "-conf <configuration file>        specify an application configuration file\n",
            "-D <property=value>               define a value for a given property\n",
            "-fs <file:///|hdfs://namenode:port> specify default filesystem URL to use, overrides 'fs.defaultFS' property from configurations.\n",
            "-jt <local|resourcemanager:port>  specify a ResourceManager\n",
            "-files <file1,...>                specify a comma-separated list of files to be copied to the map reduce cluster\n",
            "-libjars <jar1,...>               specify a comma-separated list of jar files to be included in the classpath\n",
            "-archives <archive1,...>          specify a comma-separated list of archives to be unarchived on the compute machines\n",
            "\n",
            "The general command line syntax is:\n",
            "command [genericOptions] [commandOptions]\n",
            "\n"
          ]
        }
      ]
    },
    {
      "cell_type": "code",
      "execution_count": 20,
      "metadata": {
        "colab": {
          "base_uri": "https://localhost:8080/"
        },
        "id": "Vethr2mD_7A8",
        "outputId": "d0db791c-4829-4490-d64d-88bdfcccb378"
      },
      "outputs": [
        {
          "output_type": "stream",
          "name": "stdout",
          "text": [
            "/usr/local/hadoop-3.3.1/LICENSE.txt  /usr/local/hadoop-3.3.1/README.txt\n",
            "/usr/local/hadoop-3.3.1/NOTICE.txt\n"
          ]
        }
      ],
      "source": [
        "# list txt files (examples) in local file system\n",
        "!ls {HADOOP_HOME}/*.txt"
      ]
    },
    {
      "cell_type": "code",
      "execution_count": 21,
      "metadata": {
        "id": "yVo6DX_CeNQp"
      },
      "outputs": [],
      "source": [
        "# create directory in HDFS\n",
        "!{HADOOP_HOME}/bin/hdfs dfs -mkdir ~/input/"
      ]
    },
    {
      "cell_type": "code",
      "execution_count": 22,
      "metadata": {
        "id": "HV0ocUBXEbaE"
      },
      "outputs": [],
      "source": [
        "# copy input (txt) files from local file system to HDFS directory\n",
        "!{HADOOP_HOME}/bin/hdfs dfs -copyFromLocal {HADOOP_HOME}/*.txt ~/input/"
      ]
    },
    {
      "cell_type": "code",
      "execution_count": 23,
      "metadata": {
        "id": "J-AvywaIXOt_"
      },
      "outputs": [],
      "source": [
        "# copy input (txt) files between HDFS directories\n",
        "!{HADOOP_HOME}/bin/hdfs dfs -mkdir ~/input2/\n",
        "!{HADOOP_HOME}/bin/hdfs dfs -cp ~/input/* ~/input2/"
      ]
    },
    {
      "cell_type": "code",
      "execution_count": 24,
      "metadata": {
        "colab": {
          "base_uri": "https://localhost:8080/"
        },
        "id": "WwWit5OWEb0q",
        "outputId": "6cec9017-d6b2-4bfd-a32e-984039d0ccde"
      },
      "outputs": [
        {
          "output_type": "stream",
          "name": "stdout",
          "text": [
            "Found 3 items\n",
            "-rw-r--r--   1 root root      15217 2022-01-21 01:47 /root/input/LICENSE.txt\n",
            "-rw-r--r--   1 root root       1541 2022-01-21 01:47 /root/input/NOTICE.txt\n",
            "-rw-r--r--   1 root root        175 2022-01-21 01:47 /root/input/README.txt\n",
            "Found 3 items\n",
            "-rw-r--r--   1 root root      15217 2022-01-21 01:47 /root/input2/LICENSE.txt\n",
            "-rw-r--r--   1 root root       1541 2022-01-21 01:47 /root/input2/NOTICE.txt\n",
            "-rw-r--r--   1 root root        175 2022-01-21 01:47 /root/input2/README.txt\n"
          ]
        }
      ],
      "source": [
        "# list txt files in HDFS directories\n",
        "!{HADOOP_HOME}/bin/hdfs dfs -ls ~/input/ ~/input2/"
      ]
    },
    {
      "cell_type": "code",
      "execution_count": 25,
      "metadata": {
        "colab": {
          "base_uri": "https://localhost:8080/"
        },
        "id": "BWyH5VJsGHU3",
        "outputId": "7d8084c0-265a-4478-ff6e-db9ce168f3a7"
      },
      "outputs": [
        {
          "output_type": "stream",
          "name": "stdout",
          "text": [
            "2022-01-21 01:47:36,673 INFO Configuration.deprecation: io.bytes.per.checksum is deprecated. Instead, use dfs.bytes-per-checksum\n",
            "Deleted /root/input2/LICENSE.txt\n",
            "Found 2 items\n",
            "-rw-r--r--   1 root root       1541 2022-01-21 01:47 /root/input2/NOTICE.txt\n",
            "-rw-r--r--   1 root root        175 2022-01-21 01:47 /root/input2/README.txt\n"
          ]
        }
      ],
      "source": [
        "# delete file in HDFS\n",
        "!{HADOOP_HOME}/bin/hdfs dfs -rm -r ~/input2/LICENSE.txt\n",
        "!{HADOOP_HOME}/bin/hdfs dfs -ls ~/input2/"
      ]
    },
    {
      "cell_type": "code",
      "execution_count": 26,
      "metadata": {
        "colab": {
          "base_uri": "https://localhost:8080/"
        },
        "id": "VeoFxtu6Gab2",
        "outputId": "f6789894-fff2-4764-fd3d-f82fc8f8ef71"
      },
      "outputs": [
        {
          "output_type": "stream",
          "name": "stdout",
          "text": [
            "2022-01-21 01:47:38,741 INFO Configuration.deprecation: io.bytes.per.checksum is deprecated. Instead, use dfs.bytes-per-checksum\n",
            "Deleted /root/input2\n"
          ]
        }
      ],
      "source": [
        "# delete directory recursively in HDFS\n",
        "!{HADOOP_HOME}/bin/hdfs dfs -rm -r ~/input2/"
      ]
    },
    {
      "cell_type": "code",
      "execution_count": 27,
      "metadata": {
        "colab": {
          "base_uri": "https://localhost:8080/"
        },
        "id": "LshgSwpq3c3Q",
        "outputId": "a53ec662-0d29-46db-855d-9d72729cf672"
      },
      "outputs": [
        {
          "output_type": "stream",
          "name": "stdout",
          "text": [
            "For the latest information about Hadoop, please visit our website at:\n",
            "\n",
            "   http://hadoop.apache.org/\n",
            "\n",
            "and our wiki, at:\n",
            "\n",
            "   https://cwiki.apache.org/confluence/display/HADOOP/\n"
          ]
        }
      ],
      "source": [
        "# show file content\n",
        "!{HADOOP_HOME}/bin/hdfs dfs -cat ~/input/README.txt"
      ]
    },
    {
      "cell_type": "code",
      "execution_count": 28,
      "metadata": {
        "colab": {
          "base_uri": "https://localhost:8080/"
        },
        "id": "aFPMe7pCA_7u",
        "outputId": "fc9e19b9-f0ef-423c-da80-4a564ee78a51"
      },
      "outputs": [
        {
          "output_type": "stream",
          "name": "stdout",
          "text": [
            "175  175  /root/input/README.txt\n"
          ]
        }
      ],
      "source": [
        "# show file size\n",
        "!{HADOOP_HOME}/bin/hdfs dfs -du -h ~/input/README.txt"
      ]
    },
    {
      "cell_type": "code",
      "execution_count": 29,
      "metadata": {
        "colab": {
          "base_uri": "https://localhost:8080/"
        },
        "id": "_f-6RBsrD35V",
        "outputId": "5250f4fb-bacc-4688-aa50-3a434e7f3e5b"
      },
      "outputs": [
        {
          "output_type": "stream",
          "name": "stdout",
          "text": [
            "NOTICE.txt\n"
          ]
        }
      ],
      "source": [
        "# create local directory\n",
        "!mkdir ~/localdir\n",
        "\n",
        "# copy input (txt) file from HDFS directory to local file system\n",
        "!{HADOOP_HOME}/bin/hdfs dfs -copyToLocal ~/input/NOTICE.txt ~/localdir/\n",
        "\n",
        "# list local directory\n",
        "!ls ~/localdir/"
      ]
    },
    {
      "cell_type": "markdown",
      "metadata": {
        "id": "q8vqQOwZCC3U"
      },
      "source": [
        "<a name=\"install_hive\"></a>\n",
        "# Hive Installation"
      ]
    },
    {
      "cell_type": "code",
      "execution_count": 30,
      "metadata": {
        "id": "Gx8J3LhzCEKN",
        "colab": {
          "base_uri": "https://localhost:8080/"
        },
        "outputId": "0c61b5a3-91a3-401b-c3ba-15a6f16a7275"
      },
      "outputs": [
        {
          "output_type": "stream",
          "name": "stdout",
          "text": [
            "--2022-01-21 01:47:42--  https://dlcdn.apache.org/hive/hive-3.1.2/apache-hive-3.1.2-bin.tar.gz\n",
            "Resolving dlcdn.apache.org (dlcdn.apache.org)... 151.101.2.132, 2a04:4e42::644\n",
            "Connecting to dlcdn.apache.org (dlcdn.apache.org)|151.101.2.132|:443... connected.\n",
            "HTTP request sent, awaiting response... 200 OK\n",
            "Length: 278813748 (266M) [application/x-gzip]\n",
            "Saving to: ‘apache-hive-3.1.2-bin.tar.gz’\n",
            "\n",
            "apache-hive-3.1.2-b 100%[===================>] 265.90M   303MB/s    in 0.9s    \n",
            "\n",
            "2022-01-21 01:47:43 (303 MB/s) - ‘apache-hive-3.1.2-bin.tar.gz’ saved [278813748/278813748]\n",
            "\n"
          ]
        }
      ],
      "source": [
        "# download hive (check last version at https://dlcdn.apache.org/hive/)\n",
        "!wget https://dlcdn.apache.org/hive/hive-{HIVE_VERSION}/apache-hive-{HIVE_VERSION}-bin.tar.gz"
      ]
    },
    {
      "cell_type": "code",
      "execution_count": 31,
      "metadata": {
        "id": "ARGgFw13tCSM"
      },
      "outputs": [],
      "source": [
        "# uncompress file\n",
        "!tar -xzvf apache-hive-{HIVE_VERSION}-bin.tar.gz > /dev/null"
      ]
    },
    {
      "cell_type": "code",
      "execution_count": 32,
      "metadata": {
        "id": "lyeOgjJNtMRV"
      },
      "outputs": [],
      "source": [
        "# move hive directory\n",
        "!mv apache-hive-{HIVE_VERSION}-bin/ /usr/local/"
      ]
    },
    {
      "cell_type": "code",
      "execution_count": 33,
      "metadata": {
        "id": "bkdmS79PZZIo",
        "colab": {
          "base_uri": "https://localhost:8080/"
        },
        "outputId": "bc9860eb-dde0-4fb1-c2d9-e849aaffa66b"
      },
      "outputs": [
        {
          "output_type": "stream",
          "name": "stdout",
          "text": [
            "--2022-01-21 01:47:46--  https://raw.githubusercontent.com/malcosta/bigdatatechnologies/main/setup/hive-default.xml.template\n",
            "Resolving raw.githubusercontent.com (raw.githubusercontent.com)... 185.199.111.133, 185.199.108.133, 185.199.110.133, ...\n",
            "Connecting to raw.githubusercontent.com (raw.githubusercontent.com)|185.199.111.133|:443... connected.\n",
            "HTTP request sent, awaiting response... 200 OK\n",
            "Length: 300685 (294K) [text/plain]\n",
            "Saving to: ‘/usr/local/apache-hive-3.1.2-bin/conf/hive-site.xml’\n",
            "\n",
            "/usr/local/apache-h 100%[===================>] 293.64K  --.-KB/s    in 0.01s   \n",
            "\n",
            "2022-01-21 01:47:46 (23.9 MB/s) - ‘/usr/local/apache-hive-3.1.2-bin/conf/hive-site.xml’ saved [300685/300685]\n",
            "\n"
          ]
        }
      ],
      "source": [
        "# download hive-site.xml\n",
        "!wget {GIT_FILES}/setup/hive-default.xml.template -O {HIVE_HOME}/conf/hive-site.xml # the original file has a charset problem"
      ]
    },
    {
      "cell_type": "code",
      "execution_count": 34,
      "metadata": {
        "id": "mC29cYq_ttzg"
      },
      "outputs": [],
      "source": [
        "# set HIVE_HOME environment variable\n",
        "os.environ['HIVE_HOME'] = HIVE_HOME\n",
        "os.environ['PATH'] = os.environ['PATH']+\":\"+os.environ['HIVE_HOME']+\"/bin\""
      ]
    },
    {
      "cell_type": "code",
      "execution_count": 35,
      "metadata": {
        "id": "s5_BAy9DvjvX",
        "colab": {
          "base_uri": "https://localhost:8080/"
        },
        "outputId": "1b593ed6-350d-4670-f90c-dfac95ce9f8a"
      },
      "outputs": [
        {
          "output_type": "stream",
          "name": "stdout",
          "text": [
            "mkdir: `/tmp': File exists\n"
          ]
        }
      ],
      "source": [
        "# setup HIVE directories in HDFS\n",
        "!{HADOOP_HOME}/bin/hdfs dfs -mkdir /tmp\n",
        "!{HADOOP_HOME}/bin/hdfs dfs -mkdir -p /user/hive/warehouse\n",
        "!{HADOOP_HOME}/bin/hdfs dfs -chmod g+w /tmp\n",
        "!{HADOOP_HOME}/bin/hdfs dfs -chmod g+w /user/hive/warehouse"
      ]
    },
    {
      "cell_type": "code",
      "execution_count": 36,
      "metadata": {
        "id": "wLs8-BoPzUtw",
        "colab": {
          "base_uri": "https://localhost:8080/"
        },
        "outputId": "5c5a341a-fe6a-41cc-b506-0768bf60af09"
      },
      "outputs": [
        {
          "output_type": "stream",
          "name": "stdout",
          "text": [
            "SLF4J: Class path contains multiple SLF4J bindings.\n",
            "SLF4J: Found binding in [jar:file:/usr/local/apache-hive-3.1.2-bin/lib/log4j-slf4j-impl-2.10.0.jar!/org/slf4j/impl/StaticLoggerBinder.class]\n",
            "SLF4J: Found binding in [jar:file:/usr/local/hadoop-3.3.1/share/hadoop/common/lib/slf4j-log4j12-1.7.30.jar!/org/slf4j/impl/StaticLoggerBinder.class]\n",
            "SLF4J: See http://www.slf4j.org/codes.html#multiple_bindings for an explanation.\n",
            "SLF4J: Actual binding is of type [org.apache.logging.slf4j.Log4jLoggerFactory]\n",
            "Metastore connection URL:\t jdbc:derby:;databaseName=metastore_db;create=true\n",
            "Metastore Connection Driver :\t org.apache.derby.jdbc.EmbeddedDriver\n",
            "Metastore connection User:\t APP\n",
            "Starting metastore schema initialization to 3.1.0\n",
            "Initialization script hive-schema-3.1.0.derby.sql\n",
            "\n",
            " \n",
            " \n",
            " \n",
            " \n",
            " \n",
            " \n",
            " \n",
            " \n",
            " \n",
            "\n",
            " \n",
            " \n",
            " \n",
            " \n",
            " \n",
            " \n",
            " \n",
            " \n",
            " \n",
            " \n",
            " \n",
            " \n",
            " \n",
            " \n",
            " \n",
            " \n",
            " \n",
            " \n",
            " \n",
            " \n",
            " \n",
            " \n",
            " \n",
            " \n",
            " \n",
            "\n",
            " \n",
            " \n",
            " \n",
            " \n",
            " \n",
            " \n",
            " \n",
            " \n",
            " \n",
            " \n",
            " \n",
            " \n",
            " \n",
            " \n",
            " \n",
            " \n",
            " \n",
            " \n",
            " \n",
            " \n",
            " \n",
            " \n",
            "\n",
            " \n",
            " \n",
            " \n",
            " \n",
            " \n",
            " \n",
            " \n",
            " \n",
            "\n",
            " \n",
            "\n",
            " \n",
            " \n",
            " \n",
            "\n",
            " \n",
            " \n",
            " \n",
            "\n",
            "\n",
            " \n",
            " \n",
            " \n",
            "\n",
            " \n",
            " \n",
            " \n",
            "\n",
            "\n",
            " \n",
            " \n",
            " \n",
            " \n",
            " \n",
            " \n",
            " \n",
            "\n",
            "\n",
            " \n",
            " \n",
            " \n",
            "\n",
            " \n",
            " \n",
            " \n",
            "\n",
            " \n",
            " \n",
            "\n",
            " \n",
            " \n",
            " \n",
            " \n",
            " \n",
            "\n",
            " \n",
            " \n",
            " \n",
            " \n",
            " \n",
            " \n",
            " \n",
            " \n",
            " \n",
            " \n",
            " \n",
            " \n",
            "\n",
            " \n",
            " \n",
            " \n",
            " \n",
            " \n",
            " \n",
            "\n",
            " \n",
            " \n",
            " \n",
            " \n",
            " \n",
            " \n",
            " \n",
            " \n",
            " \n",
            " \n",
            " \n",
            " \n",
            " \n",
            " \n",
            " \n",
            " \n",
            " \n",
            " \n",
            " \n",
            " \n",
            " \n",
            " \n",
            " \n",
            " \n",
            " \n",
            " \n",
            " \n",
            " \n",
            " \n",
            " \n",
            " \n",
            " \n",
            " \n",
            " \n",
            " \n",
            " \n",
            " \n",
            "\n",
            " \n",
            " \n",
            " \n",
            "\n",
            " \n",
            " \n",
            " \n",
            " \n",
            " \n",
            " \n",
            " \n",
            " \n",
            " \n",
            " \n",
            " \n",
            " \n",
            " \n",
            " \n",
            " \n",
            " \n",
            "\n",
            " \n",
            " \n",
            "\n",
            "\n",
            " \n",
            "\n",
            "\n",
            "\n",
            " \n",
            "\n",
            "\n",
            " \n",
            " \n",
            " \n",
            " \n",
            " \n",
            " \n",
            " \n",
            " \n",
            " \n",
            "\n",
            " \n",
            " \n",
            " \n",
            " \n",
            " \n",
            " \n",
            "\n",
            " \n",
            "\n",
            "\n",
            "Initialization script completed\n",
            "schemaTool completed\n"
          ]
        }
      ],
      "source": [
        "# initiate Derby Database\n",
        "!{HIVE_HOME}/bin/schematool -dbType derby -initSchema"
      ]
    },
    {
      "cell_type": "markdown",
      "metadata": {
        "id": "LAfHV8va3uqe"
      },
      "source": [
        "<a name=\"hive\"></a>\n",
        "# Hive Programs"
      ]
    },
    {
      "cell_type": "markdown",
      "metadata": {
        "id": "ZR5zn0F74M_G"
      },
      "source": [
        "### Create Database & Tables"
      ]
    },
    {
      "cell_type": "code",
      "execution_count": 37,
      "metadata": {
        "id": "1oudGmHqk2ua",
        "colab": {
          "base_uri": "https://localhost:8080/"
        },
        "outputId": "a661b757-dad0-4530-e6ea-3d53b287fd85"
      },
      "outputs": [
        {
          "output_type": "stream",
          "name": "stdout",
          "text": [
            "SLF4J: Class path contains multiple SLF4J bindings.\n",
            "SLF4J: Found binding in [jar:file:/usr/local/apache-hive-3.1.2-bin/lib/log4j-slf4j-impl-2.10.0.jar!/org/slf4j/impl/StaticLoggerBinder.class]\n",
            "SLF4J: Found binding in [jar:file:/usr/local/hadoop-3.3.1/share/hadoop/common/lib/slf4j-log4j12-1.7.30.jar!/org/slf4j/impl/StaticLoggerBinder.class]\n",
            "SLF4J: See http://www.slf4j.org/codes.html#multiple_bindings for an explanation.\n",
            "SLF4J: Actual binding is of type [org.apache.logging.slf4j.Log4jLoggerFactory]\n",
            "Hive Session ID = 39cba07e-a8ed-4d15-a028-eec9c53822c0\n",
            "\n",
            "Logging initialized using configuration in jar:file:/usr/local/apache-hive-3.1.2-bin/lib/hive-common-3.1.2.jar!/hive-log4j2.properties Async: true\n",
            "Hive Session ID = 5be39fb1-3279-4b26-a542-62c3af643101\n",
            "OK\n",
            "Time taken: 1.27 seconds\n",
            "OK\n",
            "default\n",
            "userdb\n",
            "Time taken: 0.143 seconds, Fetched: 2 row(s)\n",
            "OK\n",
            "Time taken: 0.324 seconds\n",
            "OK\n",
            "Time taken: 0.287 seconds\n",
            "OK\n",
            "Time taken: 0.026 seconds\n",
            "OK\n",
            "employee\n",
            "profession\n",
            "Time taken: 0.032 seconds, Fetched: 2 row(s)\n"
          ]
        }
      ],
      "source": [
        "str = \"\"\"\n",
        "CREATE DATABASE IF NOT EXISTS userdb;\n",
        "\n",
        "SHOW DATABASES;\n",
        "\n",
        "CREATE TABLE IF NOT EXISTS userdb.employee \n",
        "(id int,\n",
        "name String,\n",
        "salary int)\n",
        "COMMENT 'Employee details'\n",
        "PARTITIONED BY (profession String)\n",
        "ROW FORMAT DELIMITED\n",
        "FIELDS TERMINATED BY '\\t'\n",
        "LINES TERMINATED BY '\\n'\n",
        "STORED AS TEXTFILE;\n",
        "\n",
        "CREATE TABLE IF NOT EXISTS userdb.profession \n",
        "(id int,\n",
        "description String)\n",
        "COMMENT 'Profession details'\n",
        "ROW FORMAT DELIMITED\n",
        "FIELDS TERMINATED BY '\\t'\n",
        "LINES TERMINATED BY '\\n'\n",
        "STORED AS TEXTFILE;\n",
        "\n",
        "USE userdb;\n",
        "SHOW TABLES;\n",
        "\"\"\"\n",
        "\n",
        "!{HIVE_HOME}/bin/hive -e \"{str}\""
      ]
    },
    {
      "cell_type": "code",
      "execution_count": 38,
      "metadata": {
        "id": "T8H_hYeRfIk5",
        "colab": {
          "base_uri": "https://localhost:8080/"
        },
        "outputId": "4227d3c2-fc28-4624-d401-efc4946017c7"
      },
      "outputs": [
        {
          "output_type": "stream",
          "name": "stdout",
          "text": [
            "drwxr-xr-x   - root root       4096 2022-01-21 01:48 /user/hive/warehouse/userdb.db\n",
            "drwxr-xr-x   - root root       4096 2022-01-21 01:48 /user/hive/warehouse/userdb.db/employee\n",
            "drwxr-xr-x   - root root       4096 2022-01-21 01:48 /user/hive/warehouse/userdb.db/profession\n"
          ]
        }
      ],
      "source": [
        "# list warehouse and database\n",
        "!{HADOOP_HOME}/bin/hdfs dfs -ls -R /user/hive/warehouse/"
      ]
    },
    {
      "cell_type": "markdown",
      "metadata": {
        "id": "YfudfdQ2si-H"
      },
      "source": [
        "### Load Tables"
      ]
    },
    {
      "cell_type": "code",
      "execution_count": 39,
      "metadata": {
        "id": "pG1ikZlKYjKC",
        "colab": {
          "base_uri": "https://localhost:8080/"
        },
        "outputId": "bb5a1b03-f78b-4208-c86f-dd6664f6fe95"
      },
      "outputs": [
        {
          "output_type": "stream",
          "name": "stdout",
          "text": [
            "--2022-01-21 01:48:14--  https://raw.githubusercontent.com/malcosta/bigdatatechnologies/main/data/employees.tsv\n",
            "Resolving raw.githubusercontent.com (raw.githubusercontent.com)... 185.199.110.133, 185.199.111.133, 185.199.109.133, ...\n",
            "Connecting to raw.githubusercontent.com (raw.githubusercontent.com)|185.199.110.133|:443... connected.\n",
            "HTTP request sent, awaiting response... 200 OK\n",
            "Length: 129 [text/plain]\n",
            "Saving to: ‘/root/employees.tsv’\n",
            "\n",
            "/root/employees.tsv 100%[===================>]     129  --.-KB/s    in 0s      \n",
            "\n",
            "2022-01-21 01:48:14 (12.0 MB/s) - ‘/root/employees.tsv’ saved [129/129]\n",
            "\n",
            "--2022-01-21 01:48:14--  https://raw.githubusercontent.com/malcosta/bigdatatechnologies/main/data/professions.tsv\n",
            "Resolving raw.githubusercontent.com (raw.githubusercontent.com)... 185.199.111.133, 185.199.108.133, 185.199.110.133, ...\n",
            "Connecting to raw.githubusercontent.com (raw.githubusercontent.com)|185.199.111.133|:443... connected.\n",
            "HTTP request sent, awaiting response... 200 OK\n",
            "Length: 71 [text/plain]\n",
            "Saving to: ‘/root/professions.tsv’\n",
            "\n",
            "/root/professions.t 100%[===================>]      71  --.-KB/s    in 0s      \n",
            "\n",
            "2022-01-21 01:48:14 (5.61 MB/s) - ‘/root/professions.tsv’ saved [71/71]\n",
            "\n"
          ]
        }
      ],
      "source": [
        "# download data files (get link from Github)\n",
        "!wget {GIT_FILES}/data/employees.tsv -O ~/employees.tsv\n",
        "!wget {GIT_FILES}/data/professions.tsv -O ~/professions.tsv"
      ]
    },
    {
      "cell_type": "code",
      "execution_count": 40,
      "metadata": {
        "id": "rqDnx07-btY9"
      },
      "outputs": [],
      "source": [
        "# copy tsv file to HDFS\n",
        "!{HADOOP_HOME}/bin/hdfs dfs -copyFromLocal ~/employees.tsv ~/input/\n",
        "!{HADOOP_HOME}/bin/hdfs dfs -copyFromLocal ~/professions.tsv ~/input/"
      ]
    },
    {
      "cell_type": "code",
      "execution_count": 41,
      "metadata": {
        "id": "ceGhg20DUaCM",
        "colab": {
          "base_uri": "https://localhost:8080/"
        },
        "outputId": "67c79d2a-3bc0-43aa-abda-ffb9476a82f2"
      },
      "outputs": [
        {
          "output_type": "stream",
          "name": "stdout",
          "text": [
            "SLF4J: Class path contains multiple SLF4J bindings.\n",
            "SLF4J: Found binding in [jar:file:/usr/local/apache-hive-3.1.2-bin/lib/log4j-slf4j-impl-2.10.0.jar!/org/slf4j/impl/StaticLoggerBinder.class]\n",
            "SLF4J: Found binding in [jar:file:/usr/local/hadoop-3.3.1/share/hadoop/common/lib/slf4j-log4j12-1.7.30.jar!/org/slf4j/impl/StaticLoggerBinder.class]\n",
            "SLF4J: See http://www.slf4j.org/codes.html#multiple_bindings for an explanation.\n",
            "SLF4J: Actual binding is of type [org.apache.logging.slf4j.Log4jLoggerFactory]\n",
            "Hive Session ID = e8e1284e-87ea-416a-b033-72027102d1e3\n",
            "\n",
            "Logging initialized using configuration in jar:file:/usr/local/apache-hive-3.1.2-bin/lib/hive-common-3.1.2.jar!/hive-log4j2.properties Async: true\n",
            "Hive Session ID = 0432c348-87de-4f3f-b0da-39bbad74b8bf\n",
            "Query ID = root_20220121014826_c871083d-e591-4c5a-a47c-23378b946088\n",
            "Total jobs = 3\n",
            "Launching Job 1 out of 3\n",
            "Number of reduce tasks not specified. Estimated from input data size: 1\n",
            "In order to change the average load for a reducer (in bytes):\n",
            "  set hive.exec.reducers.bytes.per.reducer=<number>\n",
            "In order to limit the maximum number of reducers:\n",
            "  set hive.exec.reducers.max=<number>\n",
            "In order to set a constant number of reducers:\n",
            "  set mapreduce.job.reduces=<number>\n",
            "Job running in-process (local Hadoop)\n",
            "2022-01-21 01:48:30,491 Stage-1 map = 100%,  reduce = 100%\n",
            "Ended Job = job_local1727524412_0001\n",
            "Stage-4 is selected by condition resolver.\n",
            "Stage-3 is filtered out by condition resolver.\n",
            "Stage-5 is filtered out by condition resolver.\n",
            "Moving data to directory file:/user/hive/warehouse/userdb.db/employee/.hive-staging_hive_2022-01-21_01-48-27_863_2941445531462399048-1/-ext-10000\n",
            "Loading data to table userdb.employee partition (profession=null)\n",
            "\n",
            "\n",
            "\t Time taken to load dynamic partitions: 1.011 seconds\n",
            "\t Time taken for adding to write entity : 0.002 seconds\n",
            "MapReduce Jobs Launched: \n",
            "Stage-Stage-1:  HDFS Read: 0 HDFS Write: 0 SUCCESS\n",
            "Total MapReduce CPU Time Spent: 0 msec\n",
            "OK\n",
            "Time taken: 5.585 seconds\n",
            "Loading data to table userdb.profession\n",
            "OK\n",
            "Time taken: 0.203 seconds\n"
          ]
        }
      ],
      "source": [
        "# load data (tsv file) into table\n",
        "\n",
        "str = \"\"\"\n",
        "LOAD DATA INPATH '/root/input/employees.tsv'\n",
        "OVERWRITE INTO TABLE userdb.employee;\n",
        "\n",
        "LOAD DATA INPATH '/root/input/professions.tsv'\n",
        "OVERWRITE INTO TABLE userdb.profession;\n",
        "\"\"\"\n",
        "\n",
        "!{HIVE_HOME}/bin/hive -e \"{str}\""
      ]
    },
    {
      "cell_type": "code",
      "execution_count": 42,
      "metadata": {
        "id": "61lwo5k603M8",
        "colab": {
          "base_uri": "https://localhost:8080/"
        },
        "outputId": "45115493-0ac3-4d1e-96b7-50a3973f10eb"
      },
      "outputs": [
        {
          "output_type": "stream",
          "name": "stdout",
          "text": [
            "SLF4J: Class path contains multiple SLF4J bindings.\n",
            "SLF4J: Found binding in [jar:file:/usr/local/apache-hive-3.1.2-bin/lib/log4j-slf4j-impl-2.10.0.jar!/org/slf4j/impl/StaticLoggerBinder.class]\n",
            "SLF4J: Found binding in [jar:file:/usr/local/hadoop-3.3.1/share/hadoop/common/lib/slf4j-log4j12-1.7.30.jar!/org/slf4j/impl/StaticLoggerBinder.class]\n",
            "SLF4J: See http://www.slf4j.org/codes.html#multiple_bindings for an explanation.\n",
            "SLF4J: Actual binding is of type [org.apache.logging.slf4j.Log4jLoggerFactory]\n",
            "Hive Session ID = 64b9dfb7-4bfe-479c-8120-a6e8f477c04f\n",
            "\n",
            "Logging initialized using configuration in jar:file:/usr/local/apache-hive-3.1.2-bin/lib/hive-common-3.1.2.jar!/hive-log4j2.properties Async: true\n",
            "Hive Session ID = 8545fc9a-7250-4fd9-a31a-646b7d6d148c\n",
            "Query ID = root_20220121014841_ffdacfc1-989c-481c-84eb-b9f1402ef915\n",
            "Total jobs = 3\n",
            "Launching Job 1 out of 3\n",
            "Number of reduce tasks not specified. Estimated from input data size: 1\n",
            "In order to change the average load for a reducer (in bytes):\n",
            "  set hive.exec.reducers.bytes.per.reducer=<number>\n",
            "In order to limit the maximum number of reducers:\n",
            "  set hive.exec.reducers.max=<number>\n",
            "In order to set a constant number of reducers:\n",
            "  set mapreduce.job.reduces=<number>\n",
            "Job running in-process (local Hadoop)\n",
            "2022-01-21 01:48:46,702 Stage-1 map = 100%,  reduce = 100%\n",
            "Ended Job = job_local1961333559_0001\n",
            "Stage-4 is selected by condition resolver.\n",
            "Stage-3 is filtered out by condition resolver.\n",
            "Stage-5 is filtered out by condition resolver.\n",
            "Moving data to directory file:/user/hive/warehouse/userdb.db/employee/.hive-staging_hive_2022-01-21_01-48-41_564_4523741396464153538-1/-ext-10000\n",
            "Loading data to table userdb.employee partition (profession=null)\n",
            "\n",
            "\n",
            "\t Time taken to load dynamic partitions: 0.601 seconds\n",
            "\t Time taken for adding to write entity : 0.002 seconds\n",
            "MapReduce Jobs Launched: \n",
            "Stage-Stage-1:  HDFS Read: 0 HDFS Write: 0 SUCCESS\n",
            "Total MapReduce CPU Time Spent: 0 msec\n",
            "OK\n",
            "Time taken: 6.81 seconds\n"
          ]
        }
      ],
      "source": [
        "# duplicate entries of table employee using a query\n",
        "\n",
        "str = \"\"\"\n",
        "INSERT INTO TABLE userdb.employee select * FROM userdb.employee;\n",
        "\"\"\"\n",
        "\n",
        "!{HIVE_HOME}/bin/hive -e \"{str}\""
      ]
    },
    {
      "cell_type": "code",
      "execution_count": 43,
      "metadata": {
        "id": "Ay23Gtb22YgN",
        "colab": {
          "base_uri": "https://localhost:8080/"
        },
        "outputId": "3d281c59-ad94-4b2c-e3a3-e0205e961dc0"
      },
      "outputs": [
        {
          "output_type": "stream",
          "name": "stdout",
          "text": [
            "SLF4J: Class path contains multiple SLF4J bindings.\n",
            "SLF4J: Found binding in [jar:file:/usr/local/apache-hive-3.1.2-bin/lib/log4j-slf4j-impl-2.10.0.jar!/org/slf4j/impl/StaticLoggerBinder.class]\n",
            "SLF4J: Found binding in [jar:file:/usr/local/hadoop-3.3.1/share/hadoop/common/lib/slf4j-log4j12-1.7.30.jar!/org/slf4j/impl/StaticLoggerBinder.class]\n",
            "SLF4J: See http://www.slf4j.org/codes.html#multiple_bindings for an explanation.\n",
            "SLF4J: Actual binding is of type [org.apache.logging.slf4j.Log4jLoggerFactory]\n",
            "Hive Session ID = 1eb1f1f6-7d70-44fe-a8d3-9a4ecea62a09\n",
            "\n",
            "Logging initialized using configuration in jar:file:/usr/local/apache-hive-3.1.2-bin/lib/hive-common-3.1.2.jar!/hive-log4j2.properties Async: true\n",
            "Hive Session ID = a8d974ad-2f50-4486-9736-c31478300468\n",
            "Query ID = root_20220121014857_d78b956a-975d-4b49-bda3-5415b0690a26\n",
            "Total jobs = 3\n",
            "Launching Job 1 out of 3\n",
            "Number of reduce tasks not specified. Estimated from input data size: 1\n",
            "In order to change the average load for a reducer (in bytes):\n",
            "  set hive.exec.reducers.bytes.per.reducer=<number>\n",
            "In order to limit the maximum number of reducers:\n",
            "  set hive.exec.reducers.max=<number>\n",
            "In order to set a constant number of reducers:\n",
            "  set mapreduce.job.reduces=<number>\n",
            "Job running in-process (local Hadoop)\n",
            "2022-01-21 01:49:02,490 Stage-1 map = 100%,  reduce = 100%\n",
            "Ended Job = job_local1082724084_0001\n",
            "Stage-4 is selected by condition resolver.\n",
            "Stage-3 is filtered out by condition resolver.\n",
            "Stage-5 is filtered out by condition resolver.\n",
            "Moving data to directory file:/user/hive/warehouse/userdb.db/employee/.hive-staging_hive_2022-01-21_01-48-57_311_1782752219531454164-1/-ext-10000\n",
            "Loading data to table userdb.employee partition (profession=null)\n",
            "\n",
            "\n",
            "\t Time taken to load dynamic partitions: 0.591 seconds\n",
            "\t Time taken for adding to write entity : 0.001 seconds\n",
            "MapReduce Jobs Launched: \n",
            "Stage-Stage-1:  HDFS Read: 0 HDFS Write: 0 SUCCESS\n",
            "Total MapReduce CPU Time Spent: 0 msec\n",
            "OK\n",
            "Time taken: 6.368 seconds\n",
            "Query ID = root_20220121014903_c046fecd-95e6-45b1-ab20-3b12d26f44f7\n",
            "Total jobs = 3\n",
            "Launching Job 1 out of 3\n",
            "Number of reduce tasks not specified. Estimated from input data size: 1\n",
            "In order to change the average load for a reducer (in bytes):\n",
            "  set hive.exec.reducers.bytes.per.reducer=<number>\n",
            "In order to limit the maximum number of reducers:\n",
            "  set hive.exec.reducers.max=<number>\n",
            "In order to set a constant number of reducers:\n",
            "  set mapreduce.job.reduces=<number>\n",
            "Job running in-process (local Hadoop)\n",
            "2022-01-21 01:49:05,299 Stage-1 map = 100%,  reduce = 100%\n",
            "Ended Job = job_local1128956389_0002\n",
            "Stage-4 is selected by condition resolver.\n",
            "Stage-3 is filtered out by condition resolver.\n",
            "Stage-5 is filtered out by condition resolver.\n",
            "Moving data to directory file:/user/hive/warehouse/userdb.db/employee/.hive-staging_hive_2022-01-21_01-49-03_646_1011259354452900394-1/-ext-10000\n",
            "Loading data to table userdb.employee partition (profession=null)\n",
            "\n",
            "\n",
            "\t Time taken to load dynamic partitions: 0.067 seconds\n",
            "\t Time taken for adding to write entity : 0.0 seconds\n",
            "MapReduce Jobs Launched: \n",
            "Stage-Stage-1:  HDFS Read: 0 HDFS Write: 0 SUCCESS\n",
            "Total MapReduce CPU Time Spent: 0 msec\n",
            "OK\n",
            "Time taken: 1.975 seconds\n"
          ]
        }
      ],
      "source": [
        "# insert new values to table employee\n",
        "\n",
        "str = \"\"\"\n",
        "INSERT INTO TABLE userdb.employee VALUES (33, 'Rob', 55000, 'Soldier');\n",
        "INSERT INTO TABLE userdb.employee VALUES (66, 'Clare', 70000, 'Cook');\n",
        "\"\"\"\n",
        "\n",
        "!{HIVE_HOME}/bin/hive -e \"{str}\""
      ]
    },
    {
      "cell_type": "code",
      "source": [
        "# list warehouse and database\n",
        "!{HADOOP_HOME}/bin/hdfs dfs -ls -R /user/hive/warehouse/"
      ],
      "metadata": {
        "colab": {
          "base_uri": "https://localhost:8080/"
        },
        "id": "AlcDhty5Wpf9",
        "outputId": "9b4da79d-fde5-4fbe-fa6c-23c7b9d904ec"
      },
      "execution_count": 44,
      "outputs": [
        {
          "output_type": "stream",
          "name": "stdout",
          "text": [
            "drwxr-xr-x   - root root       4096 2022-01-21 01:48 /user/hive/warehouse/userdb.db\n",
            "drwxr-xr-x   - root root       4096 2022-01-21 01:49 /user/hive/warehouse/userdb.db/employee\n",
            "drwxr-xr-x   - root root       4096 2022-01-21 01:48 /user/hive/warehouse/userdb.db/employee/profession=Professor\n",
            "-rw-r--r--   1 root root         26 2022-01-21 01:48 /user/hive/warehouse/userdb.db/employee/profession=Professor/000000_0\n",
            "-rw-r--r--   1 root root         26 2022-01-21 01:48 /user/hive/warehouse/userdb.db/employee/profession=Professor/000000_0_copy_1\n",
            "drwxr-xr-x   - root root       4096 2022-01-21 01:49 /user/hive/warehouse/userdb.db/employee/profession=Cook\n",
            "-rw-r--r--   1 root root         15 2022-01-21 01:49 /user/hive/warehouse/userdb.db/employee/profession=Cook/000000_0\n",
            "drwxr-xr-x   - root root       4096 2022-01-21 01:49 /user/hive/warehouse/userdb.db/employee/profession=Soldier\n",
            "-rw-r--r--   1 root root         13 2022-01-21 01:49 /user/hive/warehouse/userdb.db/employee/profession=Soldier/000000_0\n",
            "drwxr-xr-x   - root root       4096 2022-01-21 01:48 /user/hive/warehouse/userdb.db/employee/profession=Pilot\n",
            "-rw-r--r--   1 root root         13 2022-01-21 01:48 /user/hive/warehouse/userdb.db/employee/profession=Pilot/000000_0\n",
            "-rw-r--r--   1 root root         13 2022-01-21 01:48 /user/hive/warehouse/userdb.db/employee/profession=Pilot/000000_0_copy_1\n",
            "drwxr-xr-x   - root root       4096 2022-01-21 01:48 /user/hive/warehouse/userdb.db/employee/profession=Doctor\n",
            "-rw-r--r--   1 root root         13 2022-01-21 01:48 /user/hive/warehouse/userdb.db/employee/profession=Doctor/000000_0\n",
            "-rw-r--r--   1 root root         13 2022-01-21 01:48 /user/hive/warehouse/userdb.db/employee/profession=Doctor/000000_0_copy_1\n",
            "drwxr-xr-x   - root root       4096 2022-01-21 01:48 /user/hive/warehouse/userdb.db/employee/profession=Writer\n",
            "-rw-r--r--   1 root root         12 2022-01-21 01:48 /user/hive/warehouse/userdb.db/employee/profession=Writer/000000_0\n",
            "-rw-r--r--   1 root root         12 2022-01-21 01:48 /user/hive/warehouse/userdb.db/employee/profession=Writer/000000_0_copy_1\n",
            "drwxr-xr-x   - root root       4096 2022-01-21 01:48 /user/hive/warehouse/userdb.db/employee/profession=Engineer\n",
            "-rw-r--r--   1 root root         16 2022-01-21 01:48 /user/hive/warehouse/userdb.db/employee/profession=Engineer/000000_0\n",
            "-rw-r--r--   1 root root         16 2022-01-21 01:48 /user/hive/warehouse/userdb.db/employee/profession=Engineer/000000_0_copy_1\n",
            "drwxr-xr-x   - root root       4096 2022-01-21 01:48 /user/hive/warehouse/userdb.db/profession\n",
            "-rw-r--r--   1 root root         71 2022-01-21 01:48 /user/hive/warehouse/userdb.db/profession/professions.tsv\n"
          ]
        }
      ]
    },
    {
      "cell_type": "code",
      "source": [
        "# show content of one partition - profession=Engineer\n",
        "!!{HADOOP_HOME}/bin/hdfs dfs -cat /user/hive/warehouse/userdb.db/employee/profession=Engineer/000000_0"
      ],
      "metadata": {
        "colab": {
          "base_uri": "https://localhost:8080/"
        },
        "id": "FcbazmRzXhxU",
        "outputId": "7750da41-e512-4288-f7af-02c7f33fbc58"
      },
      "execution_count": 45,
      "outputs": [
        {
          "output_type": "execute_result",
          "data": {
            "text/plain": [
              "['1\\tMichael\\t50000']"
            ]
          },
          "metadata": {},
          "execution_count": 45
        }
      ]
    },
    {
      "cell_type": "markdown",
      "metadata": {
        "id": "24scwP73-BIA"
      },
      "source": [
        "### HiveQL Queries"
      ]
    },
    {
      "cell_type": "code",
      "execution_count": 46,
      "metadata": {
        "id": "3FF45ykh_dWi",
        "colab": {
          "base_uri": "https://localhost:8080/"
        },
        "outputId": "52fa2dc1-3d55-4b98-95fd-60184a09a8df"
      },
      "outputs": [
        {
          "output_type": "stream",
          "name": "stdout",
          "text": [
            "SLF4J: Class path contains multiple SLF4J bindings.\n",
            "SLF4J: Found binding in [jar:file:/usr/local/apache-hive-3.1.2-bin/lib/log4j-slf4j-impl-2.10.0.jar!/org/slf4j/impl/StaticLoggerBinder.class]\n",
            "SLF4J: Found binding in [jar:file:/usr/local/hadoop-3.3.1/share/hadoop/common/lib/slf4j-log4j12-1.7.30.jar!/org/slf4j/impl/StaticLoggerBinder.class]\n",
            "SLF4J: See http://www.slf4j.org/codes.html#multiple_bindings for an explanation.\n",
            "SLF4J: Actual binding is of type [org.apache.logging.slf4j.Log4jLoggerFactory]\n",
            "Hive Session ID = c684c8a9-a6c1-4391-992c-53306fb37da4\n",
            "\n",
            "Logging initialized using configuration in jar:file:/usr/local/apache-hive-3.1.2-bin/lib/hive-common-3.1.2.jar!/hive-log4j2.properties Async: true\n",
            "Hive Session ID = e20ea6fa-b886-4bfa-9eb5-eb207abfe88d\n",
            "OK\n",
            "id                  \tint                 \t                    \n",
            "name                \tstring              \t                    \n",
            "salary              \tint                 \t                    \n",
            "profession          \tstring              \t                    \n",
            "\t \t \n",
            "# Partition Information\t \t \n",
            "# col_name            \tdata_type           \tcomment             \n",
            "profession          \tstring              \t                    \n",
            "Time taken: 1.799 seconds, Fetched: 8 row(s)\n",
            "OK\n",
            "id                  \tint                 \t                    \n",
            "description         \tstring              \t                    \n",
            "\t \t \n",
            "Detailed Table Information\tTable(tableName:profession, dbName:userdb, owner:root, createTime:1642729693, lastAccessTime:0, retention:0, sd:StorageDescriptor(cols:[FieldSchema(name:id, type:int, comment:null), FieldSchema(name:description, type:string, comment:null)], location:file:/user/hive/warehouse/userdb.db/profession, inputFormat:org.apache.hadoop.mapred.TextInputFormat, outputFormat:org.apache.hadoop.hive.ql.io.HiveIgnoreKeyTextOutputFormat, compressed:false, numBuckets:-1, serdeInfo:SerDeInfo(name:null, serializationLib:org.apache.hadoop.hive.serde2.lazy.LazySimpleSerDe, parameters:{serialization.format=\\t, line.delim=\\n, field.delim=\\t}), bucketCols:[], sortCols:[], parameters:{}, skewedInfo:SkewedInfo(skewedColNames:[], skewedColValues:[], skewedColValueLocationMaps:{}), storedAsSubDirectories:false), partitionKeys:[], parameters:{totalSize=71, numRows=0, rawDataSize=0, numFiles=1, transient_lastDdlTime=1642729712, bucketing_version=2, comment=Profession details}, viewOriginalText:null, viewExpandedText:null, tableType:MANAGED_TABLE, rewriteEnabled:false, catName:hive, ownerType:USER)\t\n",
            "Time taken: 0.292 seconds, Fetched: 4 row(s)\n"
          ]
        }
      ],
      "source": [
        "# describe tables\n",
        "\n",
        "str = \"\"\"\n",
        "DESCRIBE userdb.employee;\n",
        "\n",
        "DESCRIBE EXTENDED userdb.profession;\n",
        "\"\"\"\n",
        "\n",
        "!{HIVE_HOME}/bin/hive -e \"{str}\""
      ]
    },
    {
      "cell_type": "code",
      "execution_count": 47,
      "metadata": {
        "id": "-49CK3UEkIEx",
        "colab": {
          "base_uri": "https://localhost:8080/"
        },
        "outputId": "d6a86577-8318-4392-ee0a-3817a445b971"
      },
      "outputs": [
        {
          "output_type": "stream",
          "name": "stdout",
          "text": [
            "SLF4J: Class path contains multiple SLF4J bindings.\n",
            "SLF4J: Found binding in [jar:file:/usr/local/apache-hive-3.1.2-bin/lib/log4j-slf4j-impl-2.10.0.jar!/org/slf4j/impl/StaticLoggerBinder.class]\n",
            "SLF4J: Found binding in [jar:file:/usr/local/hadoop-3.3.1/share/hadoop/common/lib/slf4j-log4j12-1.7.30.jar!/org/slf4j/impl/StaticLoggerBinder.class]\n",
            "SLF4J: See http://www.slf4j.org/codes.html#multiple_bindings for an explanation.\n",
            "SLF4J: Actual binding is of type [org.apache.logging.slf4j.Log4jLoggerFactory]\n",
            "Hive Session ID = ddf6bc04-0bfc-4e72-ad07-c4b6720ddab2\n",
            "\n",
            "Logging initialized using configuration in jar:file:/usr/local/apache-hive-3.1.2-bin/lib/hive-common-3.1.2.jar!/hive-log4j2.properties Async: true\n",
            "Hive Session ID = 33d11e2c-b0d4-444c-b5ec-176876600e55\n",
            "OK\n",
            "66\tClare\t70000\tCook\n",
            "4\tDali\t40000\tDoctor\n",
            "4\tDali\t40000\tDoctor\n",
            "1\tMichael\t50000\tEngineer\n",
            "1\tMichael\t50000\tEngineer\n",
            "5\tMary\t90000\tPilot\n",
            "5\tMary\t90000\tPilot\n",
            "2\tRose\t60000\tProfessor\n",
            "6\tJohn\t70000\tProfessor\n",
            "2\tRose\t60000\tProfessor\n",
            "6\tJohn\t70000\tProfessor\n",
            "33\tRob\t55000\tSoldier\n",
            "3\tAna\t40000\tWriter\n",
            "3\tAna\t40000\tWriter\n",
            "Time taken: 2.944 seconds, Fetched: 14 row(s)\n",
            "OK\n",
            "1\tEngineer\n",
            "2\tProfessor\n",
            "3\tWriter\n",
            "4\tDoctor\n",
            "5\tPilot\n",
            "6\tResearcher\n",
            "7\tPolice\n",
            "Time taken: 0.119 seconds, Fetched: 7 row(s)\n"
          ]
        }
      ],
      "source": [
        "# show table rows\n",
        "str = \"\"\"\n",
        "SELECT * \n",
        "FROM userdb.employee;\n",
        "\n",
        "SELECT * \n",
        "FROM userdb.profession;\n",
        "\"\"\"\n",
        "\n",
        "!{HIVE_HOME}/bin/hive -e \"{str}\""
      ]
    },
    {
      "cell_type": "code",
      "execution_count": 48,
      "metadata": {
        "id": "jh97zShOVF-j",
        "colab": {
          "base_uri": "https://localhost:8080/"
        },
        "outputId": "85038602-3731-4db2-e122-a1fabf9a7612"
      },
      "outputs": [
        {
          "output_type": "stream",
          "name": "stdout",
          "text": [
            "SLF4J: Class path contains multiple SLF4J bindings.\n",
            "SLF4J: Found binding in [jar:file:/usr/local/apache-hive-3.1.2-bin/lib/log4j-slf4j-impl-2.10.0.jar!/org/slf4j/impl/StaticLoggerBinder.class]\n",
            "SLF4J: Found binding in [jar:file:/usr/local/hadoop-3.3.1/share/hadoop/common/lib/slf4j-log4j12-1.7.30.jar!/org/slf4j/impl/StaticLoggerBinder.class]\n",
            "SLF4J: See http://www.slf4j.org/codes.html#multiple_bindings for an explanation.\n",
            "SLF4J: Actual binding is of type [org.apache.logging.slf4j.Log4jLoggerFactory]\n",
            "Hive Session ID = cb50d7b8-ceca-4013-b1df-f624ec8f3b02\n",
            "\n",
            "Logging initialized using configuration in jar:file:/usr/local/apache-hive-3.1.2-bin/lib/hive-common-3.1.2.jar!/hive-log4j2.properties Async: true\n",
            "Hive Session ID = 20ee8b44-6855-42c5-9108-fd1d780dde7d\n",
            "Query ID = root_20220121014940_83184b84-2e8c-445e-9084-02b9483c7486\n",
            "Total jobs = 1\n",
            "Launching Job 1 out of 1\n",
            "Number of reduce tasks determined at compile time: 1\n",
            "In order to change the average load for a reducer (in bytes):\n",
            "  set hive.exec.reducers.bytes.per.reducer=<number>\n",
            "In order to limit the maximum number of reducers:\n",
            "  set hive.exec.reducers.max=<number>\n",
            "In order to set a constant number of reducers:\n",
            "  set mapreduce.job.reduces=<number>\n",
            "Job running in-process (local Hadoop)\n",
            "2022-01-21 01:49:46,577 Stage-1 map = 100%,  reduce = 100%\n",
            "Ended Job = job_local1907129557_0001\n",
            "MapReduce Jobs Launched: \n",
            "Stage-Stage-1:  HDFS Read: 0 HDFS Write: 0 SUCCESS\n",
            "Total MapReduce CPU Time Spent: 0 msec\n",
            "OK\n",
            "90000\t40000\t58928.57142857143\n",
            "Time taken: 5.743 seconds, Fetched: 1 row(s)\n"
          ]
        }
      ],
      "source": [
        "# show the maximum, minimum an average salary from employee table\n",
        "\n",
        "str = \"\"\"\n",
        "SELECT MAX(salary), MIN(salary), AVG(salary)\n",
        "FROM userdb.employee \n",
        "\"\"\"\n",
        "\n",
        "!{HIVE_HOME}/bin/hive -e \"{str}\""
      ]
    },
    {
      "cell_type": "code",
      "execution_count": 49,
      "metadata": {
        "id": "MnZatdCykIok",
        "colab": {
          "base_uri": "https://localhost:8080/"
        },
        "outputId": "19947157-da37-4d0e-8b1a-444c259d6de3"
      },
      "outputs": [
        {
          "output_type": "stream",
          "name": "stdout",
          "text": [
            "SLF4J: Class path contains multiple SLF4J bindings.\n",
            "SLF4J: Found binding in [jar:file:/usr/local/apache-hive-3.1.2-bin/lib/log4j-slf4j-impl-2.10.0.jar!/org/slf4j/impl/StaticLoggerBinder.class]\n",
            "SLF4J: Found binding in [jar:file:/usr/local/hadoop-3.3.1/share/hadoop/common/lib/slf4j-log4j12-1.7.30.jar!/org/slf4j/impl/StaticLoggerBinder.class]\n",
            "SLF4J: See http://www.slf4j.org/codes.html#multiple_bindings for an explanation.\n",
            "SLF4J: Actual binding is of type [org.apache.logging.slf4j.Log4jLoggerFactory]\n",
            "Hive Session ID = a84161ba-e9f3-48dd-bf1a-95d2b1a45e20\n",
            "\n",
            "Logging initialized using configuration in jar:file:/usr/local/apache-hive-3.1.2-bin/lib/hive-common-3.1.2.jar!/hive-log4j2.properties Async: true\n",
            "Hive Session ID = 80e1b7fc-1f3d-4e22-8d2f-7bf4c85e963a\n",
            "Query ID = root_20220121014955_be1d47e2-13cb-42c4-b189-e8d9cbb42bc6\n",
            "Total jobs = 1\n",
            "\n",
            "2022-01-21 01:50:06\tUploaded 1 File to: file:/user/local/hive/tmp/java/root/a84161ba-e9f3-48dd-bf1a-95d2b1a45e20/hive_2022-01-21_01-49-55_700_3449490544332100877-1/-local-10005/HashTable-Stage-2/MapJoin-mapfile01--.hashtable (436 bytes)\n",
            "2022-01-21 01:50:06\tEnd of local task; Time Taken: 0.553 sec.\n",
            "Execution completed successfully\n",
            "MapredLocal task succeeded\n",
            "Launching Job 1 out of 1\n",
            "Number of reduce tasks not specified. Estimated from input data size: 1\n",
            "In order to change the average load for a reducer (in bytes):\n",
            "  set hive.exec.reducers.bytes.per.reducer=<number>\n",
            "In order to limit the maximum number of reducers:\n",
            "  set hive.exec.reducers.max=<number>\n",
            "In order to set a constant number of reducers:\n",
            "  set mapreduce.job.reduces=<number>\n",
            "Job running in-process (local Hadoop)\n",
            "2022-01-21 01:50:08,924 Stage-2 map = 100%,  reduce = 100%\n",
            "Ended Job = job_local2133426583_0001\n",
            "MapReduce Jobs Launched: \n",
            "Stage-Stage-2:  HDFS Read: 0 HDFS Write: 0 SUCCESS\n",
            "Total MapReduce CPU Time Spent: 0 msec\n",
            "OK\n",
            "Time taken: 13.303 seconds, Fetched: 5 row(s)\n"
          ]
        }
      ],
      "source": [
        "# extract average salary grouped by profession to a local file\n",
        "\n",
        "str = \"\"\"\n",
        "set hive.cli.print.header=true;\n",
        "\n",
        "SELECT employee.profession as profession, AVG(salary) AS salary\n",
        "FROM userdb.employee JOIN userdb.profession ON (employee.profession=profession.description)\n",
        "group by employee.profession\n",
        "\"\"\"\n",
        "\n",
        "!{HIVE_HOME}/bin/hive -e \"{str}\" > dump.tsv"
      ]
    },
    {
      "cell_type": "code",
      "execution_count": 50,
      "metadata": {
        "id": "x--PlvMdwDiL",
        "colab": {
          "base_uri": "https://localhost:8080/"
        },
        "outputId": "2651a7c1-a308-4254-a2b3-aaac89b34674"
      },
      "outputs": [
        {
          "output_type": "stream",
          "name": "stdout",
          "text": [
            "profession\tsalary\n",
            "Doctor\t40000.0\n",
            "Engineer\t50000.0\n",
            "Pilot\t90000.0\n",
            "Professor\t65000.0\n",
            "Writer\t40000.0\n"
          ]
        }
      ],
      "source": [
        "# show local file content\n",
        "!cat dump.tsv"
      ]
    },
    {
      "cell_type": "code",
      "execution_count": 51,
      "metadata": {
        "id": "snuznHd5Ee2D",
        "colab": {
          "base_uri": "https://localhost:8080/",
          "height": 315
        },
        "outputId": "d746f8cb-1877-4197-c155-0f072f6a8a5f"
      },
      "outputs": [
        {
          "output_type": "display_data",
          "data": {
            "image/png": "[encoded data removed]",
            "text/plain": [
              "<Figure size 432x288 with 1 Axes>"
            ]
          },
          "metadata": {
            "needs_background": "light"
          }
        }
      ],
      "source": [
        "# plot results\n",
        "import matplotlib.pyplot as plt\n",
        "import pandas as pd\n",
        "\n",
        "df = pd.read_csv('dump.tsv', sep='\\t')\n",
        "\n",
        "df.plot(kind='bar', x='profession', y='salary')\n",
        "plt.ylabel('Salary')\n",
        "plt.xlabel('Profession')\n",
        "plt.show()"
      ]
    },
    {
      "cell_type": "markdown",
      "metadata": {
        "id": "jyHUJshbxAwo"
      },
      "source": [
        "### Hive Functions"
      ]
    },
    {
      "cell_type": "code",
      "execution_count": 52,
      "metadata": {
        "id": "1H406b_5RP7s",
        "colab": {
          "base_uri": "https://localhost:8080/"
        },
        "outputId": "c4408ebe-ec99-4c23-db70-cc327654fe00"
      },
      "outputs": [
        {
          "output_type": "stream",
          "name": "stdout",
          "text": [
            "SLF4J: Class path contains multiple SLF4J bindings.\n",
            "SLF4J: Found binding in [jar:file:/usr/local/apache-hive-3.1.2-bin/lib/log4j-slf4j-impl-2.10.0.jar!/org/slf4j/impl/StaticLoggerBinder.class]\n",
            "SLF4J: Found binding in [jar:file:/usr/local/hadoop-3.3.1/share/hadoop/common/lib/slf4j-log4j12-1.7.30.jar!/org/slf4j/impl/StaticLoggerBinder.class]\n",
            "SLF4J: See http://www.slf4j.org/codes.html#multiple_bindings for an explanation.\n",
            "SLF4J: Actual binding is of type [org.apache.logging.slf4j.Log4jLoggerFactory]\n",
            "Hive Session ID = 44c83759-241c-4088-a114-acc571dbf111\n",
            "\n",
            "Logging initialized using configuration in jar:file:/usr/local/apache-hive-3.1.2-bin/lib/hive-common-3.1.2.jar!/hive-log4j2.properties Async: true\n",
            "Hive Session ID = 5359432e-6403-4ee1-a65f-30596cf0ac45\n",
            "OK\n",
            "!\n",
            "!=\n",
            "$sum0\n",
            "%\n",
            "&\n",
            "*\n",
            "+\n",
            "-\n",
            "/\n",
            "<\n",
            "<=\n",
            "<=>\n",
            "<>\n",
            "=\n",
            "==\n",
            ">\n",
            ">=\n",
            "^\n",
            "abs\n",
            "acos\n",
            "add_months\n",
            "aes_decrypt\n",
            "aes_encrypt\n",
            "and\n",
            "array\n",
            "array_contains\n",
            "ascii\n",
            "asin\n",
            "assert_true\n",
            "assert_true_oom\n",
            "atan\n",
            "avg\n",
            "base64\n",
            "between\n",
            "bin\n",
            "bloom_filter\n",
            "bround\n",
            "cardinality_violation\n",
            "case\n",
            "cbrt\n",
            "ceil\n",
            "ceiling\n",
            "char_length\n",
            "character_length\n",
            "chr\n",
            "coalesce\n",
            "collect_list\n",
            "collect_set\n",
            "compute_stats\n",
            "concat\n",
            "Time taken: 1.122 seconds, Fetched: 100 row(s)\n"
          ]
        }
      ],
      "source": [
        "# show (top 50) functions\n",
        "\n",
        "str = \"\"\"\n",
        "SHOW FUNCTIONS;\n",
        "\"\"\"\n",
        "\n",
        "!{HIVE_HOME}/bin/hive -e \"{str}\" | head -n 50"
      ]
    },
    {
      "cell_type": "markdown",
      "metadata": {
        "id": "CNzNql57AVtC"
      },
      "source": [
        "### HiveQL Word Count"
      ]
    },
    {
      "cell_type": "code",
      "execution_count": 53,
      "metadata": {
        "id": "O7GMueMaAgRo",
        "colab": {
          "base_uri": "https://localhost:8080/"
        },
        "outputId": "0283e85c-228f-49be-d3bc-65bfeca1947a"
      },
      "outputs": [
        {
          "output_type": "stream",
          "name": "stdout",
          "text": [
            "SLF4J: Class path contains multiple SLF4J bindings.\n",
            "SLF4J: Found binding in [jar:file:/usr/local/apache-hive-3.1.2-bin/lib/log4j-slf4j-impl-2.10.0.jar!/org/slf4j/impl/StaticLoggerBinder.class]\n",
            "SLF4J: Found binding in [jar:file:/usr/local/hadoop-3.3.1/share/hadoop/common/lib/slf4j-log4j12-1.7.30.jar!/org/slf4j/impl/StaticLoggerBinder.class]\n",
            "SLF4J: See http://www.slf4j.org/codes.html#multiple_bindings for an explanation.\n",
            "SLF4J: Actual binding is of type [org.apache.logging.slf4j.Log4jLoggerFactory]\n",
            "Hive Session ID = 001c1003-0413-4e5d-8f13-829683e5fd58\n",
            "\n",
            "Logging initialized using configuration in jar:file:/usr/local/apache-hive-3.1.2-bin/lib/hive-common-3.1.2.jar!/hive-log4j2.properties Async: true\n",
            "Hive Session ID = 6455ff2d-8ffc-4787-9a80-43b41936a8af\n",
            "OK\n",
            "Time taken: 1.605 seconds\n",
            "Loading data to table userdb.files\n",
            "OK\n",
            "Time taken: 0.452 seconds\n",
            "Query ID = root_20220121015031_7779ac2c-fdca-4282-a670-cce4a3df155c\n",
            "Total jobs = 2\n",
            "Launching Job 1 out of 2\n",
            "Number of reduce tasks not specified. Estimated from input data size: 1\n",
            "In order to change the average load for a reducer (in bytes):\n",
            "  set hive.exec.reducers.bytes.per.reducer=<number>\n",
            "In order to limit the maximum number of reducers:\n",
            "  set hive.exec.reducers.max=<number>\n",
            "In order to set a constant number of reducers:\n",
            "  set mapreduce.job.reduces=<number>\n",
            "Job running in-process (local Hadoop)\n",
            "2022-01-21 01:50:34,814 Stage-1 map = 100%,  reduce = 100%\n",
            "Ended Job = job_local1617538902_0001\n",
            "Launching Job 2 out of 2\n",
            "Number of reduce tasks determined at compile time: 1\n",
            "In order to change the average load for a reducer (in bytes):\n",
            "  set hive.exec.reducers.bytes.per.reducer=<number>\n",
            "In order to limit the maximum number of reducers:\n",
            "  set hive.exec.reducers.max=<number>\n",
            "In order to set a constant number of reducers:\n",
            "  set mapreduce.job.reduces=<number>\n",
            "Job running in-process (local Hadoop)\n",
            "2022-01-21 01:50:36,125 Stage-2 map = 100%,  reduce = 100%\n",
            "Ended Job = job_local910322617_0002\n",
            "Moving data to directory file:/user/hive/warehouse/userdb.db/word_count\n",
            "MapReduce Jobs Launched: \n",
            "Stage-Stage-1:  HDFS Read: 0 HDFS Write: 0 SUCCESS\n",
            "Stage-Stage-2:  HDFS Read: 0 HDFS Write: 0 SUCCESS\n",
            "Total MapReduce CPU Time Spent: 0 msec\n",
            "OK\n",
            "Time taken: 5.363 seconds\n",
            "Query ID = root_20220121015036_d1491c7c-3d09-43ff-8ef8-8fbad3f4c725\n",
            "Total jobs = 1\n",
            "Launching Job 1 out of 1\n",
            "Number of reduce tasks determined at compile time: 1\n",
            "In order to change the average load for a reducer (in bytes):\n",
            "  set hive.exec.reducers.bytes.per.reducer=<number>\n",
            "In order to limit the maximum number of reducers:\n",
            "  set hive.exec.reducers.max=<number>\n",
            "In order to set a constant number of reducers:\n",
            "  set mapreduce.job.reduces=<number>\n",
            "Job running in-process (local Hadoop)\n",
            "2022-01-21 01:50:37,926 Stage-1 map = 100%,  reduce = 100%\n",
            "Ended Job = job_local955095642_0003\n",
            "MapReduce Jobs Launched: \n",
            "Stage-Stage-1:  HDFS Read: 0 HDFS Write: 0 SUCCESS\n",
            "Total MapReduce CPU Time Spent: 0 msec\n",
            "OK\n",
            "Time taken: 1.558 seconds, Fetched: 100 row(s)\n"
          ]
        }
      ],
      "source": [
        "# compute the word count of all text files in the input directory and send the top 100 to a local file\n",
        "\n",
        "str = \"\"\"\n",
        "CREATE TABLE IF NOT EXISTS userdb.files \n",
        "(line STRING);\n",
        "\n",
        "LOAD DATA INPATH '/root/input/' OVERWRITE INTO TABLE userdb.files;\n",
        "\n",
        "CREATE TABLE IF NOT EXISTS userdb.word_count AS\n",
        "  SELECT word, count(1) AS count \n",
        "  FROM\n",
        "    (SELECT explode(split(lower(line), ' ')) AS word\n",
        "    FROM userdb.files) w\n",
        "  WHERE word != ''\n",
        "  GROUP BY word\n",
        "  ORDER BY word;\n",
        "\n",
        "SELECT *\n",
        "FROM userdb.word_count\n",
        "ORDER BY count DESC\n",
        "LIMIT 100;\n",
        "\"\"\"\n",
        "\n",
        "!{HIVE_HOME}/bin/hive -e \"{str}\" > wordfreq.tsv"
      ]
    },
    {
      "cell_type": "code",
      "source": [
        "# see content (top 10 lines) of local file\n",
        "!head -n 10 wordfreq.tsv"
      ],
      "metadata": {
        "colab": {
          "base_uri": "https://localhost:8080/"
        },
        "id": "ZjMqBVLaa7k0",
        "outputId": "10efd62d-5857-4045-fa5d-76ba51e746ff"
      },
      "execution_count": 54,
      "outputs": [
        {
          "output_type": "stream",
          "name": "stdout",
          "text": [
            "the\t116\n",
            "of\t71\n",
            "or\t66\n",
            "and\t52\n",
            "to\t42\n",
            "any\t31\n",
            "for\t28\n",
            "you\t26\n",
            "this\t25\n",
            "in\t25\n"
          ]
        }
      ]
    },
    {
      "cell_type": "markdown",
      "metadata": {
        "id": "W-z8UmSxxl0N"
      },
      "source": [
        "### Plot wordcloud"
      ]
    },
    {
      "cell_type": "code",
      "execution_count": 55,
      "metadata": {
        "id": "wuR-xfhWzVuU"
      },
      "outputs": [],
      "source": [
        "# read wordfreq.tsv to dictionary\n",
        "import pandas as pd\n",
        "pd_wordfreq = pd.read_csv('wordfreq.tsv', header=None, sep='\\t')\n",
        "dict_wordfreq = dict(zip(pd_wordfreq[0],pd_wordfreq[1])) "
      ]
    },
    {
      "cell_type": "code",
      "execution_count": 56,
      "metadata": {
        "id": "KAoKIwERWbIx"
      },
      "outputs": [],
      "source": [
        "# install wordcloud library\n",
        "!pip install wordcloud --quiet"
      ]
    },
    {
      "cell_type": "code",
      "execution_count": 57,
      "metadata": {
        "id": "ImLaGVK7Wmu3",
        "colab": {
          "base_uri": "https://localhost:8080/",
          "height": 198
        },
        "outputId": "ee4a4baf-7e30-46f8-f994-53d39adef3a5"
      },
      "outputs": [
        {
          "output_type": "display_data",
          "data": {
            "image/png": "[encoded data removed]",
            "text/plain": [
              "<Figure size 432x288 with 1 Axes>"
            ]
          },
          "metadata": {
            "needs_background": "light"
          }
        }
      ],
      "source": [
        "# plot wordcloud image\n",
        "import matplotlib.pyplot as plt\n",
        "from wordcloud import WordCloud\n",
        "\n",
        "wordcloud = WordCloud(max_font_size=40, max_words = 100).generate_from_frequencies(dict_wordfreq)\n",
        "\n",
        "plt.figure()\n",
        "plt.imshow(wordcloud, interpolation=\"bilinear\")\n",
        "plt.axis(\"off\")\n",
        "plt.show()"
      ]
    },
    {
      "cell_type": "markdown",
      "metadata": {
        "id": "jY-chGaXDrie"
      },
      "source": [
        "### Hive Custom MapReduce Script (User Defined Function)"
      ]
    },
    {
      "cell_type": "code",
      "execution_count": 58,
      "metadata": {
        "id": "-0pMm9iLcKlr",
        "colab": {
          "base_uri": "https://localhost:8080/"
        },
        "outputId": "eb8e8412-75a9-4c74-d7a0-119eac594cdd"
      },
      "outputs": [
        {
          "output_type": "stream",
          "name": "stdout",
          "text": [
            "SLF4J: Class path contains multiple SLF4J bindings.\n",
            "SLF4J: Found binding in [jar:file:/usr/local/apache-hive-3.1.2-bin/lib/log4j-slf4j-impl-2.10.0.jar!/org/slf4j/impl/StaticLoggerBinder.class]\n",
            "SLF4J: Found binding in [jar:file:/usr/local/hadoop-3.3.1/share/hadoop/common/lib/slf4j-log4j12-1.7.30.jar!/org/slf4j/impl/StaticLoggerBinder.class]\n",
            "SLF4J: See http://www.slf4j.org/codes.html#multiple_bindings for an explanation.\n",
            "SLF4J: Actual binding is of type [org.apache.logging.slf4j.Log4jLoggerFactory]\n",
            "Hive Session ID = 78875dbf-a7f3-45fd-9b4d-ee3d7424446e\n",
            "\n",
            "Logging initialized using configuration in jar:file:/usr/local/apache-hive-3.1.2-bin/lib/hive-common-3.1.2.jar!/hive-log4j2.properties Async: true\n",
            "Hive Session ID = 4f78407d-dd9c-4081-b6ff-bb658a517c1f\n",
            "OK\n",
            "1\tEngineer\n",
            "2\tProfessor\n",
            "3\tWriter\n",
            "4\tDoctor\n",
            "5\tPilot\n",
            "6\tResearcher\n",
            "7\tPolice\n",
            "Time taken: 3.095 seconds, Fetched: 7 row(s)\n"
          ]
        }
      ],
      "source": [
        "str = \"\"\"\n",
        "SELECT id, description \n",
        "FROM userdb.profession;\n",
        "\"\"\"\n",
        "\n",
        "!{HIVE_HOME}/bin/hive -e \"{str}\""
      ]
    },
    {
      "cell_type": "code",
      "execution_count": 59,
      "metadata": {
        "id": "P5kKbooZh5F0",
        "colab": {
          "base_uri": "https://localhost:8080/"
        },
        "outputId": "265d99e4-73fb-4657-cbbe-04978cc310fd"
      },
      "outputs": [
        {
          "output_type": "stream",
          "name": "stdout",
          "text": [
            "--2022-01-21 01:50:53--  https://raw.githubusercontent.com/malcosta/bigdatatechnologies/main/hive/hiveudf.py\n",
            "Resolving raw.githubusercontent.com (raw.githubusercontent.com)... 185.199.108.133, 185.199.109.133, 185.199.110.133, ...\n",
            "Connecting to raw.githubusercontent.com (raw.githubusercontent.com)|185.199.108.133|:443... connected.\n",
            "HTTP request sent, awaiting response... 200 OK\n",
            "Length: 270 [text/plain]\n",
            "Saving to: ‘/root/hiveudf.py’\n",
            "\n",
            "\r/root/hiveudf.py      0%[                    ]       0  --.-KB/s               \r/root/hiveudf.py    100%[===================>]     270  --.-KB/s    in 0s      \n",
            "\n",
            "2022-01-21 01:50:54 (31.1 MB/s) - ‘/root/hiveudf.py’ saved [270/270]\n",
            "\n"
          ]
        }
      ],
      "source": [
        "# download hiveudf.py (get link from Github)\n",
        "!wget {GIT_FILES}/hive/hiveudf.py -O ~/hiveudf.py"
      ]
    },
    {
      "cell_type": "code",
      "execution_count": 60,
      "metadata": {
        "id": "CfQ_f0NWq2yU",
        "colab": {
          "base_uri": "https://localhost:8080/"
        },
        "outputId": "0a87ee00-54ea-4548-bc2c-6bf8e2d19444"
      },
      "outputs": [
        {
          "output_type": "stream",
          "name": "stdout",
          "text": [
            "Professor\teven\n",
            "rosseforP\todd\n"
          ]
        }
      ],
      "source": [
        "!echo -e '1\\tProfessor' | python ~/hiveudf.py; echo -e '2\\tProfessor' | python ~/hiveudf.py"
      ]
    },
    {
      "cell_type": "code",
      "execution_count": 61,
      "metadata": {
        "id": "Sgq7cIn0WmpK",
        "colab": {
          "base_uri": "https://localhost:8080/"
        },
        "outputId": "38d75fd2-4cf2-4de2-8704-7214091c6f63"
      },
      "outputs": [
        {
          "output_type": "stream",
          "name": "stdout",
          "text": [
            "SLF4J: Class path contains multiple SLF4J bindings.\n",
            "SLF4J: Found binding in [jar:file:/usr/local/apache-hive-3.1.2-bin/lib/log4j-slf4j-impl-2.10.0.jar!/org/slf4j/impl/StaticLoggerBinder.class]\n",
            "SLF4J: Found binding in [jar:file:/usr/local/hadoop-3.3.1/share/hadoop/common/lib/slf4j-log4j12-1.7.30.jar!/org/slf4j/impl/StaticLoggerBinder.class]\n",
            "SLF4J: See http://www.slf4j.org/codes.html#multiple_bindings for an explanation.\n",
            "SLF4J: Actual binding is of type [org.apache.logging.slf4j.Log4jLoggerFactory]\n",
            "Hive Session ID = ffffee61-6816-44e7-96ad-43e529929334\n",
            "\n",
            "Logging initialized using configuration in jar:file:/usr/local/apache-hive-3.1.2-bin/lib/hive-common-3.1.2.jar!/hive-log4j2.properties Async: true\n",
            "Hive Session ID = ed8cb0c8-b242-436a-af17-3e0652f7d692\n",
            "Added resources: [/root/hiveudf.py]\n",
            "Query ID = root_20220121015103_f4afcbc5-4e09-4716-a177-f1c296257943\n",
            "Total jobs = 1\n",
            "Launching Job 1 out of 1\n",
            "Number of reduce tasks is set to 0 since there's no reduce operator\n",
            "Job running in-process (local Hadoop)\n",
            "2022-01-21 01:51:07,053 Stage-1 map = 100%,  reduce = 0%\n",
            "Ended Job = job_local510635201_0001\n",
            "MapReduce Jobs Launched: \n",
            "Stage-Stage-1:  HDFS Read: 0 HDFS Write: 0 SUCCESS\n",
            "Total MapReduce CPU Time Spent: 0 msec\n",
            "OK\n",
            "Engineer\teven\n",
            "rosseforP\todd\n",
            "Writer\teven\n",
            "rotcoD\todd\n",
            "Pilot\teven\n",
            "rehcraeseR\todd\n",
            "Police\teven\n",
            "Time taken: 3.848 seconds, Fetched: 7 row(s)\n"
          ]
        }
      ],
      "source": [
        "str = \"\"\"\n",
        "ADD FILE /root/hiveudf.py;\n",
        "FROM userdb.profession\n",
        "SELECT TRANSFORM(id, description) \n",
        "USING 'hiveudf.py'\n",
        "AS description, even_odd\n",
        "\"\"\"\n",
        "\n",
        "!{HIVE_HOME}/bin/hive -e \"{str}\""
      ]
    },
    {
      "cell_type": "markdown",
      "metadata": {
        "id": "97IFH_sRe4jt"
      },
      "source": [
        "<a name=\"challenge\"></a>\n",
        "# Real Challenge"
      ]
    },
    {
      "cell_type": "markdown",
      "metadata": {
        "id": "uN5i1e9QoLyC"
      },
      "source": [
        "Example of how to find the movies with the highest average rating using the MovieLens 100K dataset (https://grouplens.org/datasets/movielens/).\n",
        "- u.data contains the movie ratings (user_id, movie_id, rating, time)\n",
        "- u.item contains the movie titles (movie_id, movie_title, ...)"
      ]
    },
    {
      "cell_type": "code",
      "execution_count": 62,
      "metadata": {
        "id": "ZtaFWLO0fAGR",
        "colab": {
          "base_uri": "https://localhost:8080/"
        },
        "outputId": "f7518793-7cd4-4ef2-f92c-f26af28a0781"
      },
      "outputs": [
        {
          "output_type": "stream",
          "name": "stdout",
          "text": [
            "--2022-01-21 01:51:07--  https://files.grouplens.org/datasets/movielens/ml-100k/u.item\n",
            "Resolving files.grouplens.org (files.grouplens.org)... 128.101.65.152\n",
            "Connecting to files.grouplens.org (files.grouplens.org)|128.101.65.152|:443... connected.\n",
            "HTTP request sent, awaiting response... 200 OK\n",
            "Length: 236344 (231K)\n",
            "Saving to: ‘/root/u.item’\n",
            "\n",
            "/root/u.item        100%[===================>] 230.80K   570KB/s    in 0.4s    \n",
            "\n",
            "2022-01-21 01:51:08 (570 KB/s) - ‘/root/u.item’ saved [236344/236344]\n",
            "\n",
            "--2022-01-21 01:51:08--  https://files.grouplens.org/datasets/movielens/ml-100k/u.data\n",
            "Resolving files.grouplens.org (files.grouplens.org)... 128.101.65.152\n",
            "Connecting to files.grouplens.org (files.grouplens.org)|128.101.65.152|:443... connected.\n",
            "HTTP request sent, awaiting response... 200 OK\n",
            "Length: 1979173 (1.9M)\n",
            "Saving to: ‘/root/u.data’\n",
            "\n",
            "/root/u.data        100%[===================>]   1.89M  2.66MB/s    in 0.7s    \n",
            "\n",
            "2022-01-21 01:51:09 (2.66 MB/s) - ‘/root/u.data’ saved [1979173/1979173]\n",
            "\n"
          ]
        }
      ],
      "source": [
        "# download movielens dataset\n",
        "!wget https://files.grouplens.org/datasets/movielens/ml-100k/u.item -O ~/u.item\n",
        "!wget https://files.grouplens.org/datasets/movielens/ml-100k/u.data -O ~/u.data"
      ]
    },
    {
      "cell_type": "code",
      "execution_count": 71,
      "metadata": {
        "id": "Gt7D1CZmjkNk"
      },
      "outputs": [],
      "source": [
        "# copy movielens dataset to HDFS\n",
        "!{HADOOP_HOME}/bin/hdfs dfs -mkdir ~/input/\n",
        "!{HADOOP_HOME}/bin/hdfs dfs -copyFromLocal ~/u.item ~/input/\n",
        "!{HADOOP_HOME}/bin/hdfs dfs -copyFromLocal ~/u.data ~/input/"
      ]
    },
    {
      "cell_type": "code",
      "execution_count": 72,
      "metadata": {
        "id": "3Xd1di0duhEm",
        "colab": {
          "base_uri": "https://localhost:8080/"
        },
        "outputId": "2a0fbe42-f0c3-48d6-cef7-867f35a96d1c"
      },
      "outputs": [
        {
          "output_type": "stream",
          "name": "stdout",
          "text": [
            "1|Toy Story (1995)|01-Jan-1995||http://us.imdb.com/M/title-exact?Toy%20Story%20(1995)|0|0|0|1|1|1|0|0|0|0|0|0|0|0|0|0|0|0|0\n",
            "2|GoldenEye (1995)|01-Jan-1995||http://us.imdb.com/M/title-exact?GoldenEye%20(1995)|0|1|1|0|0|0|0|0|0|0|0|0|0|0|0|0|1|0|0\n",
            "3|Four Rooms (1995)|01-Jan-1995||http://us.imdb.com/M/title-exact?Four%20Rooms%20(1995)|0|0|0|0|0|0|0|0|0|0|0|0|0|0|0|0|1|0|0\n",
            "4|Get Shorty (1995)|01-Jan-1995||http://us.imdb.com/M/title-exact?Get%20Shorty%20(1995)|0|1|0|0|0|1|0|0|1|0|0|0|0|0|0|0|0|0|0\n",
            "5|Copycat (1995)|01-Jan-1995||http://us.imdb.com/M/title-exact?Copycat%20(1995)|0|0|0|0|0|0|1|0|1|0|0|0|0|0|0|0|1|0|0\n",
            "cat: Unable to write to output stream.\n",
            "196\t242\t3\t881250949\n",
            "186\t302\t3\t891717742\n",
            "22\t377\t1\t878887116\n",
            "244\t51\t2\t880606923\n",
            "166\t346\t1\t886397596\n",
            "cat: Unable to write to output stream.\n"
          ]
        }
      ],
      "source": [
        "# show first 5 lines\n",
        "!{HADOOP_HOME}/bin/hdfs dfs -cat ~/input/u.item | head -n 5\n",
        "!{HADOOP_HOME}/bin/hdfs dfs -cat ~/input/u.data | head -n 5"
      ]
    },
    {
      "cell_type": "markdown",
      "metadata": {
        "id": "3AdejKjnLVet"
      },
      "source": [
        "### Hive Solution"
      ]
    },
    {
      "cell_type": "code",
      "execution_count": 73,
      "metadata": {
        "id": "KA8jT_66j1dS",
        "colab": {
          "base_uri": "https://localhost:8080/"
        },
        "outputId": "47f9e0ff-56d7-45ab-8bc7-4b6997718c1a"
      },
      "outputs": [
        {
          "output_type": "stream",
          "name": "stdout",
          "text": [
            "SLF4J: Class path contains multiple SLF4J bindings.\n",
            "SLF4J: Found binding in [jar:file:/usr/local/apache-hive-3.1.2-bin/lib/log4j-slf4j-impl-2.10.0.jar!/org/slf4j/impl/StaticLoggerBinder.class]\n",
            "SLF4J: Found binding in [jar:file:/usr/local/hadoop-3.3.1/share/hadoop/common/lib/slf4j-log4j12-1.7.30.jar!/org/slf4j/impl/StaticLoggerBinder.class]\n",
            "SLF4J: See http://www.slf4j.org/codes.html#multiple_bindings for an explanation.\n",
            "SLF4J: Actual binding is of type [org.apache.logging.slf4j.Log4jLoggerFactory]\n",
            "Hive Session ID = 54ad149f-8d98-41f0-a44f-e35402ffe8b6\n",
            "\n",
            "Logging initialized using configuration in jar:file:/usr/local/apache-hive-3.1.2-bin/lib/hive-common-3.1.2.jar!/hive-log4j2.properties Async: true\n",
            "Hive Session ID = 8ba75033-7baf-4a44-b69f-a089bb08b919\n",
            "OK\n",
            "Time taken: 1.829 seconds\n",
            "OK\n",
            "Time taken: 0.123 seconds\n"
          ]
        }
      ],
      "source": [
        "#create tables \n",
        "str = \"\"\"\n",
        "CREATE TABLE IF NOT EXISTS userdb.ratings\n",
        "(userId INT, movieId INT, rating INT, ratingTime INT)\n",
        "ROW FORMAT DELIMITED\n",
        "FIELDS TERMINATED BY '\\t'\n",
        "LINES TERMINATED BY '\\n'\n",
        "STORED AS TEXTFILE;\n",
        "\n",
        "CREATE TABLE IF NOT EXISTS userdb.movies\n",
        "(movieId int, movieTitle varchar(200), releaseDate date, videoReleaseDate date, imdbUrl varchar(300), flagGenreUnknown int, flagGenreAction int, flagGenreAdventure int, flagGenreAnimation int, flagGenreChildrens int, flagGenreComedy int, flagGenreCrime int, flagGenreDocumentary int, flagGenreDrama int, flagGenreFantasy int, flagGenreFilmNoir int, flagGenreHorror int, flagGenreMusical int,  flagGenreMystery int, flagGenreRomance int, flagGenreSciFi int, flagGenreThriller int, flagGenreWar int, flagGenreWestern int)\n",
        "ROW FORMAT DELIMITED\n",
        "FIELDS TERMINATED BY '|'\n",
        "LINES TERMINATED BY '\\n'\n",
        "STORED AS TEXTFILE;\n",
        "\"\"\"\n",
        "\n",
        "!{HIVE_HOME}/bin/hive -e \"{str}\""
      ]
    },
    {
      "cell_type": "code",
      "execution_count": 74,
      "metadata": {
        "id": "dPuYN3o2c3gt",
        "colab": {
          "base_uri": "https://localhost:8080/"
        },
        "outputId": "5efa57cb-78d1-4d30-a364-474cc87acf88"
      },
      "outputs": [
        {
          "output_type": "stream",
          "name": "stdout",
          "text": [
            "SLF4J: Class path contains multiple SLF4J bindings.\n",
            "SLF4J: Found binding in [jar:file:/usr/local/apache-hive-3.1.2-bin/lib/log4j-slf4j-impl-2.10.0.jar!/org/slf4j/impl/StaticLoggerBinder.class]\n",
            "SLF4J: Found binding in [jar:file:/usr/local/hadoop-3.3.1/share/hadoop/common/lib/slf4j-log4j12-1.7.30.jar!/org/slf4j/impl/StaticLoggerBinder.class]\n",
            "SLF4J: See http://www.slf4j.org/codes.html#multiple_bindings for an explanation.\n",
            "SLF4J: Actual binding is of type [org.apache.logging.slf4j.Log4jLoggerFactory]\n",
            "Hive Session ID = 3a37eb4c-5487-460f-99b6-27e0ab13f428\n",
            "\n",
            "Logging initialized using configuration in jar:file:/usr/local/apache-hive-3.1.2-bin/lib/hive-common-3.1.2.jar!/hive-log4j2.properties Async: true\n",
            "Hive Session ID = 1a14990e-98b1-4958-99d3-b4abb5a56d4a\n",
            "Loading data to table userdb.ratings\n",
            "OK\n",
            "Time taken: 1.945 seconds\n",
            "Loading data to table userdb.movies\n",
            "OK\n",
            "Time taken: 0.223 seconds\n"
          ]
        }
      ],
      "source": [
        "# load data\n",
        "str = \"\"\"\n",
        "LOAD DATA INPATH '/root/input/u.data'\n",
        "OVERWRITE INTO TABLE userdb.ratings;\n",
        "\n",
        "LOAD DATA INPATH '/root/input/u.item'\n",
        "OVERWRITE INTO TABLE userdb.movies;\n",
        "\"\"\"\n",
        "\n",
        "!{HIVE_HOME}/bin/hive -e \"{str}\""
      ]
    },
    {
      "cell_type": "code",
      "execution_count": 75,
      "metadata": {
        "id": "qHeDmVYCdcWY",
        "colab": {
          "base_uri": "https://localhost:8080/"
        },
        "outputId": "2f365c82-b9c5-41e3-e1ea-b731c7e7721c"
      },
      "outputs": [
        {
          "output_type": "stream",
          "name": "stdout",
          "text": [
            "SLF4J: Class path contains multiple SLF4J bindings.\n",
            "SLF4J: Found binding in [jar:file:/usr/local/apache-hive-3.1.2-bin/lib/log4j-slf4j-impl-2.10.0.jar!/org/slf4j/impl/StaticLoggerBinder.class]\n",
            "SLF4J: Found binding in [jar:file:/usr/local/hadoop-3.3.1/share/hadoop/common/lib/slf4j-log4j12-1.7.30.jar!/org/slf4j/impl/StaticLoggerBinder.class]\n",
            "SLF4J: See http://www.slf4j.org/codes.html#multiple_bindings for an explanation.\n",
            "SLF4J: Actual binding is of type [org.apache.logging.slf4j.Log4jLoggerFactory]\n",
            "Hive Session ID = 0ead622e-7c16-4390-9503-cce21f6282e2\n",
            "\n",
            "Logging initialized using configuration in jar:file:/usr/local/apache-hive-3.1.2-bin/lib/hive-common-3.1.2.jar!/hive-log4j2.properties Async: true\n",
            "Hive Session ID = ccccce53-2251-40d0-8a3a-e8f230fa3ffc\n",
            "OK\n",
            "196\t242\t3\t881250949\n",
            "186\t302\t3\t891717742\n",
            "22\t377\t1\t878887116\n",
            "244\t51\t2\t880606923\n",
            "166\t346\t1\t886397596\n",
            "298\t474\t4\t884182806\n",
            "115\t265\t2\t881171488\n",
            "253\t465\t5\t891628467\n",
            "305\t451\t3\t886324817\n",
            "6\t86\t3\t883603013\n",
            "Time taken: 2.713 seconds, Fetched: 10 row(s)\n",
            "OK\n",
            "1\tToy Story (1995)\n",
            "2\tGoldenEye (1995)\n",
            "3\tFour Rooms (1995)\n",
            "4\tGet Shorty (1995)\n",
            "5\tCopycat (1995)\n",
            "6\tShanghai Triad (Yao a yao yao dao waipo qiao) (1995)\n",
            "7\tTwelve Monkeys (1995)\n",
            "8\tBabe (1995)\n",
            "9\tDead Man Walking (1995)\n",
            "10\tRichard III (1995)\n",
            "Time taken: 0.246 seconds, Fetched: 10 row(s)\n"
          ]
        }
      ],
      "source": [
        "# show top 10 rows from both tables\n",
        "\n",
        "str = \"\"\"\n",
        "select * \n",
        "from userdb.ratings \n",
        "limit 10;\n",
        "\n",
        "select movieId, movieTitle \n",
        "from userdb.movies \n",
        "limit 10;\n",
        "\"\"\"\n",
        "\n",
        "!{HIVE_HOME}/bin/hive -e \"{str}\""
      ]
    },
    {
      "cell_type": "code",
      "execution_count": 82,
      "metadata": {
        "id": "RUJezLMOd0kn",
        "colab": {
          "base_uri": "https://localhost:8080/"
        },
        "outputId": "8ba63338-4e17-4f64-a71b-c66b301d5357"
      },
      "outputs": [
        {
          "output_type": "stream",
          "name": "stdout",
          "text": [
            "SLF4J: Class path contains multiple SLF4J bindings.\n",
            "SLF4J: Found binding in [jar:file:/usr/local/apache-hive-3.1.2-bin/lib/log4j-slf4j-impl-2.10.0.jar!/org/slf4j/impl/StaticLoggerBinder.class]\n",
            "SLF4J: Found binding in [jar:file:/usr/local/hadoop-3.3.1/share/hadoop/common/lib/slf4j-log4j12-1.7.30.jar!/org/slf4j/impl/StaticLoggerBinder.class]\n",
            "SLF4J: See http://www.slf4j.org/codes.html#multiple_bindings for an explanation.\n",
            "SLF4J: Actual binding is of type [org.apache.logging.slf4j.Log4jLoggerFactory]\n",
            "Hive Session ID = 1146146f-0f1e-49b4-919e-2b610205a1dc\n",
            "\n",
            "Logging initialized using configuration in jar:file:/usr/local/apache-hive-3.1.2-bin/lib/hive-common-3.1.2.jar!/hive-log4j2.properties Async: true\n",
            "Hive Session ID = 25b974a9-38c0-4caf-8883-7119c491d5d6\n",
            "Query ID = root_20220121015849_a9de2495-d882-4b35-acd1-7a274b6b8a24\n",
            "Total jobs = 2\n",
            "Launching Job 1 out of 2\n",
            "Number of reduce tasks not specified. Estimated from input data size: 1\n",
            "In order to change the average load for a reducer (in bytes):\n",
            "  set hive.exec.reducers.bytes.per.reducer=<number>\n",
            "In order to limit the maximum number of reducers:\n",
            "  set hive.exec.reducers.max=<number>\n",
            "In order to set a constant number of reducers:\n",
            "  set mapreduce.job.reduces=<number>\n",
            "Job running in-process (local Hadoop)\n",
            "2022-01-21 01:58:55,691 Stage-1 map = 100%,  reduce = 0%\n",
            "2022-01-21 01:58:56,700 Stage-1 map = 100%,  reduce = 100%\n",
            "Ended Job = job_local903323750_0001\n",
            "SLF4J: Class path contains multiple SLF4J bindings.\n",
            "SLF4J: Found binding in [jar:file:/usr/local/apache-hive-3.1.2-bin/lib/log4j-slf4j-impl-2.10.0.jar!/org/slf4j/impl/StaticLoggerBinder.class]\n",
            "SLF4J: Found binding in [jar:file:/usr/local/hadoop-3.3.1/share/hadoop/common/lib/slf4j-log4j12-1.7.30.jar!/org/slf4j/impl/StaticLoggerBinder.class]\n",
            "SLF4J: See http://www.slf4j.org/codes.html#multiple_bindings for an explanation.\n",
            "SLF4J: Actual binding is of type [org.apache.logging.slf4j.Log4jLoggerFactory]\n",
            "2022-01-21 01:59:03\tStarting to launch local task to process map join;\tmaximum memory = 239075328\n",
            "2022-01-21 01:59:04\tUploaded 1 File to: file:/user/local/hive/tmp/java/root/1146146f-0f1e-49b4-919e-2b610205a1dc/hive_2022-01-21_01-58-49_776_1626803077667658507-1/-local-10006/HashTable-Stage-3/MapJoin-mapfile01--.hashtable (76738 bytes)2022-01-21 01:59:04\tEnd of local task; Time Taken: 0.765 sec.\n",
            "Execution completed successfully\n",
            "MapredLocal task succeeded\n",
            "Launching Job 2 out of 2\n",
            "Number of reduce tasks determined at compile time: 1\n",
            "In order to change the average load for a reducer (in bytes):\n",
            "  set hive.exec.reducers.bytes.per.reducer=<number>\n",
            "In order to limit the maximum number of reducers:\n",
            "  set hive.exec.reducers.max=<number>\n",
            "In order to set a constant number of reducers:\n",
            "  set mapreduce.job.reduces=<number>\n",
            "Job running in-process (local Hadoop)\n",
            "2022-01-21 01:59:06,365 Stage-3 map = 100%,  reduce = 100%\n",
            "Ended Job = job_local425183113_0002\n",
            "MapReduce Jobs Launched: \n",
            "Stage-Stage-1:  HDFS Read: 0 HDFS Write: 0 SUCCESS\n",
            "Stage-Stage-3:  HDFS Read: 0 HDFS Write: 0 SUCCESS\n",
            "Total MapReduce CPU Time Spent: 0 msec\n",
            "OK\n",
            "408\tClose Shave, A (1995)\t4.491071428571429\n",
            "318\tSchindler's List (1993)\t4.466442953020135\n",
            "169\tWrong Trousers, The (1993)\t4.466101694915254\n",
            "483\tCasablanca (1942)\t4.45679012345679\n",
            "64\tShawshank Redemption, The (1994)\t4.445229681978798\n",
            "603\tRear Window (1954)\t4.3875598086124405\n",
            "12\tUsual Suspects, The (1995)\t4.385767790262173\n",
            "50\tStar Wars (1977)\t4.3584905660377355\n",
            "178\t12 Angry Men (1957)\t4.344\n",
            "134\tCitizen Kane (1941)\t4.292929292929293\n",
            "Time taken: 16.671 seconds, Fetched: 10 row(s)\n"
          ]
        }
      ],
      "source": [
        "# show the 10 movies with the highest average rating and which received at least 100 ratings\n",
        "\n",
        "str = \"\"\"\n",
        "with rat as \n",
        "  (select movieId, avg(rating) as avgRating, count(*) as cnt \n",
        "  from userdb.ratings \n",
        "  group by movieId) \n",
        "select rat.movieId, mov.movieTitle, rat.avgRating \n",
        "from rat join userdb.movies mov on rat.movieId=mov.movieId \n",
        "where cnt >= 100\n",
        "order by avgRating desc \n",
        "limit 10;\n",
        "\"\"\"\n",
        "\n",
        "!{HIVE_HOME}/bin/hive -e \"{str}\""
      ]
    },
    {
      "cell_type": "code",
      "source": [
        "# show the 10 movies with the longest title which received at least 10 ratings\n",
        "\n",
        "str = \"\"\"\n",
        "\n",
        "PLEASE COMPLETE\n",
        "\n",
        "\"\"\"\n",
        "\n",
        "!{HIVE_HOME}/bin/hive -e \"{str}\""
      ],
      "metadata": {
        "colab": {
          "base_uri": "https://localhost:8080/"
        },
        "id": "2zGgmohed8hn",
        "outputId": "91b0ce8e-a073-4ad1-98cf-921da9cddc92"
      },
      "execution_count": 89,
      "outputs": [
        {
          "output_type": "stream",
          "name": "stdout",
          "text": [
            "SLF4J: Class path contains multiple SLF4J bindings.\n",
            "SLF4J: Found binding in [jar:file:/usr/local/apache-hive-3.1.2-bin/lib/log4j-slf4j-impl-2.10.0.jar!/org/slf4j/impl/StaticLoggerBinder.class]\n",
            "SLF4J: Found binding in [jar:file:/usr/local/hadoop-3.3.1/share/hadoop/common/lib/slf4j-log4j12-1.7.30.jar!/org/slf4j/impl/StaticLoggerBinder.class]\n",
            "SLF4J: See http://www.slf4j.org/codes.html#multiple_bindings for an explanation.\n",
            "SLF4J: Actual binding is of type [org.apache.logging.slf4j.Log4jLoggerFactory]\n",
            "Hive Session ID = 1173e7e3-bd6a-4443-9e0a-22fa62c7851c\n",
            "\n",
            "Logging initialized using configuration in jar:file:/usr/local/apache-hive-3.1.2-bin/lib/hive-common-3.1.2.jar!/hive-log4j2.properties Async: true\n",
            "Hive Session ID = 6ce4e8bd-dd48-49d3-acb5-a580f4051405\n",
            "Query ID = root_20220121020721_4e0a249d-7f16-4540-bad4-e2d0d7da64d6\n",
            "Total jobs = 2\n",
            "Launching Job 1 out of 2\n",
            "Number of reduce tasks not specified. Estimated from input data size: 1\n",
            "In order to change the average load for a reducer (in bytes):\n",
            "  set hive.exec.reducers.bytes.per.reducer=<number>\n",
            "In order to limit the maximum number of reducers:\n",
            "  set hive.exec.reducers.max=<number>\n",
            "In order to set a constant number of reducers:\n",
            "  set mapreduce.job.reduces=<number>\n",
            "Job running in-process (local Hadoop)\n",
            "2022-01-21 02:07:27,621 Stage-1 map = 100%,  reduce = 0%\n",
            "2022-01-21 02:07:28,628 Stage-1 map = 100%,  reduce = 100%\n",
            "Ended Job = job_local881714484_0001\n",
            "\n",
            "SLF4J: Found binding in [jar:file:/usr/local/apache-hive-3.1.2-bin/lib/log4j-slf4j-impl-2.10.0.jar!/org/slf4j/impl/StaticLoggerBinder.class]\n",
            "SLF4J: Found binding in [jar:file:/usr/local/hadoop-3.3.1/share/hadoop/common/lib/slf4j-log4j12-1.7.30.jar!/org/slf4j/impl/StaticLoggerBinder.class]\n",
            "SLF4J: See http://www.slf4j.org/codes.html#multiple_bindings for an explanation.\n",
            "SLF4J: Actual binding is of type [org.apache.logging.slf4j.Log4jLoggerFactory]\n",
            "2022-01-21 02:07:35\tStarting to launch local task to process map join;\tmaximum memory = 239075328\n",
            "2022-01-21 02:07:36\tDump the side-table for tag: 1 with group count: 1682 into file: file:/user/local/hive/tmp/java/root/1173e7e3-bd6a-4443-9e0a-22fa62c7851c/hive_2022-01-21_02-07-21_956_6958384418127256220-1/-local-10006/HashTable-Stage-3/MapJoin-mapfile01--.hashtable\n",
            "2022-01-21 02:07:36\tEnd of local task; Time Taken: 0.833 sec.\n",
            "Execution completed successfully\n",
            "MapredLocal task succeeded\n",
            "Launching Job 2 out of 2\n",
            "Number of reduce tasks determined at compile time: 1\n",
            "In order to change the average load for a reducer (in bytes):\n",
            "  set hive.exec.reducers.bytes.per.reducer=<number>\n",
            "In order to limit the maximum number of reducers:\n",
            "  set hive.exec.reducers.max=<number>\n",
            "In order to set a constant number of reducers:\n",
            "  set mapreduce.job.reduces=<number>\n",
            "Job running in-process (local Hadoop)\n",
            "2022-01-21 02:07:38,617 Stage-3 map = 100%,  reduce = 100%\n",
            "Ended Job = job_local2136102110_0002\n",
            "MapReduce Jobs Launched: \n",
            "Stage-Stage-1:  HDFS Read: 0 HDFS Write: 0 SUCCESS\n",
            "Stage-Stage-3:  HDFS Read: 0 HDFS Write: 0 SUCCESS\n",
            "Total MapReduce CPU Time Spent: 0 msec\n",
            "OK\n",
            "1059\t79\tDon't Be a Menace to South Central While Drinking Your Juice in the Hood (1996)\n",
            "474\t75\tDr. Strangelove or: How I Learned to Stop Worrying and Love the Bomb (1963)\n",
            "863\t68\tGarden of Finzi-Contini, The (Giardino dei Finzi-Contini, Il) (1970)\n",
            "580\t67\tEnglishman Who Went Up a Hill, But Came Down a Mountain, The (1995)\n",
            "1005\t66\tDouble vie de V�ronique, La (Double Life of Veronique, The) (1991)\n",
            "638\t65\tReturn of Martin Guerre, The (Retour de Martin Guerre, Le) (1982)\n",
            "1121\t65\tUmbrellas of Cherbourg, The (Parapluies de Cherbourg, Les) (1964)\n",
            "320\t59\tParadise Lost: The Child Murders at Robin Hood Hills (1996)\n",
            "462\t58\tLike Water For Chocolate (Como agua para chocolate) (1992)\n",
            "1006\t57\tUntil the End of the World (Bis ans Ende der Welt) (1991)\n",
            "Time taken: 16.744 seconds, Fetched: 10 row(s)\n"
          ]
        }
      ]
    },
    {
      "cell_type": "markdown",
      "metadata": {
        "id": "Q-L3L0pyxb6h"
      },
      "source": [
        "# Congratulations"
      ]
    },
    {
      "cell_type": "markdown",
      "metadata": {
        "id": "wigO7aVazDpi"
      },
      "source": [
        "Congratulations if you reached the end of this Notebook successfully! \n",
        "\n",
        "You should know by now how to solve Big Data problems with Hadoop and Hive. Despite the simplicity of the problems presented, they require the use of typical data operations such as read, store, join, aggregate, filter, and apply user-defined transformations. These operations form the basis for more complex applications that you should try to implement. \n",
        "\n",
        "--- Miguel Costa"
      ]
    },
    {
      "cell_type": "code",
      "source": [
        ""
      ],
      "metadata": {
        "id": "0U3T8chtVrI-"
      },
      "execution_count": null,
      "outputs": []
    }
  ],
  "metadata": {
    "colab": {
      "collapsed_sections": [],
      "name": "hadoop_hdfs_hive.ipynb",
      "provenance": []
    },
    "kernelspec": {
      "display_name": "Python 3",
      "name": "python3"
    },
    "language_info": {
      "name": "python"
    }
  },
  "nbformat": 4,
  "nbformat_minor": 0
}